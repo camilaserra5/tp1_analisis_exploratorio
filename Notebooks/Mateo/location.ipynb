{
 "cells": [
  {
   "cell_type": "code",
   "execution_count": 1,
   "metadata": {},
   "outputs": [],
   "source": [
    "import numpy as np \n",
    "import pandas as pd\n",
    "import datetime as datetime\n",
    "import matplotlib.pyplot as plt\n",
    "import seaborn as sns\n",
    "\n",
    "pd.options.display.float_format = '{:20,.2f}'.format # suprimimos la notacion cientifica en los outputs"
   ]
  },
  {
   "cell_type": "code",
   "execution_count": 2,
   "metadata": {},
   "outputs": [
    {
     "data": {
      "text/html": [
       "<div>\n",
       "<style scoped>\n",
       "    .dataframe tbody tr th:only-of-type {\n",
       "        vertical-align: middle;\n",
       "    }\n",
       "\n",
       "    .dataframe tbody tr th {\n",
       "        vertical-align: top;\n",
       "    }\n",
       "\n",
       "    .dataframe thead th {\n",
       "        text-align: right;\n",
       "    }\n",
       "</style>\n",
       "<table border=\"1\" class=\"dataframe\">\n",
       "  <thead>\n",
       "    <tr style=\"text-align: right;\">\n",
       "      <th></th>\n",
       "      <th>timestamp</th>\n",
       "      <th>event</th>\n",
       "      <th>person</th>\n",
       "      <th>url</th>\n",
       "      <th>sku</th>\n",
       "      <th>model</th>\n",
       "      <th>condition</th>\n",
       "      <th>storage</th>\n",
       "      <th>color</th>\n",
       "      <th>skus</th>\n",
       "      <th>...</th>\n",
       "      <th>search_engine</th>\n",
       "      <th>channel</th>\n",
       "      <th>new_vs_returning</th>\n",
       "      <th>city</th>\n",
       "      <th>region</th>\n",
       "      <th>country</th>\n",
       "      <th>device_type</th>\n",
       "      <th>screen_resolution</th>\n",
       "      <th>operating_system_version</th>\n",
       "      <th>browser_version</th>\n",
       "    </tr>\n",
       "  </thead>\n",
       "  <tbody>\n",
       "    <tr>\n",
       "      <th>0</th>\n",
       "      <td>2018-05-31 23:38:05</td>\n",
       "      <td>ad campaign hit</td>\n",
       "      <td>0004b0a2</td>\n",
       "      <td>/comprar/iphone/iphone-5s</td>\n",
       "      <td>NaN</td>\n",
       "      <td>NaN</td>\n",
       "      <td>NaN</td>\n",
       "      <td>NaN</td>\n",
       "      <td>NaN</td>\n",
       "      <td>NaN</td>\n",
       "      <td>...</td>\n",
       "      <td>NaN</td>\n",
       "      <td>NaN</td>\n",
       "      <td>NaN</td>\n",
       "      <td>NaN</td>\n",
       "      <td>NaN</td>\n",
       "      <td>NaN</td>\n",
       "      <td>NaN</td>\n",
       "      <td>NaN</td>\n",
       "      <td>NaN</td>\n",
       "      <td>NaN</td>\n",
       "    </tr>\n",
       "  </tbody>\n",
       "</table>\n",
       "<p>1 rows × 23 columns</p>\n",
       "</div>"
      ],
      "text/plain": [
       "             timestamp            event    person                        url  \\\n",
       "0  2018-05-31 23:38:05  ad campaign hit  0004b0a2  /comprar/iphone/iphone-5s   \n",
       "\n",
       "   sku model condition storage color skus       ...       search_engine  \\\n",
       "0  NaN   NaN       NaN     NaN   NaN  NaN       ...                 NaN   \n",
       "\n",
       "  channel new_vs_returning city region country device_type screen_resolution  \\\n",
       "0     NaN              NaN  NaN    NaN     NaN         NaN               NaN   \n",
       "\n",
       "  operating_system_version browser_version  \n",
       "0                      NaN             NaN  \n",
       "\n",
       "[1 rows x 23 columns]"
      ]
     },
     "execution_count": 2,
     "metadata": {},
     "output_type": "execute_result"
    }
   ],
   "source": [
    "#Cargamos los datos\n",
    "events = pd.read_csv('C:\\\\Users\\\\dev\\\\repos\\\\fiuba\\\\tp1_anlisis_exploratorio\\\\events.csv', low_memory = False)\n",
    "#Cabecera\n",
    "events.head(1)"
   ]
  },
  {
   "cell_type": "code",
   "execution_count": 3,
   "metadata": {},
   "outputs": [],
   "source": [
    "#descarto las que no me interesan\n",
    "events.drop(columns=['channel','condition','storage','color','campaign_source','search_engine','url','staticpage','skus','search_term','device_type','browser_version','operating_system_version','screen_resolution','new_vs_returning'],inplace=True)\n",
    "#convierto los tipos\n",
    "events.event = events.event.astype('category')\n",
    "events.model = events.model.astype('category')\n",
    "events.city = events.city.astype('category')\n",
    "events.region = events.region.astype('category')\n",
    "events.country = events.country.astype('category')"
   ]
  },
  {
   "cell_type": "code",
   "execution_count": 4,
   "metadata": {
    "scrolled": true
   },
   "outputs": [
    {
     "data": {
      "text/html": [
       "<div>\n",
       "<style scoped>\n",
       "    .dataframe tbody tr th:only-of-type {\n",
       "        vertical-align: middle;\n",
       "    }\n",
       "\n",
       "    .dataframe tbody tr th {\n",
       "        vertical-align: top;\n",
       "    }\n",
       "\n",
       "    .dataframe thead th {\n",
       "        text-align: right;\n",
       "    }\n",
       "</style>\n",
       "<table border=\"1\" class=\"dataframe\">\n",
       "  <thead>\n",
       "    <tr style=\"text-align: right;\">\n",
       "      <th></th>\n",
       "      <th>event</th>\n",
       "      <th>person</th>\n",
       "      <th>sku</th>\n",
       "      <th>model</th>\n",
       "      <th>city</th>\n",
       "      <th>region</th>\n",
       "      <th>country</th>\n",
       "      <th>date</th>\n",
       "      <th>year</th>\n",
       "      <th>month</th>\n",
       "      <th>day</th>\n",
       "      <th>hour</th>\n",
       "      <th>minute</th>\n",
       "      <th>week</th>\n",
       "      <th>weekday</th>\n",
       "    </tr>\n",
       "    <tr>\n",
       "      <th>timestamp</th>\n",
       "      <th></th>\n",
       "      <th></th>\n",
       "      <th></th>\n",
       "      <th></th>\n",
       "      <th></th>\n",
       "      <th></th>\n",
       "      <th></th>\n",
       "      <th></th>\n",
       "      <th></th>\n",
       "      <th></th>\n",
       "      <th></th>\n",
       "      <th></th>\n",
       "      <th></th>\n",
       "      <th></th>\n",
       "      <th></th>\n",
       "    </tr>\n",
       "  </thead>\n",
       "  <tbody>\n",
       "    <tr>\n",
       "      <th>2018-01-01 07:32:26</th>\n",
       "      <td>ad campaign hit</td>\n",
       "      <td>9250d410</td>\n",
       "      <td>NaN</td>\n",
       "      <td>NaN</td>\n",
       "      <td>NaN</td>\n",
       "      <td>NaN</td>\n",
       "      <td>NaN</td>\n",
       "      <td>2018-01-01</td>\n",
       "      <td>2018</td>\n",
       "      <td>1</td>\n",
       "      <td>1</td>\n",
       "      <td>7</td>\n",
       "      <td>32</td>\n",
       "      <td>1</td>\n",
       "      <td>0</td>\n",
       "    </tr>\n",
       "  </tbody>\n",
       "</table>\n",
       "</div>"
      ],
      "text/plain": [
       "                               event    person  sku model city region country  \\\n",
       "timestamp                                                                       \n",
       "2018-01-01 07:32:26  ad campaign hit  9250d410  NaN   NaN  NaN    NaN     NaN   \n",
       "\n",
       "                           date  year  month  day  hour  minute  week  weekday  \n",
       "timestamp                                                                       \n",
       "2018-01-01 07:32:26  2018-01-01  2018      1    1     7      32     1        0  "
      ]
     },
     "execution_count": 4,
     "metadata": {},
     "output_type": "execute_result"
    }
   ],
   "source": [
    "#pongo de index al datetime y agrego columnas para segmentar el tiempo\n",
    "events.timestamp = pd.to_datetime(events['timestamp'],format='%Y-%m-%d %H:%M:%S')\n",
    "events.set_index(pd.DatetimeIndex(events.timestamp),inplace=True)\n",
    "events.drop(columns='timestamp',inplace=True)\n",
    "events['date'] = events.index.date\n",
    "events['year'] = events.index.year\n",
    "events['month'] = events.index.month\n",
    "events['day'] = events.index.day\n",
    "events['hour'] = events.index.hour\n",
    "events['minute'] = events.index.minute\n",
    "events['week'] = events.index.weekofyear\n",
    "events['weekday'] = events.index.weekday # monday = 0, tuesday = 1...\n",
    "events.sort_index(ascending=True,inplace=True)\n",
    "events.head(1)"
   ]
  },
  {
   "cell_type": "code",
   "execution_count": 44,
   "metadata": {
    "scrolled": false
   },
   "outputs": [],
   "source": [
    "def plot_heatmap(data,title='Titulo',xlabel='Leyenda X',ylabel='Leyenda Y'):\n",
    "    plt.figure(figsize = (18,9))\n",
    "    ax = sns.heatmap(data,linewidth = 3, cmap = 'Greens',robust=True)\n",
    "    ax.set_title(title,Fontsize = 20)\n",
    "    ax.set_ylabel(xlabel,Fontsize = 18)\n",
    "    ax.set_xlabel(ylabel,fontsize = 18)"
   ]
  },
  {
   "cell_type": "code",
   "execution_count": 6,
   "metadata": {},
   "outputs": [],
   "source": [
    "#todos los eventos, usuarios únicos, mes determinado\n",
    "def heatmap_unique_users_between_dates(desde='2018-01-01 00:00:00',hasta='2018-07-01 00:00:00',title='Cantidad de usuarios únicos por hora y día del mes'):\n",
    "    filtro = events[(events.index > desde)]\n",
    "    filtro = filtro[(filtro.index < hasta)]\n",
    "    per_date_total = filtro.groupby(['day','hour']).agg({'person':'nunique'}).unstack()\n",
    "    per_date_total.columns = per_date_total.columns.droplevel(0)\n",
    "    per_date_total.fillna(value=0,inplace=True)\n",
    "    per_date_total = per_date_total.astype(dtype='int64')\n",
    "    unique_users = per_date_total.transpose()\n",
    "    unique_users.sort_index(ascending=False,inplace=True)\n",
    "    plot_heatmap(unique_users,title,'Hora del Día','Día del mes')"
   ]
  },
  {
   "cell_type": "code",
   "execution_count": 45,
   "metadata": {},
   "outputs": [
    {
     "data": {
      "image/png": "[encoded data removed]",
      "text/plain": [
       "<Figure size 1296x648 with 2 Axes>"
      ]
     },
     "metadata": {},
     "output_type": "display_data"
    }
   ],
   "source": [
    "#cuento usuarios unicos por dia agrupados por ciudad\n",
    "per_city_total = events.groupby(['city']).agg({'person':'nunique'}).unstack()\n",
    "top_cities = per_city_total.nlargest(21)\n",
    "top_cities = top_cities.reset_index()\n",
    "top_cities.index = top_cities['city']\n",
    "top_cities.drop(columns=['level_0','city'],inplace=True)\n",
    "top_cities.columns = ['unique_users']\n",
    "top_cities.drop('Unknown',inplace=True)\n",
    "top_cities = top_cities.index.get_values()\n",
    "\n",
    "filtered_events = events.loc[events.city.isin(top_cities)]\n",
    "\n",
    "per_week_city = filtered_events.groupby(['week','city']).agg({'person':'nunique'}).unstack()\n",
    "per_week_city.fillna(value=0,inplace=True)\n",
    "per_week_city = per_week_city.astype(dtype='int64')\n",
    "per_week_city.columns = per_week_city.columns.droplevel(0)\n",
    "per_week_city = per_week_city.transpose()\n",
    "plot_heatmap(per_week_city,'Cantidad de usuarios únicos en el top 20 de ciudades más activas','Ciudad','Semana del año')"
   ]
  },
  {
   "cell_type": "markdown",
   "metadata": {},
   "source": [
    "(revisar el parámetro robust del heatmap)\n",
    "A partir de este heatmap podríamos inferir que en San Pablo se adelantó el fuerte aumento de la cantidad de usuarios de la semana 19."
   ]
  }
 ],
 "metadata": {
  "kernelspec": {
   "display_name": "Python 3",
   "language": "python",
   "name": "python3"
  },
  "language_info": {
   "codemirror_mode": {
    "name": "ipython",
    "version": 3
   },
   "file_extension": ".py",
   "mimetype": "text/x-python",
   "name": "python",
   "nbconvert_exporter": "python",
   "pygments_lexer": "ipython3",
   "version": "3.6.5"
  }
 },
 "nbformat": 4,
 "nbformat_minor": 2
}
