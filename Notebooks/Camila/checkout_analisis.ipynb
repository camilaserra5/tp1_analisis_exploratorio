{
 "cells": [
  {
   "cell_type": "markdown",
   "metadata": {},
   "source": [
    "## En este notebook vamos a analizar los checkout y las caracteristicas de los celulares vendidos. Ademas vamos a analizar las busquedas y ver si hay una correlacion entre los eventos."
   ]
  },
  {
   "cell_type": "code",
   "execution_count": 2,
   "metadata": {},
   "outputs": [],
   "source": [
    "#Inlcuimos las librerias que vamos a utilizar\n",
    "import numpy as np \n",
    "import pandas as pd\n",
    "import datetime as datetime\n",
    "\n",
    "# plots\n",
    "import matplotlib.pyplot as plt\n",
    "import seaborn as sns\n",
    "sns.set(style=\"whitegrid\")\n",
    "%matplotlib inline"
   ]
  },
  {
   "cell_type": "code",
   "execution_count": 3,
   "metadata": {},
   "outputs": [],
   "source": [
    "#Cargamos los datos\n",
    "events = pd.read_csv('events.csv', low_memory = False)"
   ]
  },
  {
   "cell_type": "code",
   "execution_count": 4,
   "metadata": {},
   "outputs": [],
   "source": [
    "#categorizamos\n",
    "events['timestamp'] = pd.to_datetime(events['timestamp'], errors = 'coerce', format= '%Y-%m-%d')\n",
    "events['event'] = events['event'].astype('category')"
   ]
  },
  {
   "cell_type": "code",
   "execution_count": 4,
   "metadata": {},
   "outputs": [
    {
     "data": {
      "text/html": [
       "<div>\n",
       "<style scoped>\n",
       "    .dataframe tbody tr th:only-of-type {\n",
       "        vertical-align: middle;\n",
       "    }\n",
       "\n",
       "    .dataframe tbody tr th {\n",
       "        vertical-align: top;\n",
       "    }\n",
       "\n",
       "    .dataframe thead th {\n",
       "        text-align: right;\n",
       "    }\n",
       "</style>\n",
       "<table border=\"1\" class=\"dataframe\">\n",
       "  <thead>\n",
       "    <tr style=\"text-align: right;\">\n",
       "      <th></th>\n",
       "      <th>timestamp</th>\n",
       "      <th>person</th>\n",
       "      <th>model</th>\n",
       "      <th>condition</th>\n",
       "      <th>storage</th>\n",
       "      <th>color</th>\n",
       "    </tr>\n",
       "  </thead>\n",
       "  <tbody>\n",
       "    <tr>\n",
       "      <th>3</th>\n",
       "      <td>2018-05-31 23:38:40</td>\n",
       "      <td>0004b0a2</td>\n",
       "      <td>iPhone 5s</td>\n",
       "      <td>Bom</td>\n",
       "      <td>32GB</td>\n",
       "      <td>Cinza espacial</td>\n",
       "    </tr>\n",
       "    <tr>\n",
       "      <th>7</th>\n",
       "      <td>2018-05-29 13:29:35</td>\n",
       "      <td>0006a21a</td>\n",
       "      <td>Samsung Galaxy S8</td>\n",
       "      <td>Bom</td>\n",
       "      <td>64GB</td>\n",
       "      <td>Dourado</td>\n",
       "    </tr>\n",
       "    <tr>\n",
       "      <th>44</th>\n",
       "      <td>2018-05-24 11:34:32</td>\n",
       "      <td>000a54b2</td>\n",
       "      <td>Motorola Moto Z Play</td>\n",
       "      <td>Bom</td>\n",
       "      <td>32GB</td>\n",
       "      <td>Preto</td>\n",
       "    </tr>\n",
       "    <tr>\n",
       "      <th>85</th>\n",
       "      <td>2018-04-06 05:14:58</td>\n",
       "      <td>00184bf9</td>\n",
       "      <td>Samsung Galaxy J5</td>\n",
       "      <td>Excelente</td>\n",
       "      <td>16GB</td>\n",
       "      <td>Preto</td>\n",
       "    </tr>\n",
       "    <tr>\n",
       "      <th>86</th>\n",
       "      <td>2018-04-06 05:18:15</td>\n",
       "      <td>00184bf9</td>\n",
       "      <td>Samsung Galaxy J5</td>\n",
       "      <td>Excelente</td>\n",
       "      <td>16GB</td>\n",
       "      <td>Preto</td>\n",
       "    </tr>\n",
       "  </tbody>\n",
       "</table>\n",
       "</div>"
      ],
      "text/plain": [
       "             timestamp    person                 model  condition storage  \\\n",
       "3  2018-05-31 23:38:40  0004b0a2             iPhone 5s        Bom    32GB   \n",
       "7  2018-05-29 13:29:35  0006a21a     Samsung Galaxy S8        Bom    64GB   \n",
       "44 2018-05-24 11:34:32  000a54b2  Motorola Moto Z Play        Bom    32GB   \n",
       "85 2018-04-06 05:14:58  00184bf9     Samsung Galaxy J5  Excelente    16GB   \n",
       "86 2018-04-06 05:18:15  00184bf9     Samsung Galaxy J5  Excelente    16GB   \n",
       "\n",
       "             color  \n",
       "3   Cinza espacial  \n",
       "7          Dourado  \n",
       "44           Preto  \n",
       "85           Preto  \n",
       "86           Preto  "
      ]
     },
     "execution_count": 4,
     "metadata": {},
     "output_type": "execute_result"
    }
   ],
   "source": [
    "checkout = events[events['event'] == 'checkout']\n",
    "checkout = checkout[['timestamp', 'person','model','condition','storage','color']]\n",
    "checkout.head()"
   ]
  },
  {
   "cell_type": "code",
   "execution_count": 5,
   "metadata": {},
   "outputs": [
    {
     "name": "stdout",
     "output_type": "stream",
     "text": [
      "<class 'pandas.core.frame.DataFrame'>\n",
      "Int64Index: 33735 entries, 3 to 1011287\n",
      "Data columns (total 6 columns):\n",
      "timestamp    33735 non-null datetime64[ns]\n",
      "person       33735 non-null object\n",
      "model        33733 non-null object\n",
      "condition    33733 non-null object\n",
      "storage      33733 non-null object\n",
      "color        33733 non-null object\n",
      "dtypes: datetime64[ns](1), object(5)\n",
      "memory usage: 1.8+ MB\n"
     ]
    }
   ],
   "source": [
    "checkout.info()"
   ]
  },
  {
   "cell_type": "code",
   "execution_count": 6,
   "metadata": {},
   "outputs": [
    {
     "data": {
      "image/png": "[encoded data removed]",
      "text/plain": [
       "<Figure size 432x288 with 1 Axes>"
      ]
     },
     "metadata": {},
     "output_type": "display_data"
    }
   ],
   "source": [
    "g = checkout['condition'].value_counts().sort_values().plot(kind = 'barh',color='green')\n",
    "g.set_title('Condicion de los telefonos comprados',fontsize = 18)\n",
    "g.set_ylabel('Condicion',fontsize = 14)\n",
    "g.set_xlabel('Cantidad',fontsize = 14);"
   ]
  },
  {
   "cell_type": "code",
   "execution_count": 7,
   "metadata": {},
   "outputs": [
    {
     "data": {
      "image/png": "[encoded data removed]",
      "text/plain": [
       "<Figure size 432x288 with 1 Axes>"
      ]
     },
     "metadata": {},
     "output_type": "display_data"
    }
   ],
   "source": [
    "g = checkout['color'].value_counts().head(10).sort_values().plot(kind = 'barh',color ='blue')\n",
    "g.set_title('Top 10 de colores mas comprados',fontsize = 18)\n",
    "g.set_ylabel('Color',fontsize = 14)\n",
    "g.set_xlabel('Cantidad',fontsize = 14);"
   ]
  },
  {
   "cell_type": "code",
   "execution_count": 8,
   "metadata": {},
   "outputs": [
    {
     "data": {
      "image/png": "[encoded data removed]",
      "text/plain": [
       "<Figure size 432x288 with 1 Axes>"
      ]
     },
     "metadata": {},
     "output_type": "display_data"
    }
   ],
   "source": [
    "g = checkout['storage'].value_counts().plot(kind = 'bar', color='red')\n",
    "g.set_title('Capacidades de los telefonos comprados',fontsize = 18)\n",
    "g.set_xlabel('Capacidad',fontsize = 14)\n",
    "g.set_ylabel('Cantidad',fontsize = 14)\n",
    "g.set_xticklabels(g.get_xticklabels(), rotation = 45, fontsize = 10);"
   ]
  },
  {
   "cell_type": "markdown",
   "metadata": {},
   "source": [
    "Se puede ver que los telefonos de 16GB/32GB/64GB/128GB son los mas comprados, mientras que los de menor capacidad no tiene una alta demanda, se recomienda tener mas stock de estos telefonos"
   ]
  },
  {
   "cell_type": "code",
   "execution_count": 9,
   "metadata": {},
   "outputs": [
    {
     "data": {
      "image/png": "[encoded data removed]",
      "text/plain": [
       "<Figure size 432x432 with 1 Axes>"
      ]
     },
     "metadata": {},
     "output_type": "display_data"
    }
   ],
   "source": [
    "compras = checkout['model'].value_counts().head(15).sort_values()\n",
    "g = plt.subplots(figsize = (6,6))\n",
    "g = compras.plot(kind = 'barh', color = 'red')\n",
    "g.set_title('Top 15 de modelos mas comprados',fontsize = 18)\n",
    "g.set_xlabel('Cantidad',fontsize = 14)\n",
    "g.set_ylabel('Modelos',fontsize = 14); #Estaria bueno superponer este grafico con el otro para compara el ranking de busqueda contra compra\n",
    "                                      #y sacar conclusiones"
   ]
  },
  {
   "cell_type": "markdown",
   "metadata": {},
   "source": [
    "#### Al igual que los modelos mas buscados, los iPhone son los telefonos mas demandados. En segundo lugar estan los Samsung galaxy S7, S8 y J5. "
   ]
  },
  {
   "cell_type": "markdown",
   "metadata": {},
   "source": [
    "#### Analizamos las caracteristicas de los modelos mas comprados"
   ]
  },
  {
   "cell_type": "code",
   "execution_count": 10,
   "metadata": {},
   "outputs": [
    {
     "data": {
      "text/html": [
       "<div>\n",
       "<style scoped>\n",
       "    .dataframe tbody tr th:only-of-type {\n",
       "        vertical-align: middle;\n",
       "    }\n",
       "\n",
       "    .dataframe tbody tr th {\n",
       "        vertical-align: top;\n",
       "    }\n",
       "\n",
       "    .dataframe thead th {\n",
       "        text-align: right;\n",
       "    }\n",
       "</style>\n",
       "<table border=\"1\" class=\"dataframe\">\n",
       "  <thead>\n",
       "    <tr style=\"text-align: right;\">\n",
       "      <th>condition</th>\n",
       "      <th>Bom</th>\n",
       "      <th>Bom - Sem Touch ID</th>\n",
       "      <th>Excelente</th>\n",
       "      <th>Muito Bom</th>\n",
       "    </tr>\n",
       "    <tr>\n",
       "      <th>capacidad</th>\n",
       "      <th></th>\n",
       "      <th></th>\n",
       "      <th></th>\n",
       "      <th></th>\n",
       "    </tr>\n",
       "  </thead>\n",
       "  <tbody>\n",
       "    <tr>\n",
       "      <th>128GB</th>\n",
       "      <td>110</td>\n",
       "      <td>5</td>\n",
       "      <td>60</td>\n",
       "      <td>60</td>\n",
       "    </tr>\n",
       "    <tr>\n",
       "      <th>16GB</th>\n",
       "      <td>903</td>\n",
       "      <td>284</td>\n",
       "      <td>438</td>\n",
       "      <td>298</td>\n",
       "    </tr>\n",
       "    <tr>\n",
       "      <th>64GB</th>\n",
       "      <td>524</td>\n",
       "      <td>10</td>\n",
       "      <td>326</td>\n",
       "      <td>277</td>\n",
       "    </tr>\n",
       "  </tbody>\n",
       "</table>\n",
       "</div>"
      ],
      "text/plain": [
       "condition  Bom  Bom - Sem Touch ID  Excelente  Muito Bom\n",
       "capacidad                                               \n",
       "128GB      110                   5         60         60\n",
       "16GB       903                 284        438        298\n",
       "64GB       524                  10        326        277"
      ]
     },
     "execution_count": 10,
     "metadata": {},
     "output_type": "execute_result"
    }
   ],
   "source": [
    "iPhone6_comprados = checkout[checkout['model'] == 'iPhone 6']\n",
    "iPhone6_comprados = iPhone6_comprados[['storage','condition']]\n",
    "iPhone6_comprados = pd.DataFrame(iPhone6_comprados.groupby('storage')['condition'].value_counts())\n",
    "iPhone6_comprados = iPhone6_comprados.rename(columns = {'condition':'cantidad'})\n",
    "iPhone6_comprados = iPhone6_comprados.reset_index()\n",
    "iPhone6_comprados = iPhone6_comprados.rename(columns = {'storage':'capacidad'})\n",
    "iPhone6_comprados = iPhone6_comprados.pivot('capacidad','condition','cantidad')\n",
    "iPhone6_comprados"
   ]
  },
  {
   "cell_type": "code",
   "execution_count": 11,
   "metadata": {},
   "outputs": [
    {
     "data": {
      "image/png": "[encoded data removed]",
      "text/plain": [
       "<Figure size 576x288 with 2 Axes>"
      ]
     },
     "metadata": {},
     "output_type": "display_data"
    }
   ],
   "source": [
    "plt.figure(figsize = (8,4))\n",
    "ax = sns.heatmap(iPhone6_comprados,linewidth = 3, cmap = 'Greens')\n",
    "ax.set_title('Caracteristicas de los iPhone 6 comprados',Fontsize = 20)\n",
    "ax.set_ylabel('Capacidad',Fontsize = 18)\n",
    "ax.set_xlabel('Condicion',fontsize = 18);"
   ]
  },
  {
   "cell_type": "code",
   "execution_count": 12,
   "metadata": {},
   "outputs": [],
   "source": [
    "#Se podria analizar las marcas y comparar tambien\n",
    "#Conviene hacer un grafico de los modelos mas comprados teniendo en cuenta sus capacidades?"
   ]
  },
  {
   "cell_type": "markdown",
   "metadata": {},
   "source": [
    "#### ¿Los clientes quedan conformes con el servicio brindado?"
   ]
  },
  {
   "cell_type": "code",
   "execution_count": 13,
   "metadata": {},
   "outputs": [
    {
     "data": {
      "text/plain": [
       "1.22122067767159"
      ]
     },
     "execution_count": 13,
     "metadata": {},
     "output_type": "execute_result"
    }
   ],
   "source": [
    "checkout['person'].value_counts().mean() #en promedio la persona que compro una ves no esta volviendo a comprar, se esta haciendo\n",
    "                                         #poca publicidad sobre la gente que ya compro? Estan quedando satisfechos con el servicio?\n",
    "                                         #Los productos son buenos entonces la gente no tiene que volver a comprar? Hay que tener en cuenta\n",
    "                                         #que los datos son solo del 2018"
   ]
  },
  {
   "cell_type": "code",
   "execution_count": 15,
   "metadata": {},
   "outputs": [
    {
     "data": {
      "image/png": "[encoded data removed]",
      "text/plain": [
       "<Figure size 1080x540 with 1 Axes>"
      ]
     },
     "metadata": {},
     "output_type": "display_data"
    }
   ],
   "source": [
    "g = checkout['person'].value_counts().value_counts().sort_index().plot(kind = 'bar', color='red',  figsize=(15,7.5) ) # con normalize = True en value_counts se podria mostrar en % \n",
    "g.set_title('Cantidad de clientes vs compras hechas por cada cliente',fontsize = 18)\n",
    "g.set_xlabel('Cantidad de compras',fontsize = 14)\n",
    "g.set_ylabel('Cantidad de clientes',fontsize = 14);"
   ]
  },
  {
   "cell_type": "markdown",
   "metadata": {},
   "source": [
    "#### Se puede ver en el grafico que la gran mayoria de los compadores no vuelven a comprar, se podria realizar algun tipo de encuesta para saber si quedan satisfechos con el serviocio brindado"
   ]
  },
  {
   "cell_type": "markdown",
   "metadata": {},
   "source": [
    "#### ¿Cuando hay mayor actividad en las ventas a lo largo de la semana?"
   ]
  },
  {
   "cell_type": "code",
   "execution_count": null,
   "metadata": {},
   "outputs": [],
   "source": [
    "dias = checkout['timestamp'].dt.weekday_name.value_counts().sort_values()\n",
    "dias = dias.reindex(['Monday','Tuesday','Wednesday','Thursday','Friday','Saturday','Sunday'])\n",
    "dias"
   ]
  },
  {
   "cell_type": "code",
   "execution_count": null,
   "metadata": {},
   "outputs": [],
   "source": [
    "#este grafico deberia empezar de 1?\n",
    "g = plt.subplots(figsize = (6,6))\n",
    "g = dias.plot(kind = 'bar',color='red')\n",
    "g.set_title('Compras a lo largo del semana',fontsize = 20)\n",
    "g.set_xlabel('Dia',fontsize = 16)\n",
    "g.set_ylabel('Cantidad',fontsize = 16)\n",
    "g.set_xticklabels(g.get_xticklabels(), rotation = 45, fontsize = 10);"
   ]
  },
  {
   "cell_type": "markdown",
   "metadata": {},
   "source": [
    "#### ¿Cuando hay mayor actividad en las ventas a lo largo del mes?"
   ]
  },
  {
   "cell_type": "code",
   "execution_count": null,
   "metadata": {},
   "outputs": [],
   "source": [
    "compras = checkout['timestamp'].dt.day.value_counts().sort_index()#este grafico deberia empezar de 1? mostrar 1,7,14,21,28?\n",
    "g = plt.subplots(figsize = (6,6))\n",
    "g = compras.plot(color='red')\n",
    "g.set_title('Compras a lo largo del mes',fontsize = 20)\n",
    "g.set_xlabel('Dia',fontsize = 16)\n",
    "g.set_ylabel('Cantidad',fontsize = 16);"
   ]
  },
  {
   "cell_type": "markdown",
   "metadata": {},
   "source": [
    "#### ¿Cuando hubo mayor actividad de ventas a lo largo del año?"
   ]
  },
  {
   "cell_type": "code",
   "execution_count": null,
   "metadata": {},
   "outputs": [],
   "source": [
    "compras = checkout['timestamp'].dt.month.value_counts().sort_index() #este grafico deberia empezar de 1?\n",
    "g = plt.subplots(figsize = (6,6))\n",
    "g = compras.plot(color='red')\n",
    "g.set_title('Compras a lo largo del 2018',fontsize = 20)\n",
    "g.set_xlabel('Mes',fontsize = 16)\n",
    "g.set_ylabel('Cantidad',fontsize = 16);"
   ]
  },
  {
   "cell_type": "code",
   "execution_count": null,
   "metadata": {},
   "outputs": [],
   "source": [
    "#Sacar concluciones"
   ]
  },
  {
   "cell_type": "markdown",
   "metadata": {},
   "source": [
    "## Productos y marcas mas buscadas"
   ]
  },
  {
   "cell_type": "code",
   "execution_count": null,
   "metadata": {},
   "outputs": [],
   "source": [
    "searched_products = events[events['event'] == 'searched products']\n",
    "searched_products = searched_products[['timestamp','person','search_term']]\n",
    "searched_products.head()"
   ]
  },
  {
   "cell_type": "code",
   "execution_count": null,
   "metadata": {},
   "outputs": [],
   "source": [
    "searched_products.info()"
   ]
  },
  {
   "cell_type": "code",
   "execution_count": null,
   "metadata": {},
   "outputs": [],
   "source": [
    "searched_products['search_term'].isnull().value_counts() #abria que decidir que hacemos con los nulls"
   ]
  },
  {
   "cell_type": "code",
   "execution_count": null,
   "metadata": {},
   "outputs": [],
   "source": [
    "busquedas = searched_products['search_term'].dropna().map(lambda x: x.lower()).value_counts().head(15)\n",
    "g = plt.subplots(figsize = (6,6))\n",
    "g = busquedas.plot(kind = 'barh',color='red')\n",
    "g.set_title('Top 15 modelos mas buscados',fontsize = 18)\n",
    "g.set_xlabel('Cantidad',fontsize = 14)\n",
    "g.set_ylabel('Modelos',fontsize = 14);"
   ]
  },
  {
   "cell_type": "code",
   "execution_count": null,
   "metadata": {},
   "outputs": [],
   "source": [
    "#el diccionario esta hecho a mano, vi las primeras posiciones y de ahi arme el diccionario, se podria pensar algo mejor. \n",
    "#no vi por ahora alguna funcion que haga la que defini, por ahi hay algo hecho pero no encontre\n",
    "marcas = {'iPhone':['iphone','7s','6s','5se','5c','iphone se'], 'Samsung':['j1','j2','j3','j4','j5','j6','j7','galaxy','s7','s6','s5','s8','s9','samsung'], 'Motorola':['moto'],'LG':['lg']}\n",
    "def asignar_marca(modelo):\n",
    "    for marca in marcas:\n",
    "        for m in marcas[marca]:\n",
    "            if m in modelo:\n",
    "                return marca\n",
    "    return 'Otro'\n",
    "marcas_buscadas = searched_products['search_term'].dropna().map(lambda x: asignar_marca(x.lower())).value_counts()\n",
    "marcas_buscadas #creo que es bastante que queden 8000 en otro"
   ]
  },
  {
   "cell_type": "code",
   "execution_count": null,
   "metadata": {},
   "outputs": [],
   "source": [
    "g = sns.barplot(x= marcas_buscadas.index, y=marcas_buscadas.values, orient= 'v',color='red')\n",
    "g.set_title('Cantidad de busquedas segun la marca del modelo',fontsize = 18)\n",
    "g.set_xlabel('Marcas',fontsize = 14)\n",
    "g.set_ylabel('Cantidad',fontsize = 14);"
   ]
  },
  {
   "cell_type": "code",
   "execution_count": null,
   "metadata": {},
   "outputs": [],
   "source": [
    "busquedas = searched_products['timestamp'].dt.day.value_counts().sort_index()#este grafico deberia empezar de 1? mostrar 1,7,14,21,28?\n",
    "g = busquedas.plot(color='red')\n",
    "g.set_title('Busquedas a lo largo del mes',fontsize = 20)\n",
    "g.set_xlabel('Dia',fontsize = 16)\n",
    "g.set_ylabel('Cantidad',fontsize = 16);"
   ]
  },
  {
   "cell_type": "markdown",
   "metadata": {},
   "source": [
    "#### ¿Se relaciona la cantidad de busquedas con la cantidad de compras a lo largo del mes?"
   ]
  },
  {
   "cell_type": "code",
   "execution_count": null,
   "metadata": {},
   "outputs": [],
   "source": [
    "busquedas = searched_products['timestamp'].dt.day.value_counts().sort_index() \n",
    "compras = checkout['timestamp'].dt.day.value_counts().sort_index()\n",
    "busquedas_vs_compras = busquedas.to_frame().rename({'timestamp':'Busquedas'},axis = 'columns')\n",
    "busquedas_vs_compras['Compras'] = compras\n",
    "g = busquedas_vs_compras.plot()\n",
    "g.set_title('Compras y Busquedas a lo largo del mes',fontsize = 20)\n",
    "g.set_xlabel('Dia',fontsize = 16)\n",
    "g.set_ylabel('Cantidad',fontsize = 16);"
   ]
  },
  {
   "cell_type": "code",
   "execution_count": 24,
   "metadata": {},
   "outputs": [
    {
     "data": {
      "text/html": [
       "<div>\n",
       "<style scoped>\n",
       "    .dataframe tbody tr th:only-of-type {\n",
       "        vertical-align: middle;\n",
       "    }\n",
       "\n",
       "    .dataframe tbody tr th {\n",
       "        vertical-align: top;\n",
       "    }\n",
       "\n",
       "    .dataframe thead th {\n",
       "        text-align: right;\n",
       "    }\n",
       "</style>\n",
       "<table border=\"1\" class=\"dataframe\">\n",
       "  <thead>\n",
       "    <tr style=\"text-align: right;\">\n",
       "      <th></th>\n",
       "      <th>marca</th>\n",
       "      <th>modelo</th>\n",
       "    </tr>\n",
       "  </thead>\n",
       "  <tbody>\n",
       "    <tr>\n",
       "      <th>0</th>\n",
       "      <td>NaN</td>\n",
       "      <td></td>\n",
       "    </tr>\n",
       "    <tr>\n",
       "      <th>1</th>\n",
       "      <td>NaN</td>\n",
       "      <td></td>\n",
       "    </tr>\n",
       "    <tr>\n",
       "      <th>2</th>\n",
       "      <td>iPhone</td>\n",
       "      <td>5s</td>\n",
       "    </tr>\n",
       "    <tr>\n",
       "      <th>3</th>\n",
       "      <td>iPhone</td>\n",
       "      <td>5s</td>\n",
       "    </tr>\n",
       "    <tr>\n",
       "      <th>4</th>\n",
       "      <td>Samsung</td>\n",
       "      <td>Galaxy S8</td>\n",
       "    </tr>\n",
       "  </tbody>\n",
       "</table>\n",
       "</div>"
      ],
      "text/plain": [
       "     marca     modelo\n",
       "0      NaN           \n",
       "1      NaN           \n",
       "2   iPhone        5s \n",
       "3   iPhone        5s \n",
       "4  Samsung  Galaxy S8"
      ]
     },
     "execution_count": 24,
     "metadata": {},
     "output_type": "execute_result"
    }
   ],
   "source": [
    "# agrego columnas marca y modelo\n",
    "events['marca'] = events['model'].str.split(' ').str[0]\n",
    "events['modelo'] = events['model'].str.split(' ').str[1].fillna('') + ' ' + events['model'].str.split(' ').str[2].fillna('')\n",
    "events[['marca', 'modelo']].head()"
   ]
  },
  {
   "cell_type": "code",
   "execution_count": 22,
   "metadata": {},
   "outputs": [
    {
     "data": {
      "text/html": [
       "<div>\n",
       "<style scoped>\n",
       "    .dataframe tbody tr th:only-of-type {\n",
       "        vertical-align: middle;\n",
       "    }\n",
       "\n",
       "    .dataframe tbody tr th {\n",
       "        vertical-align: top;\n",
       "    }\n",
       "\n",
       "    .dataframe thead th {\n",
       "        text-align: right;\n",
       "    }\n",
       "</style>\n",
       "<table border=\"1\" class=\"dataframe\">\n",
       "  <thead>\n",
       "    <tr style=\"text-align: right;\">\n",
       "      <th></th>\n",
       "      <th>event</th>\n",
       "    </tr>\n",
       "    <tr>\n",
       "      <th>marca</th>\n",
       "      <th></th>\n",
       "    </tr>\n",
       "  </thead>\n",
       "  <tbody>\n",
       "    <tr>\n",
       "      <th>iPhone</th>\n",
       "      <td>256585</td>\n",
       "    </tr>\n",
       "    <tr>\n",
       "      <th>Samsung</th>\n",
       "      <td>218127</td>\n",
       "    </tr>\n",
       "    <tr>\n",
       "      <th>Motorola</th>\n",
       "      <td>63518</td>\n",
       "    </tr>\n",
       "    <tr>\n",
       "      <th>LG</th>\n",
       "      <td>9724</td>\n",
       "    </tr>\n",
       "    <tr>\n",
       "      <th>Sony</th>\n",
       "      <td>7025</td>\n",
       "    </tr>\n",
       "    <tr>\n",
       "      <th>Lenovo</th>\n",
       "      <td>4779</td>\n",
       "    </tr>\n",
       "    <tr>\n",
       "      <th>Asus</th>\n",
       "      <td>2091</td>\n",
       "    </tr>\n",
       "    <tr>\n",
       "      <th>iPad</th>\n",
       "      <td>1914</td>\n",
       "    </tr>\n",
       "    <tr>\n",
       "      <th>Quantum</th>\n",
       "      <td>520</td>\n",
       "    </tr>\n",
       "    <tr>\n",
       "      <th>Blackberry</th>\n",
       "      <td>1</td>\n",
       "    </tr>\n",
       "  </tbody>\n",
       "</table>\n",
       "</div>"
      ],
      "text/plain": [
       "             event\n",
       "marca             \n",
       "iPhone      256585\n",
       "Samsung     218127\n",
       "Motorola     63518\n",
       "LG            9724\n",
       "Sony          7025\n",
       "Lenovo        4779\n",
       "Asus          2091\n",
       "iPad          1914\n",
       "Quantum        520\n",
       "Blackberry       1"
      ]
     },
     "execution_count": 22,
     "metadata": {},
     "output_type": "execute_result"
    }
   ],
   "source": [
    "# mostramos las marcas con mas eventos\n",
    "events.groupby('marca').agg({'event':'count'}).sort_values(by = 'event', ascending = False)"
   ]
  },
  {
   "cell_type": "code",
   "execution_count": 20,
   "metadata": {},
   "outputs": [
    {
     "data": {
      "text/html": [
       "<div>\n",
       "<style scoped>\n",
       "    .dataframe tbody tr th:only-of-type {\n",
       "        vertical-align: middle;\n",
       "    }\n",
       "\n",
       "    .dataframe tbody tr th {\n",
       "        vertical-align: top;\n",
       "    }\n",
       "\n",
       "    .dataframe thead th {\n",
       "        text-align: right;\n",
       "    }\n",
       "</style>\n",
       "<table border=\"1\" class=\"dataframe\">\n",
       "  <thead>\n",
       "    <tr style=\"text-align: right;\">\n",
       "      <th></th>\n",
       "      <th></th>\n",
       "      <th>event</th>\n",
       "    </tr>\n",
       "    <tr>\n",
       "      <th>marca</th>\n",
       "      <th>model</th>\n",
       "      <th></th>\n",
       "    </tr>\n",
       "  </thead>\n",
       "  <tbody>\n",
       "    <tr>\n",
       "      <th rowspan=\"4\" valign=\"top\">iPhone</th>\n",
       "      <th>iPhone 6</th>\n",
       "      <td>50916</td>\n",
       "    </tr>\n",
       "    <tr>\n",
       "      <th>iPhone 5s</th>\n",
       "      <td>44878</td>\n",
       "    </tr>\n",
       "    <tr>\n",
       "      <th>iPhone 6S</th>\n",
       "      <td>39296</td>\n",
       "    </tr>\n",
       "    <tr>\n",
       "      <th>iPhone 7</th>\n",
       "      <td>27556</td>\n",
       "    </tr>\n",
       "    <tr>\n",
       "      <th rowspan=\"2\" valign=\"top\">Samsung</th>\n",
       "      <th>Samsung Galaxy S7 Edge</th>\n",
       "      <td>23926</td>\n",
       "    </tr>\n",
       "    <tr>\n",
       "      <th>Samsung Galaxy S7</th>\n",
       "      <td>19337</td>\n",
       "    </tr>\n",
       "    <tr>\n",
       "      <th>iPhone</th>\n",
       "      <th>iPhone 7 Plus</th>\n",
       "      <td>18792</td>\n",
       "    </tr>\n",
       "    <tr>\n",
       "      <th>Samsung</th>\n",
       "      <th>Samsung Galaxy S8</th>\n",
       "      <td>16959</td>\n",
       "    </tr>\n",
       "    <tr>\n",
       "      <th>iPhone</th>\n",
       "      <th>iPhone SE</th>\n",
       "      <td>16531</td>\n",
       "    </tr>\n",
       "    <tr>\n",
       "      <th>Samsung</th>\n",
       "      <th>Samsung Galaxy J5</th>\n",
       "      <td>13044</td>\n",
       "    </tr>\n",
       "    <tr>\n",
       "      <th rowspan=\"3\" valign=\"top\">iPhone</th>\n",
       "      <th>iPhone 6S Plus</th>\n",
       "      <td>12855</td>\n",
       "    </tr>\n",
       "    <tr>\n",
       "      <th>iPhone 6 Plus</th>\n",
       "      <td>12766</td>\n",
       "    </tr>\n",
       "    <tr>\n",
       "      <th>iPhone 5c</th>\n",
       "      <td>12689</td>\n",
       "    </tr>\n",
       "    <tr>\n",
       "      <th rowspan=\"2\" valign=\"top\">Samsung</th>\n",
       "      <th>Samsung Galaxy S6 Flat</th>\n",
       "      <td>11608</td>\n",
       "    </tr>\n",
       "    <tr>\n",
       "      <th>Samsung Galaxy S6 Edge</th>\n",
       "      <td>11175</td>\n",
       "    </tr>\n",
       "  </tbody>\n",
       "</table>\n",
       "</div>"
      ],
      "text/plain": [
       "                                event\n",
       "marca   model                        \n",
       "iPhone  iPhone 6                50916\n",
       "        iPhone 5s               44878\n",
       "        iPhone 6S               39296\n",
       "        iPhone 7                27556\n",
       "Samsung Samsung Galaxy S7 Edge  23926\n",
       "        Samsung Galaxy S7       19337\n",
       "iPhone  iPhone 7 Plus           18792\n",
       "Samsung Samsung Galaxy S8       16959\n",
       "iPhone  iPhone SE               16531\n",
       "Samsung Samsung Galaxy J5       13044\n",
       "iPhone  iPhone 6S Plus          12855\n",
       "        iPhone 6 Plus           12766\n",
       "        iPhone 5c               12689\n",
       "Samsung Samsung Galaxy S6 Flat  11608\n",
       "        Samsung Galaxy S6 Edge  11175"
      ]
     },
     "execution_count": 20,
     "metadata": {},
     "output_type": "execute_result"
    }
   ],
   "source": [
    "# mostramos las marcas y modelos con más eventos\n",
    "events.groupby(['marca', 'model']).agg({'event':'count'}).sort_values(by = 'event', ascending = False).head(15)"
   ]
  },
  {
   "cell_type": "code",
   "execution_count": 27,
   "metadata": {},
   "outputs": [],
   "source": [
    "# creo que estos son los eventos asociados a las marcas (validar que no falte alguno)\n",
    "viewed_events = events[events['event'] == 'viewed product']\n",
    "leaded_events = events[events['event'] == 'lead']\n",
    "conversion_events = events[events['event'] == 'conversion']\n",
    "checkouted_events = events[events['event'] == 'checkout']"
   ]
  },
  {
   "cell_type": "code",
   "execution_count": 30,
   "metadata": {},
   "outputs": [
    {
     "data": {
      "text/html": [
       "<div>\n",
       "<style scoped>\n",
       "    .dataframe tbody tr th:only-of-type {\n",
       "        vertical-align: middle;\n",
       "    }\n",
       "\n",
       "    .dataframe tbody tr th {\n",
       "        vertical-align: top;\n",
       "    }\n",
       "\n",
       "    .dataframe thead th {\n",
       "        text-align: right;\n",
       "    }\n",
       "</style>\n",
       "<table border=\"1\" class=\"dataframe\">\n",
       "  <thead>\n",
       "    <tr style=\"text-align: right;\">\n",
       "      <th></th>\n",
       "      <th></th>\n",
       "      <th>event</th>\n",
       "    </tr>\n",
       "    <tr>\n",
       "      <th>marca</th>\n",
       "      <th>modelo</th>\n",
       "      <th></th>\n",
       "    </tr>\n",
       "  </thead>\n",
       "  <tbody>\n",
       "    <tr>\n",
       "      <th rowspan=\"2\" valign=\"top\">iPhone</th>\n",
       "      <th>6</th>\n",
       "      <td>47538</td>\n",
       "    </tr>\n",
       "    <tr>\n",
       "      <th>5s</th>\n",
       "      <td>42045</td>\n",
       "    </tr>\n",
       "    <tr>\n",
       "      <th>Samsung</th>\n",
       "      <th>Galaxy S7</th>\n",
       "      <td>41147</td>\n",
       "    </tr>\n",
       "    <tr>\n",
       "      <th rowspan=\"2\" valign=\"top\">iPhone</th>\n",
       "      <th>6S</th>\n",
       "      <td>36930</td>\n",
       "    </tr>\n",
       "    <tr>\n",
       "      <th>7</th>\n",
       "      <td>26330</td>\n",
       "    </tr>\n",
       "    <tr>\n",
       "      <th rowspan=\"2\" valign=\"top\">Samsung</th>\n",
       "      <th>Galaxy S8</th>\n",
       "      <td>25874</td>\n",
       "    </tr>\n",
       "    <tr>\n",
       "      <th>Galaxy S6</th>\n",
       "      <td>25466</td>\n",
       "    </tr>\n",
       "    <tr>\n",
       "      <th>iPhone</th>\n",
       "      <th>7 Plus</th>\n",
       "      <td>17853</td>\n",
       "    </tr>\n",
       "    <tr>\n",
       "      <th rowspan=\"2\" valign=\"top\">Samsung</th>\n",
       "      <th>Galaxy J7</th>\n",
       "      <td>17571</td>\n",
       "    </tr>\n",
       "    <tr>\n",
       "      <th>Galaxy J5</th>\n",
       "      <td>16084</td>\n",
       "    </tr>\n",
       "  </tbody>\n",
       "</table>\n",
       "</div>"
      ],
      "text/plain": [
       "                   event\n",
       "marca   modelo          \n",
       "iPhone  6          47538\n",
       "        5s         42045\n",
       "Samsung Galaxy S7  41147\n",
       "iPhone  6S         36930\n",
       "        7          26330\n",
       "Samsung Galaxy S8  25874\n",
       "        Galaxy S6  25466\n",
       "iPhone  7 Plus     17853\n",
       "Samsung Galaxy J7  17571\n",
       "        Galaxy J5  16084"
      ]
     },
     "execution_count": 30,
     "metadata": {},
     "output_type": "execute_result"
    }
   ],
   "source": [
    "# los 10 más vistos\n",
    "viewed_events.groupby(['marca', 'modelo']).agg({'event':'count'}).sort_values(by = 'event', ascending = False).head(10)"
   ]
  },
  {
   "cell_type": "code",
   "execution_count": 31,
   "metadata": {},
   "outputs": [
    {
     "data": {
      "text/html": [
       "<div>\n",
       "<style scoped>\n",
       "    .dataframe tbody tr th:only-of-type {\n",
       "        vertical-align: middle;\n",
       "    }\n",
       "\n",
       "    .dataframe tbody tr th {\n",
       "        vertical-align: top;\n",
       "    }\n",
       "\n",
       "    .dataframe thead th {\n",
       "        text-align: right;\n",
       "    }\n",
       "</style>\n",
       "<table border=\"1\" class=\"dataframe\">\n",
       "  <thead>\n",
       "    <tr style=\"text-align: right;\">\n",
       "      <th></th>\n",
       "      <th></th>\n",
       "      <th>event</th>\n",
       "    </tr>\n",
       "    <tr>\n",
       "      <th>marca</th>\n",
       "      <th>modelo</th>\n",
       "      <th></th>\n",
       "    </tr>\n",
       "  </thead>\n",
       "  <tbody>\n",
       "    <tr>\n",
       "      <th>Samsung</th>\n",
       "      <th>Galaxy J7</th>\n",
       "      <td>37</td>\n",
       "    </tr>\n",
       "    <tr>\n",
       "      <th rowspan=\"2\" valign=\"top\">iPhone</th>\n",
       "      <th>6 Plus</th>\n",
       "      <td>35</td>\n",
       "    </tr>\n",
       "    <tr>\n",
       "      <th>6S Plus</th>\n",
       "      <td>31</td>\n",
       "    </tr>\n",
       "    <tr>\n",
       "      <th>Motorola</th>\n",
       "      <th>Moto G4</th>\n",
       "      <td>28</td>\n",
       "    </tr>\n",
       "    <tr>\n",
       "      <th rowspan=\"2\" valign=\"top\">iPhone</th>\n",
       "      <th>6S</th>\n",
       "      <td>21</td>\n",
       "    </tr>\n",
       "    <tr>\n",
       "      <th>8</th>\n",
       "      <td>20</td>\n",
       "    </tr>\n",
       "    <tr>\n",
       "      <th>Motorola</th>\n",
       "      <th>Moto G5</th>\n",
       "      <td>17</td>\n",
       "    </tr>\n",
       "    <tr>\n",
       "      <th rowspan=\"2\" valign=\"top\">Samsung</th>\n",
       "      <th>Galaxy On</th>\n",
       "      <td>15</td>\n",
       "    </tr>\n",
       "    <tr>\n",
       "      <th>Galaxy A9</th>\n",
       "      <td>15</td>\n",
       "    </tr>\n",
       "    <tr>\n",
       "      <th>Motorola</th>\n",
       "      <th>Moto G5S</th>\n",
       "      <td>12</td>\n",
       "    </tr>\n",
       "  </tbody>\n",
       "</table>\n",
       "</div>"
      ],
      "text/plain": [
       "                    event\n",
       "marca    modelo          \n",
       "Samsung  Galaxy J7     37\n",
       "iPhone   6 Plus        35\n",
       "         6S Plus       31\n",
       "Motorola Moto G4       28\n",
       "iPhone   6S            21\n",
       "         8             20\n",
       "Motorola Moto G5       17\n",
       "Samsung  Galaxy On     15\n",
       "         Galaxy A9     15\n",
       "Motorola Moto G5S      12"
      ]
     },
     "execution_count": 31,
     "metadata": {},
     "output_type": "execute_result"
    }
   ],
   "source": [
    "# los 10 más (no se que es)\n",
    "leaded_events.groupby(['marca', 'modelo']).agg({'event':'count'}).sort_values(by = 'event', ascending = False).head(10)"
   ]
  },
  {
   "cell_type": "code",
   "execution_count": 32,
   "metadata": {},
   "outputs": [
    {
     "data": {
      "text/html": [
       "<div>\n",
       "<style scoped>\n",
       "    .dataframe tbody tr th:only-of-type {\n",
       "        vertical-align: middle;\n",
       "    }\n",
       "\n",
       "    .dataframe tbody tr th {\n",
       "        vertical-align: top;\n",
       "    }\n",
       "\n",
       "    .dataframe thead th {\n",
       "        text-align: right;\n",
       "    }\n",
       "</style>\n",
       "<table border=\"1\" class=\"dataframe\">\n",
       "  <thead>\n",
       "    <tr style=\"text-align: right;\">\n",
       "      <th></th>\n",
       "      <th></th>\n",
       "      <th>event</th>\n",
       "    </tr>\n",
       "    <tr>\n",
       "      <th>marca</th>\n",
       "      <th>modelo</th>\n",
       "      <th></th>\n",
       "    </tr>\n",
       "  </thead>\n",
       "  <tbody>\n",
       "    <tr>\n",
       "      <th>Samsung</th>\n",
       "      <th>Galaxy J5</th>\n",
       "      <td>102</td>\n",
       "    </tr>\n",
       "    <tr>\n",
       "      <th rowspan=\"2\" valign=\"top\">iPhone</th>\n",
       "      <th>5s</th>\n",
       "      <td>84</td>\n",
       "    </tr>\n",
       "    <tr>\n",
       "      <th>6</th>\n",
       "      <td>71</td>\n",
       "    </tr>\n",
       "    <tr>\n",
       "      <th rowspan=\"5\" valign=\"top\">Samsung</th>\n",
       "      <th>Galaxy J7</th>\n",
       "      <td>61</td>\n",
       "    </tr>\n",
       "    <tr>\n",
       "      <th>Galaxy S6</th>\n",
       "      <td>56</td>\n",
       "    </tr>\n",
       "    <tr>\n",
       "      <th>Galaxy A5</th>\n",
       "      <td>53</td>\n",
       "    </tr>\n",
       "    <tr>\n",
       "      <th>Galaxy Gran</th>\n",
       "      <td>51</td>\n",
       "    </tr>\n",
       "    <tr>\n",
       "      <th>Galaxy S5</th>\n",
       "      <td>49</td>\n",
       "    </tr>\n",
       "    <tr>\n",
       "      <th>Motorola</th>\n",
       "      <th>Moto G4</th>\n",
       "      <td>46</td>\n",
       "    </tr>\n",
       "    <tr>\n",
       "      <th>iPhone</th>\n",
       "      <th>6S</th>\n",
       "      <td>37</td>\n",
       "    </tr>\n",
       "  </tbody>\n",
       "</table>\n",
       "</div>"
      ],
      "text/plain": [
       "                      event\n",
       "marca    modelo            \n",
       "Samsung  Galaxy J5      102\n",
       "iPhone   5s              84\n",
       "         6               71\n",
       "Samsung  Galaxy J7       61\n",
       "         Galaxy S6       56\n",
       "         Galaxy A5       53\n",
       "         Galaxy Gran     51\n",
       "         Galaxy S5       49\n",
       "Motorola Moto G4         46\n",
       "iPhone   6S              37"
      ]
     },
     "execution_count": 32,
     "metadata": {},
     "output_type": "execute_result"
    }
   ],
   "source": [
    "# los 10 más (no se que es)\n",
    "conversion_events.groupby(['marca', 'modelo']).agg({'event':'count'}).sort_values(by = 'event', ascending = False).head(10)"
   ]
  },
  {
   "cell_type": "code",
   "execution_count": 33,
   "metadata": {},
   "outputs": [
    {
     "data": {
      "text/html": [
       "<div>\n",
       "<style scoped>\n",
       "    .dataframe tbody tr th:only-of-type {\n",
       "        vertical-align: middle;\n",
       "    }\n",
       "\n",
       "    .dataframe tbody tr th {\n",
       "        vertical-align: top;\n",
       "    }\n",
       "\n",
       "    .dataframe thead th {\n",
       "        text-align: right;\n",
       "    }\n",
       "</style>\n",
       "<table border=\"1\" class=\"dataframe\">\n",
       "  <thead>\n",
       "    <tr style=\"text-align: right;\">\n",
       "      <th></th>\n",
       "      <th></th>\n",
       "      <th>event</th>\n",
       "    </tr>\n",
       "    <tr>\n",
       "      <th>marca</th>\n",
       "      <th>modelo</th>\n",
       "      <th></th>\n",
       "    </tr>\n",
       "  </thead>\n",
       "  <tbody>\n",
       "    <tr>\n",
       "      <th rowspan=\"2\" valign=\"top\">iPhone</th>\n",
       "      <th>6</th>\n",
       "      <td>3295</td>\n",
       "    </tr>\n",
       "    <tr>\n",
       "      <th>5s</th>\n",
       "      <td>2744</td>\n",
       "    </tr>\n",
       "    <tr>\n",
       "      <th>Samsung</th>\n",
       "      <th>Galaxy J5</th>\n",
       "      <td>2329</td>\n",
       "    </tr>\n",
       "    <tr>\n",
       "      <th>iPhone</th>\n",
       "      <th>6S</th>\n",
       "      <td>2308</td>\n",
       "    </tr>\n",
       "    <tr>\n",
       "      <th rowspan=\"4\" valign=\"top\">Samsung</th>\n",
       "      <th>Galaxy S7</th>\n",
       "      <td>2077</td>\n",
       "    </tr>\n",
       "    <tr>\n",
       "      <th>Galaxy J7</th>\n",
       "      <td>1938</td>\n",
       "    </tr>\n",
       "    <tr>\n",
       "      <th>Galaxy S8</th>\n",
       "      <td>1561</td>\n",
       "    </tr>\n",
       "    <tr>\n",
       "      <th>Galaxy S6</th>\n",
       "      <td>1542</td>\n",
       "    </tr>\n",
       "    <tr>\n",
       "      <th rowspan=\"2\" valign=\"top\">iPhone</th>\n",
       "      <th>7</th>\n",
       "      <td>1205</td>\n",
       "    </tr>\n",
       "    <tr>\n",
       "      <th>7 Plus</th>\n",
       "      <td>924</td>\n",
       "    </tr>\n",
       "  </tbody>\n",
       "</table>\n",
       "</div>"
      ],
      "text/plain": [
       "                   event\n",
       "marca   modelo          \n",
       "iPhone  6           3295\n",
       "        5s          2744\n",
       "Samsung Galaxy J5   2329\n",
       "iPhone  6S          2308\n",
       "Samsung Galaxy S7   2077\n",
       "        Galaxy J7   1938\n",
       "        Galaxy S8   1561\n",
       "        Galaxy S6   1542\n",
       "iPhone  7           1205\n",
       "        7 Plus       924"
      ]
     },
     "execution_count": 33,
     "metadata": {},
     "output_type": "execute_result"
    }
   ],
   "source": [
    "# los 10 más comprados\n",
    "checkouted_events.groupby(['marca', 'modelo']).agg({'event':'count'}).sort_values(by = 'event', ascending = False).head(10)"
   ]
  },
  {
   "cell_type": "code",
   "execution_count": null,
   "metadata": {},
   "outputs": [],
   "source": []
  }
 ],
 "metadata": {
  "kernelspec": {
   "display_name": "Python 3",
   "language": "python",
   "name": "python3"
  },
  "language_info": {
   "codemirror_mode": {
    "name": "ipython",
    "version": 3
   },
   "file_extension": ".py",
   "mimetype": "text/x-python",
   "name": "python",
   "nbconvert_exporter": "python",
   "pygments_lexer": "ipython3",
   "version": "3.6.5"
  }
 },
 "nbformat": 4,
 "nbformat_minor": 2
}
