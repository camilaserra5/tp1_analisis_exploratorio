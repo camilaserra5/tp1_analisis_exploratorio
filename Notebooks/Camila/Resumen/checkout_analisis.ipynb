{
 "cells": [
  {
   "cell_type": "markdown",
   "metadata": {},
   "source": [
    "## En este notebook vamos a analizar los checkout y las caracteristicas de estos celulares. Ademas vamos a analizar las busquedas y ver si hay una correlacion entre los eventos."
   ]
  },
  {
   "cell_type": "code",
   "execution_count": 1,
   "metadata": {},
   "outputs": [],
   "source": [
    "#Inlcuimos las librerias que vamos a utilizar\n",
    "import numpy as np \n",
    "import pandas as pd\n",
    "import datetime as datetime\n",
    "\n",
    "# plots\n",
    "import matplotlib.pyplot as plt\n",
    "import seaborn as sns\n",
    "sns.set(style=\"whitegrid\")\n",
    "%matplotlib inline"
   ]
  },
  {
   "cell_type": "code",
   "execution_count": 2,
   "metadata": {},
   "outputs": [],
   "source": [
    "#Cargamos los datos\n",
    "events = pd.read_csv('events.csv', low_memory = False)"
   ]
  },
  {
   "cell_type": "code",
   "execution_count": 3,
   "metadata": {},
   "outputs": [],
   "source": [
    "#categorizamos\n",
    "events['timestamp'] = pd.to_datetime(events['timestamp'], errors = 'coerce', format= '%Y-%m-%d')\n",
    "events['event'] = events['event'].astype('category')"
   ]
  },
  {
   "cell_type": "code",
   "execution_count": 4,
   "metadata": {},
   "outputs": [
    {
     "data": {
      "text/html": [
       "<div>\n",
       "<style scoped>\n",
       "    .dataframe tbody tr th:only-of-type {\n",
       "        vertical-align: middle;\n",
       "    }\n",
       "\n",
       "    .dataframe tbody tr th {\n",
       "        vertical-align: top;\n",
       "    }\n",
       "\n",
       "    .dataframe thead th {\n",
       "        text-align: right;\n",
       "    }\n",
       "</style>\n",
       "<table border=\"1\" class=\"dataframe\">\n",
       "  <thead>\n",
       "    <tr style=\"text-align: right;\">\n",
       "      <th></th>\n",
       "      <th>timestamp</th>\n",
       "      <th>person</th>\n",
       "      <th>model</th>\n",
       "      <th>condition</th>\n",
       "      <th>storage</th>\n",
       "      <th>color</th>\n",
       "    </tr>\n",
       "  </thead>\n",
       "  <tbody>\n",
       "    <tr>\n",
       "      <th>3</th>\n",
       "      <td>2018-05-31 23:38:40</td>\n",
       "      <td>0004b0a2</td>\n",
       "      <td>iPhone 5s</td>\n",
       "      <td>Bom</td>\n",
       "      <td>32GB</td>\n",
       "      <td>Cinza espacial</td>\n",
       "    </tr>\n",
       "    <tr>\n",
       "      <th>7</th>\n",
       "      <td>2018-05-29 13:29:35</td>\n",
       "      <td>0006a21a</td>\n",
       "      <td>Samsung Galaxy S8</td>\n",
       "      <td>Bom</td>\n",
       "      <td>64GB</td>\n",
       "      <td>Dourado</td>\n",
       "    </tr>\n",
       "    <tr>\n",
       "      <th>44</th>\n",
       "      <td>2018-05-24 11:34:32</td>\n",
       "      <td>000a54b2</td>\n",
       "      <td>Motorola Moto Z Play</td>\n",
       "      <td>Bom</td>\n",
       "      <td>32GB</td>\n",
       "      <td>Preto</td>\n",
       "    </tr>\n",
       "    <tr>\n",
       "      <th>85</th>\n",
       "      <td>2018-04-06 05:14:58</td>\n",
       "      <td>00184bf9</td>\n",
       "      <td>Samsung Galaxy J5</td>\n",
       "      <td>Excelente</td>\n",
       "      <td>16GB</td>\n",
       "      <td>Preto</td>\n",
       "    </tr>\n",
       "    <tr>\n",
       "      <th>86</th>\n",
       "      <td>2018-04-06 05:18:15</td>\n",
       "      <td>00184bf9</td>\n",
       "      <td>Samsung Galaxy J5</td>\n",
       "      <td>Excelente</td>\n",
       "      <td>16GB</td>\n",
       "      <td>Preto</td>\n",
       "    </tr>\n",
       "  </tbody>\n",
       "</table>\n",
       "</div>"
      ],
      "text/plain": [
       "             timestamp    person                 model  condition storage  \\\n",
       "3  2018-05-31 23:38:40  0004b0a2             iPhone 5s        Bom    32GB   \n",
       "7  2018-05-29 13:29:35  0006a21a     Samsung Galaxy S8        Bom    64GB   \n",
       "44 2018-05-24 11:34:32  000a54b2  Motorola Moto Z Play        Bom    32GB   \n",
       "85 2018-04-06 05:14:58  00184bf9     Samsung Galaxy J5  Excelente    16GB   \n",
       "86 2018-04-06 05:18:15  00184bf9     Samsung Galaxy J5  Excelente    16GB   \n",
       "\n",
       "             color  \n",
       "3   Cinza espacial  \n",
       "7          Dourado  \n",
       "44           Preto  \n",
       "85           Preto  \n",
       "86           Preto  "
      ]
     },
     "execution_count": 4,
     "metadata": {},
     "output_type": "execute_result"
    }
   ],
   "source": [
    "checkout = events[events['event'] == 'checkout']\n",
    "checkout = checkout[['timestamp', 'person','model','condition','storage','color']]\n",
    "checkout.head()"
   ]
  },
  {
   "cell_type": "code",
   "execution_count": 5,
   "metadata": {},
   "outputs": [
    {
     "name": "stdout",
     "output_type": "stream",
     "text": [
      "<class 'pandas.core.frame.DataFrame'>\n",
      "Int64Index: 33735 entries, 3 to 1011287\n",
      "Data columns (total 6 columns):\n",
      "timestamp    33735 non-null datetime64[ns]\n",
      "person       33735 non-null object\n",
      "model        33733 non-null object\n",
      "condition    33733 non-null object\n",
      "storage      33733 non-null object\n",
      "color        33733 non-null object\n",
      "dtypes: datetime64[ns](1), object(5)\n",
      "memory usage: 1.8+ MB\n"
     ]
    }
   ],
   "source": [
    "checkout.info()"
   ]
  },
  {
   "cell_type": "code",
   "execution_count": 6,
   "metadata": {},
   "outputs": [
    {
     "data": {
      "image/png": "[encoded data removed]",
      "text/plain": [
       "<Figure size 432x288 with 1 Axes>"
      ]
     },
     "metadata": {},
     "output_type": "display_data"
    }
   ],
   "source": [
    "condicion = checkout['condition'].value_counts().sort_values(ascending = False).rename({'Bom':'Bien','Muito Bom':'Muy bien','Bom - Sem Touch ID':'Bien - Sin Touch','Novo':'Nuevo'})\n",
    "g = sns.barplot(y=condicion.index, x=condicion.values, palette=sns.color_palette('Blues_r', 15))\n",
    "g.set_title('Condicion de los telefonos en el checkout',fontsize = 18)\n",
    "g.set_ylabel('Condicion',fontsize = 14)\n",
    "g.set_xlabel('Cantidad',fontsize = 14);"
   ]
  },
  {
   "cell_type": "code",
   "execution_count": 7,
   "metadata": {},
   "outputs": [
    {
     "data": {
      "image/png": "[encoded data removed]",
      "text/plain": [
       "<Figure size 432x288 with 1 Axes>"
      ]
     },
     "metadata": {},
     "output_type": "display_data"
    }
   ],
   "source": [
    "g = checkout['color'].value_counts().head(10).sort_values().plot(kind = 'barh',color ='blue')\n",
    "g.set_title('Top 10 de colores mas en el checkout',fontsize = 18)\n",
    "g.set_ylabel('Color',fontsize = 14)\n",
    "g.set_xlabel('Cantidad',fontsize = 14);"
   ]
  },
  {
   "cell_type": "code",
   "execution_count": 8,
   "metadata": {},
   "outputs": [
    {
     "data": {
      "image/png": "[encoded data removed]",
      "text/plain": [
       "<Figure size 432x288 with 1 Axes>"
      ]
     },
     "metadata": {},
     "output_type": "display_data"
    }
   ],
   "source": [
    "g = checkout['storage'].value_counts().plot(kind = 'bar', color='red')\n",
    "g.set_title('Capacidades de los telefonos en el checkout',fontsize = 18)\n",
    "g.set_xlabel('Capacidad',fontsize = 14)\n",
    "g.set_ylabel('Cantidad',fontsize = 14)\n",
    "g.set_xticklabels(g.get_xticklabels(), rotation = 45, fontsize = 10);"
   ]
  },
  {
   "cell_type": "markdown",
   "metadata": {},
   "source": [
    "Se puede ver que los telefonos de 16GB/32GB/64GB/128GB son los que mas veces llegaron al checkout, mientras que los de menor capacidad no tiene una alta demanda, se recomienda tener mas stock de estos telefonos"
   ]
  },
  {
   "cell_type": "code",
   "execution_count": 9,
   "metadata": {},
   "outputs": [
    {
     "data": {
      "image/png": "[encoded data removed]",
      "text/plain": [
       "<Figure size 432x288 with 1 Axes>"
      ]
     },
     "metadata": {},
     "output_type": "display_data"
    }
   ],
   "source": [
    "check = checkout['model'].value_counts().head(15).sort_values(ascending = False)\n",
    "g = sns.barplot(y=check.index, x=check.values, palette=sns.color_palette('Reds_r', 15))\n",
    "g.set_title('Top 15 de modelos en el checkout',fontsize = 18)\n",
    "g.set_xlabel('Cantidad',fontsize = 14)\n",
    "g.set_ylabel('Modelos',fontsize = 14); #Estaria bueno superponer este grafico con el otro para compara el ranking de busqueda contra compra\n",
    "                                      #y sacar conclusiones"
   ]
  },
  {
   "cell_type": "markdown",
   "metadata": {},
   "source": [
    "#### Al igual que los modelos mas buscados, los iPhone son los telefonos mas demandados. En segundo lugar estan los Samsung galaxy S7, S8 y J5. "
   ]
  },
  {
   "cell_type": "markdown",
   "metadata": {},
   "source": [
    "#### Analizamos las caracteristicas de los modelos mas comprados"
   ]
  },
  {
   "cell_type": "code",
   "execution_count": 10,
   "metadata": {},
   "outputs": [
    {
     "data": {
      "text/html": [
       "<div>\n",
       "<style scoped>\n",
       "    .dataframe tbody tr th:only-of-type {\n",
       "        vertical-align: middle;\n",
       "    }\n",
       "\n",
       "    .dataframe tbody tr th {\n",
       "        vertical-align: top;\n",
       "    }\n",
       "\n",
       "    .dataframe thead th {\n",
       "        text-align: right;\n",
       "    }\n",
       "</style>\n",
       "<table border=\"1\" class=\"dataframe\">\n",
       "  <thead>\n",
       "    <tr style=\"text-align: right;\">\n",
       "      <th>condition</th>\n",
       "      <th>Bom</th>\n",
       "      <th>Bom - Sem Touch ID</th>\n",
       "      <th>Excelente</th>\n",
       "      <th>Muito Bom</th>\n",
       "    </tr>\n",
       "    <tr>\n",
       "      <th>capacidad</th>\n",
       "      <th></th>\n",
       "      <th></th>\n",
       "      <th></th>\n",
       "      <th></th>\n",
       "    </tr>\n",
       "  </thead>\n",
       "  <tbody>\n",
       "    <tr>\n",
       "      <th>128GB</th>\n",
       "      <td>110</td>\n",
       "      <td>5</td>\n",
       "      <td>60</td>\n",
       "      <td>60</td>\n",
       "    </tr>\n",
       "    <tr>\n",
       "      <th>16GB</th>\n",
       "      <td>903</td>\n",
       "      <td>284</td>\n",
       "      <td>438</td>\n",
       "      <td>298</td>\n",
       "    </tr>\n",
       "    <tr>\n",
       "      <th>64GB</th>\n",
       "      <td>524</td>\n",
       "      <td>10</td>\n",
       "      <td>326</td>\n",
       "      <td>277</td>\n",
       "    </tr>\n",
       "  </tbody>\n",
       "</table>\n",
       "</div>"
      ],
      "text/plain": [
       "condition  Bom  Bom - Sem Touch ID  Excelente  Muito Bom\n",
       "capacidad                                               \n",
       "128GB      110                   5         60         60\n",
       "16GB       903                 284        438        298\n",
       "64GB       524                  10        326        277"
      ]
     },
     "execution_count": 10,
     "metadata": {},
     "output_type": "execute_result"
    }
   ],
   "source": [
    "iPhone6_checkout = checkout[checkout['model'] == 'iPhone 6']\n",
    "iPhone6_checkout = iPhone6_checkout[['storage','condition']]\n",
    "iPhone6_checkout = pd.DataFrame(iPhone6_checkout.groupby('storage')['condition'].value_counts())\n",
    "iPhone6_checkout = iPhone6_checkout.rename(columns = {'condition':'cantidad'})\n",
    "iPhone6_checkout = iPhone6_checkout.reset_index()\n",
    "iPhone6_checkout = iPhone6_checkout.rename(columns = {'storage':'capacidad'})\n",
    "iPhone6_checkout = iPhone6_checkout.pivot('capacidad','condition','cantidad')\n",
    "iPhone6_checkout"
   ]
  },
  {
   "cell_type": "code",
   "execution_count": 11,
   "metadata": {},
   "outputs": [
    {
     "data": {
      "image/png": "[encoded data removed]",
      "text/plain": [
       "<Figure size 576x288 with 2 Axes>"
      ]
     },
     "metadata": {},
     "output_type": "display_data"
    }
   ],
   "source": [
    "plt.figure(figsize = (8,4))\n",
    "ax = sns.heatmap(iPhone6_checkout,linewidth = 3, cmap = 'Greens')\n",
    "ax.set_title('Caracteristicas de los iPhone 6 en el checkout',Fontsize = 20)\n",
    "ax.set_ylabel('Capacidad',Fontsize = 18)\n",
    "ax.set_xlabel('Condicion',fontsize = 18);"
   ]
  },
  {
   "cell_type": "code",
   "execution_count": 12,
   "metadata": {},
   "outputs": [
    {
     "data": {
      "image/png": "[encoded data removed]",
      "text/plain": [
       "<Figure size 1080x540 with 1 Axes>"
      ]
     },
     "metadata": {},
     "output_type": "display_data"
    }
   ],
   "source": [
    "g = checkout['person'].value_counts().value_counts().sort_index().plot(kind = 'bar', color='red',  figsize=(15,7.5) ) # con normalize = True en value_counts se podria mostrar en % \n",
    "g.set_title('Cantidad de clientes vs checkouts hechos por cada cliente',fontsize = 18)\n",
    "g.set_xlabel('Cantidad de compras',fontsize = 14)\n",
    "g.set_ylabel('Cantidad de clientes',fontsize = 14);\n",
    "g.set_xticklabels(g.get_xticklabels(), rotation = 0, fontsize = 10);"
   ]
  },
  {
   "cell_type": "markdown",
   "metadata": {},
   "source": [
    "#### ¿Cuando hay mayor actividad en el checkout a lo largo de la semana?"
   ]
  },
  {
   "cell_type": "code",
   "execution_count": 13,
   "metadata": {},
   "outputs": [
    {
     "data": {
      "text/plain": [
       "Monday       4621\n",
       "Tuesday      5928\n",
       "Wednesday    5772\n",
       "Thursday     5559\n",
       "Friday       5244\n",
       "Saturday     3474\n",
       "Sunday       3137\n",
       "Name: timestamp, dtype: int64"
      ]
     },
     "execution_count": 13,
     "metadata": {},
     "output_type": "execute_result"
    }
   ],
   "source": [
    "dias = checkout['timestamp'].dt.weekday_name.value_counts().sort_values()\n",
    "dias = dias.reindex(['Monday','Tuesday','Wednesday','Thursday','Friday','Saturday','Sunday'])\n",
    "dias"
   ]
  },
  {
   "cell_type": "code",
   "execution_count": 14,
   "metadata": {},
   "outputs": [
    {
     "data": {
      "image/png": "[encoded data removed]",
      "text/plain": [
       "<Figure size 432x432 with 1 Axes>"
      ]
     },
     "metadata": {},
     "output_type": "display_data"
    }
   ],
   "source": [
    "g = plt.subplots(figsize = (6,6))\n",
    "g = dias.plot(kind = 'bar',color='red')\n",
    "g.set_title('Checkout a lo largo del semana',fontsize = 20)\n",
    "g.set_xlabel('Dia',fontsize = 16)\n",
    "g.set_ylabel('Cantidad',fontsize = 16)\n",
    "g.set_xticklabels(g.get_xticklabels(), rotation = 45, fontsize = 10);"
   ]
  },
  {
   "cell_type": "markdown",
   "metadata": {},
   "source": [
    "#### ¿Cuando hubo mayor actividad en el checkout a lo largo del año?"
   ]
  },
  {
   "cell_type": "code",
   "execution_count": 15,
   "metadata": {},
   "outputs": [
    {
     "data": {
      "image/png": "[encoded data removed]",
      "text/plain": [
       "<Figure size 432x432 with 1 Axes>"
      ]
     },
     "metadata": {},
     "output_type": "display_data"
    }
   ],
   "source": [
    "check = checkout['timestamp'].dt.month.value_counts().sort_index()\n",
    "g = plt.subplots(figsize = (6,6))\n",
    "g = check.plot(color='red')\n",
    "g.set_title('Checkout a lo largo del 2018',fontsize = 20)\n",
    "g.set_xlabel('Mes',fontsize = 16)\n",
    "g.set_ylabel('Cantidad',fontsize = 16)\n",
    "plt.xticks([1, 2, 3, 4, 5, 6], [\"Jan\", \"Feb\", \"Mar\", \"April\", \"May\", \"Jun\"]);"
   ]
  },
  {
   "cell_type": "markdown",
   "metadata": {},
   "source": [
    "#### Checkout del primer trimestre vs checkout en el segundo trimestre"
   ]
  },
  {
   "cell_type": "code",
   "execution_count": 16,
   "metadata": {},
   "outputs": [],
   "source": [
    "primer_trimestre = checkout[checkout['timestamp'].dt.month < 4]['timestamp'].dt.month.value_counts().sort_index()\n",
    "segundo_trimestre = checkout[checkout['timestamp'].dt.month >= 4]['timestamp'].dt.month.value_counts().rename({4:1,5:2,6:3}).sort_index()"
   ]
  },
  {
   "cell_type": "code",
   "execution_count": 17,
   "metadata": {},
   "outputs": [],
   "source": [
    "trimestres = pd.DataFrame({'First term':primer_trimestre.values,'Second term':segundo_trimestre.values})"
   ]
  },
  {
   "cell_type": "code",
   "execution_count": 18,
   "metadata": {},
   "outputs": [
    {
     "data": {
      "image/png": "[encoded data removed]",
      "text/plain": [
       "<Figure size 432x288 with 1 Axes>"
      ]
     },
     "metadata": {},
     "output_type": "display_data"
    }
   ],
   "source": [
    "g = trimestres.plot(linewidth=3)\n",
    "g.set_title('Cantidad de checkout del primer trimestre vs segundo trimestre',fontsize = 20)\n",
    "g.set_xlabel('Mes',fontsize = 16)\n",
    "g.set_ylabel('Cantidad',fontsize = 16);\n",
    "plt.xticks([0, 1,2], [\"Jan\\nApril\", \"Feb\\nMay\", \"Mar\\nJun\"]);"
   ]
  },
  {
   "cell_type": "markdown",
   "metadata": {},
   "source": [
    "Se puede ver como en el segundo trimestre del año la actividad en la pagina crecio, esto puede ser por una falta de datos del primer trimestre o por la publicadad que se hizo. #Nose si estaria bien poner algo asi"
   ]
  },
  {
   "cell_type": "markdown",
   "metadata": {},
   "source": [
    "## Productos y marcas mas buscadas"
   ]
  },
  {
   "cell_type": "code",
   "execution_count": 19,
   "metadata": {},
   "outputs": [
    {
     "data": {
      "text/html": [
       "<div>\n",
       "<style scoped>\n",
       "    .dataframe tbody tr th:only-of-type {\n",
       "        vertical-align: middle;\n",
       "    }\n",
       "\n",
       "    .dataframe tbody tr th {\n",
       "        vertical-align: top;\n",
       "    }\n",
       "\n",
       "    .dataframe thead th {\n",
       "        text-align: right;\n",
       "    }\n",
       "</style>\n",
       "<table border=\"1\" class=\"dataframe\">\n",
       "  <thead>\n",
       "    <tr style=\"text-align: right;\">\n",
       "      <th></th>\n",
       "      <th>timestamp</th>\n",
       "      <th>person</th>\n",
       "      <th>search_term</th>\n",
       "    </tr>\n",
       "  </thead>\n",
       "  <tbody>\n",
       "    <tr>\n",
       "      <th>157</th>\n",
       "      <td>2018-02-06 02:29:49</td>\n",
       "      <td>00204059</td>\n",
       "      <td>moto g 4</td>\n",
       "    </tr>\n",
       "    <tr>\n",
       "      <th>159</th>\n",
       "      <td>2018-02-06 02:32:41</td>\n",
       "      <td>00204059</td>\n",
       "      <td>moto g 4</td>\n",
       "    </tr>\n",
       "    <tr>\n",
       "      <th>238</th>\n",
       "      <td>2018-05-21 19:56:33</td>\n",
       "      <td>0024ad28</td>\n",
       "      <td>comprar celulares usados bom e barato em poa rs</td>\n",
       "    </tr>\n",
       "    <tr>\n",
       "      <th>239</th>\n",
       "      <td>2018-05-21 19:57:28</td>\n",
       "      <td>0024ad28</td>\n",
       "      <td>comprar celulares seminovos bom e barato em po...</td>\n",
       "    </tr>\n",
       "    <tr>\n",
       "      <th>240</th>\n",
       "      <td>2018-05-21 19:57:49</td>\n",
       "      <td>0024ad28</td>\n",
       "      <td>comprar celulares seminovos bom e barato em po...</td>\n",
       "    </tr>\n",
       "  </tbody>\n",
       "</table>\n",
       "</div>"
      ],
      "text/plain": [
       "              timestamp    person  \\\n",
       "157 2018-02-06 02:29:49  00204059   \n",
       "159 2018-02-06 02:32:41  00204059   \n",
       "238 2018-05-21 19:56:33  0024ad28   \n",
       "239 2018-05-21 19:57:28  0024ad28   \n",
       "240 2018-05-21 19:57:49  0024ad28   \n",
       "\n",
       "                                           search_term  \n",
       "157                                           moto g 4  \n",
       "159                                           moto g 4  \n",
       "238    comprar celulares usados bom e barato em poa rs  \n",
       "239  comprar celulares seminovos bom e barato em po...  \n",
       "240  comprar celulares seminovos bom e barato em po...  "
      ]
     },
     "execution_count": 19,
     "metadata": {},
     "output_type": "execute_result"
    }
   ],
   "source": [
    "searched_products = events[events['event'] == 'searched products']\n",
    "searched_products = searched_products[['timestamp','person','search_term']]\n",
    "searched_products.head()"
   ]
  },
  {
   "cell_type": "code",
   "execution_count": 20,
   "metadata": {},
   "outputs": [
    {
     "name": "stdout",
     "output_type": "stream",
     "text": [
      "<class 'pandas.core.frame.DataFrame'>\n",
      "Int64Index: 56073 entries, 157 to 1011280\n",
      "Data columns (total 3 columns):\n",
      "timestamp      56073 non-null datetime64[ns]\n",
      "person         56073 non-null object\n",
      "search_term    48967 non-null object\n",
      "dtypes: datetime64[ns](1), object(2)\n",
      "memory usage: 1.7+ MB\n"
     ]
    }
   ],
   "source": [
    "searched_products.info()"
   ]
  },
  {
   "cell_type": "code",
   "execution_count": 21,
   "metadata": {},
   "outputs": [
    {
     "data": {
      "text/plain": [
       "False    48967\n",
       "True      7106\n",
       "Name: search_term, dtype: int64"
      ]
     },
     "execution_count": 21,
     "metadata": {},
     "output_type": "execute_result"
    }
   ],
   "source": [
    "searched_products['search_term'].isnull().value_counts() # habría que decidir que hacemos con los nulls"
   ]
  },
  {
   "cell_type": "code",
   "execution_count": 22,
   "metadata": {},
   "outputs": [
    {
     "data": {
      "image/png": "[encoded data removed]",
      "text/plain": [
       "<Figure size 432x432 with 1 Axes>"
      ]
     },
     "metadata": {},
     "output_type": "display_data"
    }
   ],
   "source": [
    "busquedas = searched_products['search_term'].dropna().map(lambda x: x.lower()).value_counts().head(15)\n",
    "g = plt.subplots(figsize = (6,6))\n",
    "g = busquedas.plot(kind = 'barh',color='red')\n",
    "g.set_title('Top 15 modelos mas buscados',fontsize = 18)\n",
    "g.set_xlabel('Cantidad',fontsize = 14)\n",
    "g.set_ylabel('Modelos',fontsize = 14);"
   ]
  },
  {
   "cell_type": "code",
   "execution_count": 23,
   "metadata": {},
   "outputs": [
    {
     "data": {
      "text/plain": [
       "iPhone      18982\n",
       "Samsung     14659\n",
       "Otro         8369\n",
       "Motorola     5773\n",
       "LG           1184\n",
       "Name: search_term, dtype: int64"
      ]
     },
     "execution_count": 23,
     "metadata": {},
     "output_type": "execute_result"
    }
   ],
   "source": [
    "#el diccionario esta hecho a mano, vi las primeras posiciones y de ahi arme el diccionario, se podria pensar algo mejor. \n",
    "#no vi por ahora alguna funcion que haga la que defini, por ahi hay algo hecho pero no encontre\n",
    "marcas = {'iPhone':['iphone','7s','6s','5se','5c','iphone se'], 'Samsung':['j1','j2','j3','j4','j5','j6','j7','galaxy','s7','s6','s5','s8','s9','samsung'], 'Motorola':['moto'],'LG':['lg']}\n",
    "def asignar_marca(modelo):\n",
    "    for marca in marcas:\n",
    "        for m in marcas[marca]:\n",
    "            if m in modelo:\n",
    "                return marca\n",
    "    return 'Otro'\n",
    "marcas_buscadas = searched_products['search_term'].dropna().map(lambda x: asignar_marca(x.lower())).value_counts()\n",
    "marcas_buscadas "
   ]
  },
  {
   "cell_type": "code",
   "execution_count": 24,
   "metadata": {},
   "outputs": [
    {
     "data": {
      "image/png": "[encoded data removed]",
      "text/plain": [
       "<Figure size 432x288 with 1 Axes>"
      ]
     },
     "metadata": {},
     "output_type": "display_data"
    }
   ],
   "source": [
    "g = sns.barplot(x= marcas_buscadas.index, y=marcas_buscadas.values, orient= 'v',color='red')\n",
    "g.set_title('Cantidad de busquedas segun la marca del modelo',fontsize = 18)\n",
    "g.set_xlabel('Marcas',fontsize = 14)\n",
    "g.set_ylabel('Cantidad',fontsize = 14);"
   ]
  },
  {
   "cell_type": "code",
   "execution_count": 25,
   "metadata": {},
   "outputs": [],
   "source": [
    "primer_trimestre = searched_products[searched_products['timestamp'].dt.month < 4]['timestamp'].dt.month.value_counts().sort_index()\n",
    "segundo_trimestre = searched_products[searched_products['timestamp'].dt.month >= 4]['timestamp'].dt.month.value_counts().rename({4:1,5:2,6:3}).sort_index()"
   ]
  },
  {
   "cell_type": "code",
   "execution_count": 26,
   "metadata": {},
   "outputs": [
    {
     "data": {
      "text/html": [
       "<div>\n",
       "<style scoped>\n",
       "    .dataframe tbody tr th:only-of-type {\n",
       "        vertical-align: middle;\n",
       "    }\n",
       "\n",
       "    .dataframe tbody tr th {\n",
       "        vertical-align: top;\n",
       "    }\n",
       "\n",
       "    .dataframe thead th {\n",
       "        text-align: right;\n",
       "    }\n",
       "</style>\n",
       "<table border=\"1\" class=\"dataframe\">\n",
       "  <thead>\n",
       "    <tr style=\"text-align: right;\">\n",
       "      <th></th>\n",
       "      <th>First term</th>\n",
       "      <th>Second term</th>\n",
       "    </tr>\n",
       "  </thead>\n",
       "  <tbody>\n",
       "    <tr>\n",
       "      <th>0</th>\n",
       "      <td>1341</td>\n",
       "      <td>6761</td>\n",
       "    </tr>\n",
       "    <tr>\n",
       "      <th>1</th>\n",
       "      <td>1507</td>\n",
       "      <td>26078</td>\n",
       "    </tr>\n",
       "    <tr>\n",
       "      <th>2</th>\n",
       "      <td>4010</td>\n",
       "      <td>16376</td>\n",
       "    </tr>\n",
       "  </tbody>\n",
       "</table>\n",
       "</div>"
      ],
      "text/plain": [
       "   First term  Second term\n",
       "0        1341         6761\n",
       "1        1507        26078\n",
       "2        4010        16376"
      ]
     },
     "execution_count": 26,
     "metadata": {},
     "output_type": "execute_result"
    }
   ],
   "source": [
    "trimestres = pd.DataFrame({'First term':primer_trimestre.values,'Second term':segundo_trimestre.values})\n",
    "trimestres"
   ]
  },
  {
   "cell_type": "code",
   "execution_count": 27,
   "metadata": {},
   "outputs": [
    {
     "data": {
      "image/png": "[encoded data removed]",
      "text/plain": [
       "<Figure size 432x288 with 1 Axes>"
      ]
     },
     "metadata": {},
     "output_type": "display_data"
    }
   ],
   "source": [
    "g = trimestres.plot(linewidth=3)\n",
    "g.set_title('Cantidad de busquedas del primer trimestre vs segundo trimestre',fontsize = 20)\n",
    "g.set_xlabel('Numero de mes en el trimestre',fontsize = 16)\n",
    "g.set_ylabel('Cantidad',fontsize = 16)\n",
    "plt.xticks([0, 1,2], [\"Jan\\nApril\", \"Feb\\nMay\", \"Mar\\nJun\"]);"
   ]
  },
  {
   "cell_type": "markdown",
   "metadata": {},
   "source": [
    "#### ¿Se relaciona la cantidad de busquedas con la cantidad de compras a lo largo del mes? #agrega sku"
   ]
  },
  {
   "cell_type": "code",
   "execution_count": 28,
   "metadata": {},
   "outputs": [
    {
     "data": {
      "image/png": "[encoded data removed]",
      "text/plain": [
       "<Figure size 432x288 with 1 Axes>"
      ]
     },
     "metadata": {},
     "output_type": "display_data"
    }
   ],
   "source": [
    "busquedas = searched_products[searched_products['timestamp'].dt.month >= 4]['timestamp'].dt.month.value_counts().rename({4:1,5:2,6:3}).sort_index()\n",
    "compras = checkout[checkout['timestamp'].dt.month >= 4]['timestamp'].dt.month.value_counts().rename({4:1,5:2,6:3}).sort_index()\n",
    "busquedas_vs_compras = busquedas.to_frame().rename({'timestamp':'Busquedas'},axis = 'columns') \n",
    "busquedas_vs_compras['Compras'] = compras\n",
    "g = busquedas_vs_compras.plot()\n",
    "g.set_title('Chekouts y Busquedas a lo largo del segundo trimestre',fontsize = 20)\n",
    "g.set_xlabel('Mes del trimestre',fontsize = 16)\n",
    "g.set_ylabel('Cantidad',fontsize = 16)\n",
    "plt.xticks([1, 2,3], [\"Jan\\nApril\", \"Feb\\nMay\", \"Mar\\nJun\"]);"
   ]
  },
  {
   "cell_type": "markdown",
   "metadata": {},
   "source": [
    "#### #hay que darle algun nombre a lo que sigue"
   ]
  },
  {
   "cell_type": "code",
   "execution_count": null,
   "metadata": {},
   "outputs": [],
   "source": []
  },
  {
   "cell_type": "code",
   "execution_count": 29,
   "metadata": {},
   "outputs": [
    {
     "data": {
      "text/html": [
       "<div>\n",
       "<style scoped>\n",
       "    .dataframe tbody tr th:only-of-type {\n",
       "        vertical-align: middle;\n",
       "    }\n",
       "\n",
       "    .dataframe tbody tr th {\n",
       "        vertical-align: top;\n",
       "    }\n",
       "\n",
       "    .dataframe thead th {\n",
       "        text-align: right;\n",
       "    }\n",
       "</style>\n",
       "<table border=\"1\" class=\"dataframe\">\n",
       "  <thead>\n",
       "    <tr style=\"text-align: right;\">\n",
       "      <th></th>\n",
       "      <th>marca</th>\n",
       "      <th>modelo</th>\n",
       "    </tr>\n",
       "  </thead>\n",
       "  <tbody>\n",
       "    <tr>\n",
       "      <th>0</th>\n",
       "      <td>NaN</td>\n",
       "      <td></td>\n",
       "    </tr>\n",
       "    <tr>\n",
       "      <th>1</th>\n",
       "      <td>NaN</td>\n",
       "      <td></td>\n",
       "    </tr>\n",
       "    <tr>\n",
       "      <th>2</th>\n",
       "      <td>iPhone</td>\n",
       "      <td>5s</td>\n",
       "    </tr>\n",
       "    <tr>\n",
       "      <th>3</th>\n",
       "      <td>iPhone</td>\n",
       "      <td>5s</td>\n",
       "    </tr>\n",
       "    <tr>\n",
       "      <th>4</th>\n",
       "      <td>Samsung</td>\n",
       "      <td>Galaxy S8</td>\n",
       "    </tr>\n",
       "  </tbody>\n",
       "</table>\n",
       "</div>"
      ],
      "text/plain": [
       "     marca     modelo\n",
       "0      NaN           \n",
       "1      NaN           \n",
       "2   iPhone        5s \n",
       "3   iPhone        5s \n",
       "4  Samsung  Galaxy S8"
      ]
     },
     "execution_count": 29,
     "metadata": {},
     "output_type": "execute_result"
    }
   ],
   "source": [
    "events['marca'] = events['model'].str.split(' ').str[0]\n",
    "events['modelo'] = events['model'].str.split(' ').str[1].fillna('') + ' ' + events['model'].str.split(' ').str[2].fillna('')\n",
    "events[['marca', 'modelo']].head()"
   ]
  },
  {
   "cell_type": "code",
   "execution_count": 30,
   "metadata": {},
   "outputs": [
    {
     "data": {
      "text/html": [
       "<div>\n",
       "<style scoped>\n",
       "    .dataframe tbody tr th:only-of-type {\n",
       "        vertical-align: middle;\n",
       "    }\n",
       "\n",
       "    .dataframe tbody tr th {\n",
       "        vertical-align: top;\n",
       "    }\n",
       "\n",
       "    .dataframe thead th {\n",
       "        text-align: right;\n",
       "    }\n",
       "</style>\n",
       "<table border=\"1\" class=\"dataframe\">\n",
       "  <thead>\n",
       "    <tr style=\"text-align: right;\">\n",
       "      <th></th>\n",
       "      <th>event</th>\n",
       "    </tr>\n",
       "    <tr>\n",
       "      <th>marca</th>\n",
       "      <th></th>\n",
       "    </tr>\n",
       "  </thead>\n",
       "  <tbody>\n",
       "    <tr>\n",
       "      <th>iPhone</th>\n",
       "      <td>256585</td>\n",
       "    </tr>\n",
       "    <tr>\n",
       "      <th>Samsung</th>\n",
       "      <td>218127</td>\n",
       "    </tr>\n",
       "    <tr>\n",
       "      <th>Motorola</th>\n",
       "      <td>63518</td>\n",
       "    </tr>\n",
       "    <tr>\n",
       "      <th>LG</th>\n",
       "      <td>9724</td>\n",
       "    </tr>\n",
       "    <tr>\n",
       "      <th>Sony</th>\n",
       "      <td>7025</td>\n",
       "    </tr>\n",
       "    <tr>\n",
       "      <th>Lenovo</th>\n",
       "      <td>4779</td>\n",
       "    </tr>\n",
       "    <tr>\n",
       "      <th>Asus</th>\n",
       "      <td>2091</td>\n",
       "    </tr>\n",
       "    <tr>\n",
       "      <th>iPad</th>\n",
       "      <td>1914</td>\n",
       "    </tr>\n",
       "    <tr>\n",
       "      <th>Quantum</th>\n",
       "      <td>520</td>\n",
       "    </tr>\n",
       "    <tr>\n",
       "      <th>Blackberry</th>\n",
       "      <td>1</td>\n",
       "    </tr>\n",
       "  </tbody>\n",
       "</table>\n",
       "</div>"
      ],
      "text/plain": [
       "             event\n",
       "marca             \n",
       "iPhone      256585\n",
       "Samsung     218127\n",
       "Motorola     63518\n",
       "LG            9724\n",
       "Sony          7025\n",
       "Lenovo        4779\n",
       "Asus          2091\n",
       "iPad          1914\n",
       "Quantum        520\n",
       "Blackberry       1"
      ]
     },
     "execution_count": 30,
     "metadata": {},
     "output_type": "execute_result"
    }
   ],
   "source": [
    "events.groupby('marca').agg({'event':'count'}).sort_values(by = 'event', ascending = False)"
   ]
  },
  {
   "cell_type": "code",
   "execution_count": 31,
   "metadata": {},
   "outputs": [
    {
     "data": {
      "text/html": [
       "<div>\n",
       "<style scoped>\n",
       "    .dataframe tbody tr th:only-of-type {\n",
       "        vertical-align: middle;\n",
       "    }\n",
       "\n",
       "    .dataframe tbody tr th {\n",
       "        vertical-align: top;\n",
       "    }\n",
       "\n",
       "    .dataframe thead th {\n",
       "        text-align: right;\n",
       "    }\n",
       "</style>\n",
       "<table border=\"1\" class=\"dataframe\">\n",
       "  <thead>\n",
       "    <tr style=\"text-align: right;\">\n",
       "      <th></th>\n",
       "      <th></th>\n",
       "      <th>event</th>\n",
       "    </tr>\n",
       "    <tr>\n",
       "      <th>marca</th>\n",
       "      <th>model</th>\n",
       "      <th></th>\n",
       "    </tr>\n",
       "  </thead>\n",
       "  <tbody>\n",
       "    <tr>\n",
       "      <th rowspan=\"4\" valign=\"top\">iPhone</th>\n",
       "      <th>iPhone 6</th>\n",
       "      <td>50916</td>\n",
       "    </tr>\n",
       "    <tr>\n",
       "      <th>iPhone 5s</th>\n",
       "      <td>44878</td>\n",
       "    </tr>\n",
       "    <tr>\n",
       "      <th>iPhone 6S</th>\n",
       "      <td>39296</td>\n",
       "    </tr>\n",
       "    <tr>\n",
       "      <th>iPhone 7</th>\n",
       "      <td>27556</td>\n",
       "    </tr>\n",
       "    <tr>\n",
       "      <th rowspan=\"2\" valign=\"top\">Samsung</th>\n",
       "      <th>Samsung Galaxy S7 Edge</th>\n",
       "      <td>23926</td>\n",
       "    </tr>\n",
       "    <tr>\n",
       "      <th>Samsung Galaxy S7</th>\n",
       "      <td>19337</td>\n",
       "    </tr>\n",
       "    <tr>\n",
       "      <th>iPhone</th>\n",
       "      <th>iPhone 7 Plus</th>\n",
       "      <td>18792</td>\n",
       "    </tr>\n",
       "    <tr>\n",
       "      <th>Samsung</th>\n",
       "      <th>Samsung Galaxy S8</th>\n",
       "      <td>16959</td>\n",
       "    </tr>\n",
       "    <tr>\n",
       "      <th>iPhone</th>\n",
       "      <th>iPhone SE</th>\n",
       "      <td>16531</td>\n",
       "    </tr>\n",
       "    <tr>\n",
       "      <th>Samsung</th>\n",
       "      <th>Samsung Galaxy J5</th>\n",
       "      <td>13044</td>\n",
       "    </tr>\n",
       "    <tr>\n",
       "      <th rowspan=\"3\" valign=\"top\">iPhone</th>\n",
       "      <th>iPhone 6S Plus</th>\n",
       "      <td>12855</td>\n",
       "    </tr>\n",
       "    <tr>\n",
       "      <th>iPhone 6 Plus</th>\n",
       "      <td>12766</td>\n",
       "    </tr>\n",
       "    <tr>\n",
       "      <th>iPhone 5c</th>\n",
       "      <td>12689</td>\n",
       "    </tr>\n",
       "    <tr>\n",
       "      <th rowspan=\"2\" valign=\"top\">Samsung</th>\n",
       "      <th>Samsung Galaxy S6 Flat</th>\n",
       "      <td>11608</td>\n",
       "    </tr>\n",
       "    <tr>\n",
       "      <th>Samsung Galaxy S6 Edge</th>\n",
       "      <td>11175</td>\n",
       "    </tr>\n",
       "  </tbody>\n",
       "</table>\n",
       "</div>"
      ],
      "text/plain": [
       "                                event\n",
       "marca   model                        \n",
       "iPhone  iPhone 6                50916\n",
       "        iPhone 5s               44878\n",
       "        iPhone 6S               39296\n",
       "        iPhone 7                27556\n",
       "Samsung Samsung Galaxy S7 Edge  23926\n",
       "        Samsung Galaxy S7       19337\n",
       "iPhone  iPhone 7 Plus           18792\n",
       "Samsung Samsung Galaxy S8       16959\n",
       "iPhone  iPhone SE               16531\n",
       "Samsung Samsung Galaxy J5       13044\n",
       "iPhone  iPhone 6S Plus          12855\n",
       "        iPhone 6 Plus           12766\n",
       "        iPhone 5c               12689\n",
       "Samsung Samsung Galaxy S6 Flat  11608\n",
       "        Samsung Galaxy S6 Edge  11175"
      ]
     },
     "execution_count": 31,
     "metadata": {},
     "output_type": "execute_result"
    }
   ],
   "source": [
    "events.groupby(['marca', 'model']).agg({'event':'count'}).sort_values(by = 'event', ascending = False).head(15)"
   ]
  },
  {
   "cell_type": "code",
   "execution_count": 32,
   "metadata": {},
   "outputs": [],
   "source": [
    "viewed_events = events[events['event'] == 'viewed product']\n",
    "leaded_events = events[events['event'] == 'lead']\n",
    "conversion_events = events[events['event'] == 'conversion']\n",
    "checkouted_events = events[events['event'] == 'checkout']"
   ]
  },
  {
   "cell_type": "code",
   "execution_count": 33,
   "metadata": {},
   "outputs": [
    {
     "data": {
      "text/plain": [
       "Text(0,0.5,'Cantidad')"
      ]
     },
     "execution_count": 33,
     "metadata": {},
     "output_type": "execute_result"
    },
    {
     "data": {
      "image/png": "[encoded data removed]",
      "text/plain": [
       "<Figure size 432x288 with 1 Axes>"
      ]
     },
     "metadata": {},
     "output_type": "display_data"
    }
   ],
   "source": [
    "checkouted_vs_converted = events[(events['event'] == 'conversion') | (events['event'] == 'checkout')]\n",
    "checkouted_vs_converted\n",
    "pd.crosstab(checkouted_vs_converted.marca, checkouted_vs_converted.event)\n",
    "\n",
    "g = sns.countplot(x=\"marca\"[:5], hue=\"event\", data=checkouted_vs_converted, palette=\"husl\", hue_order = checkouted_vs_converted.event.value_counts().iloc[:2].index,\n",
    "                 order = checkouted_vs_converted.marca.value_counts().iloc[:6].index)\n",
    "g.set_title(\"Cantidad de checkouts y conversiones por marca\", fontsize=18)\n",
    "g.set_xlabel(\"Marca\", fontsize=18)\n",
    "g.set_ylabel(\"Cantidad\", fontsize=18)"
   ]
  },
  {
   "cell_type": "code",
   "execution_count": 34,
   "metadata": {},
   "outputs": [
    {
     "data": {
      "text/plain": [
       "Text(0,0.5,'Cantidad')"
      ]
     },
     "execution_count": 34,
     "metadata": {},
     "output_type": "execute_result"
    },
    {
     "data": {
      "image/png": "[encoded data removed]",
      "text/plain": [
       "<Figure size 432x288 with 1 Axes>"
      ]
     },
     "metadata": {},
     "output_type": "display_data"
    }
   ],
   "source": [
    "# es mucha la diferencia entre la cantidad de productos vistos vs checkout\n",
    "g = sns.countplot(x=\"marca\", hue=\"event\", data=events, palette=\"husl\", hue_order = events[['event', 'marca']].dropna().event.value_counts().iloc[:].index,\n",
    "                 order = events.marca.value_counts().iloc[:6].index)\n",
    "g.set_title(\"Cantidad de eventos por marca\", fontsize=18)\n",
    "g.set_xlabel(\"Marca\", fontsize=18)\n",
    "g.set_ylabel(\"Cantidad\", fontsize=18)"
   ]
  },
  {
   "cell_type": "markdown",
   "metadata": {},
   "source": [
    "Cantidad de vistas a productos antes de comprar \n",
    "falta graficar y revisar si está bien"
   ]
  },
  {
   "cell_type": "code",
   "execution_count": 37,
   "metadata": {},
   "outputs": [
    {
     "data": {
      "text/html": [
       "<div>\n",
       "<style scoped>\n",
       "    .dataframe tbody tr th:only-of-type {\n",
       "        vertical-align: middle;\n",
       "    }\n",
       "\n",
       "    .dataframe tbody tr th {\n",
       "        vertical-align: top;\n",
       "    }\n",
       "\n",
       "    .dataframe thead th {\n",
       "        text-align: right;\n",
       "    }\n",
       "</style>\n",
       "<table border=\"1\" class=\"dataframe\">\n",
       "  <thead>\n",
       "    <tr style=\"text-align: right;\">\n",
       "      <th></th>\n",
       "      <th></th>\n",
       "      <th>timestamp_x</th>\n",
       "    </tr>\n",
       "    <tr>\n",
       "      <th>person</th>\n",
       "      <th>timestamp_y</th>\n",
       "      <th></th>\n",
       "    </tr>\n",
       "  </thead>\n",
       "  <tbody>\n",
       "    <tr>\n",
       "      <th>00c13dee</th>\n",
       "      <th>2018-04-26 22:28:53</th>\n",
       "      <td>10</td>\n",
       "    </tr>\n",
       "    <tr>\n",
       "      <th>0146a9df</th>\n",
       "      <th>2018-03-16 13:50:25</th>\n",
       "      <td>1</td>\n",
       "    </tr>\n",
       "    <tr>\n",
       "      <th>01db2fe6</th>\n",
       "      <th>2018-02-09 22:07:07</th>\n",
       "      <td>12</td>\n",
       "    </tr>\n",
       "    <tr>\n",
       "      <th>03bdcd81</th>\n",
       "      <th>2018-01-09 16:47:50</th>\n",
       "      <td>13</td>\n",
       "    </tr>\n",
       "    <tr>\n",
       "      <th>04850add</th>\n",
       "      <th>2018-01-23 22:26:36</th>\n",
       "      <td>63</td>\n",
       "    </tr>\n",
       "  </tbody>\n",
       "</table>\n",
       "</div>"
      ],
      "text/plain": [
       "                              timestamp_x\n",
       "person   timestamp_y                     \n",
       "00c13dee 2018-04-26 22:28:53           10\n",
       "0146a9df 2018-03-16 13:50:25            1\n",
       "01db2fe6 2018-02-09 22:07:07           12\n",
       "03bdcd81 2018-01-09 16:47:50           13\n",
       "04850add 2018-01-23 22:26:36           63"
      ]
     },
     "execution_count": 37,
     "metadata": {},
     "output_type": "execute_result"
    }
   ],
   "source": [
    "viewed = viewed_events[['timestamp', 'person']]\n",
    "converted = conversion_events[['timestamp', 'person']]\n",
    "merged = pd.merge(viewed, converted, on='person', how='left')\n",
    "merged = merged[(merged['timestamp_y'] > merged['timestamp_x'])]\n",
    "merged['dif'] = merged['timestamp_y'] - merged['timestamp_x']\n",
    "merged = merged[merged['dif'].dt.days == 0]\n",
    "merged = merged.groupby(['person', 'timestamp_y']).agg({'timestamp_x':'count'})\n",
    "merged.head()"
   ]
  },
  {
   "cell_type": "code",
   "execution_count": 38,
   "metadata": {},
   "outputs": [
    {
     "data": {
      "text/html": [
       "<div>\n",
       "<style scoped>\n",
       "    .dataframe tbody tr th:only-of-type {\n",
       "        vertical-align: middle;\n",
       "    }\n",
       "\n",
       "    .dataframe tbody tr th {\n",
       "        vertical-align: top;\n",
       "    }\n",
       "\n",
       "    .dataframe thead th {\n",
       "        text-align: right;\n",
       "    }\n",
       "</style>\n",
       "<table border=\"1\" class=\"dataframe\">\n",
       "  <thead>\n",
       "    <tr style=\"text-align: right;\">\n",
       "      <th></th>\n",
       "      <th>person</th>\n",
       "      <th>leaded products</th>\n",
       "    </tr>\n",
       "  </thead>\n",
       "  <tbody>\n",
       "    <tr>\n",
       "      <th>176</th>\n",
       "      <td>97e0bcf2</td>\n",
       "      <td>16</td>\n",
       "    </tr>\n",
       "    <tr>\n",
       "      <th>87</th>\n",
       "      <td>52a4edd3</td>\n",
       "      <td>11</td>\n",
       "    </tr>\n",
       "    <tr>\n",
       "      <th>93</th>\n",
       "      <td>58692743</td>\n",
       "      <td>8</td>\n",
       "    </tr>\n",
       "    <tr>\n",
       "      <th>164</th>\n",
       "      <td>8dd8c1b4</td>\n",
       "      <td>6</td>\n",
       "    </tr>\n",
       "    <tr>\n",
       "      <th>237</th>\n",
       "      <td>d5661793</td>\n",
       "      <td>5</td>\n",
       "    </tr>\n",
       "  </tbody>\n",
       "</table>\n",
       "</div>"
      ],
      "text/plain": [
       "       person  leaded products\n",
       "176  97e0bcf2               16\n",
       "87   52a4edd3               11\n",
       "93   58692743                8\n",
       "164  8dd8c1b4                6\n",
       "237  d5661793                5"
      ]
     },
     "execution_count": 38,
     "metadata": {},
     "output_type": "execute_result"
    }
   ],
   "source": [
    "# personas que se suscribieron para un producto\n",
    "# no se suscriben a muchos productos, ¿por qué?\n",
    "leaded_persons = leaded_events[['person','timestamp']] \n",
    "leaded_persons = leaded_persons.groupby('person').agg({'timestamp':'count'}).reset_index()\n",
    "leaded_persons.columns = ['person', 'leaded products'] \n",
    "leaded_persons = leaded_persons.sort_values(by='leaded products', ascending=False)\n",
    "leaded_persons.head()"
   ]
  },
  {
   "cell_type": "code",
   "execution_count": 39,
   "metadata": {},
   "outputs": [
    {
     "data": {
      "text/html": [
       "<div>\n",
       "<style scoped>\n",
       "    .dataframe tbody tr th:only-of-type {\n",
       "        vertical-align: middle;\n",
       "    }\n",
       "\n",
       "    .dataframe tbody tr th {\n",
       "        vertical-align: top;\n",
       "    }\n",
       "\n",
       "    .dataframe thead th {\n",
       "        text-align: right;\n",
       "    }\n",
       "</style>\n",
       "<table border=\"1\" class=\"dataframe\">\n",
       "  <thead>\n",
       "    <tr style=\"text-align: right;\">\n",
       "      <th></th>\n",
       "      <th>person</th>\n",
       "      <th>timestamp</th>\n",
       "      <th>channel</th>\n",
       "    </tr>\n",
       "  </thead>\n",
       "  <tbody>\n",
       "    <tr>\n",
       "      <th>10786</th>\n",
       "      <td>02d599d3</td>\n",
       "      <td>2018-03-12 21:05:50</td>\n",
       "      <td>Email</td>\n",
       "    </tr>\n",
       "    <tr>\n",
       "      <th>31946</th>\n",
       "      <td>08cd79ec</td>\n",
       "      <td>2018-04-01 21:01:08</td>\n",
       "      <td>Email</td>\n",
       "    </tr>\n",
       "    <tr>\n",
       "      <th>41690</th>\n",
       "      <td>0bb3e374</td>\n",
       "      <td>2018-05-06 23:14:11</td>\n",
       "      <td>Email</td>\n",
       "    </tr>\n",
       "    <tr>\n",
       "      <th>88856</th>\n",
       "      <td>1880d52f</td>\n",
       "      <td>2018-05-06 14:01:30</td>\n",
       "      <td>Email</td>\n",
       "    </tr>\n",
       "    <tr>\n",
       "      <th>124947</th>\n",
       "      <td>2169c977</td>\n",
       "      <td>2018-04-18 08:41:24</td>\n",
       "      <td>Email</td>\n",
       "    </tr>\n",
       "  </tbody>\n",
       "</table>\n",
       "</div>"
      ],
      "text/plain": [
       "          person           timestamp channel\n",
       "10786   02d599d3 2018-03-12 21:05:50   Email\n",
       "31946   08cd79ec 2018-04-01 21:01:08   Email\n",
       "41690   0bb3e374 2018-05-06 23:14:11   Email\n",
       "88856   1880d52f 2018-05-06 14:01:30   Email\n",
       "124947  2169c977 2018-04-18 08:41:24   Email"
      ]
     },
     "execution_count": 39,
     "metadata": {},
     "output_type": "execute_result"
    }
   ],
   "source": [
    "# personas que volvieron por canal = EMAIL (ver si esto esta bien.\n",
    "# entiendo que la notif del producto listo llega por email)\n",
    "returning = events[(events['new_vs_returning'] == 'Returning') & (events['channel'] == 'Email')][['person', 'timestamp', 'channel']]\n",
    "returning.head()"
   ]
  },
  {
   "cell_type": "code",
   "execution_count": 40,
   "metadata": {},
   "outputs": [
    {
     "data": {
      "text/html": [
       "<div>\n",
       "<style scoped>\n",
       "    .dataframe tbody tr th:only-of-type {\n",
       "        vertical-align: middle;\n",
       "    }\n",
       "\n",
       "    .dataframe tbody tr th {\n",
       "        vertical-align: top;\n",
       "    }\n",
       "\n",
       "    .dataframe thead th {\n",
       "        text-align: right;\n",
       "    }\n",
       "</style>\n",
       "<table border=\"1\" class=\"dataframe\">\n",
       "  <thead>\n",
       "    <tr style=\"text-align: right;\">\n",
       "      <th></th>\n",
       "      <th>person</th>\n",
       "      <th>times back</th>\n",
       "    </tr>\n",
       "  </thead>\n",
       "  <tbody>\n",
       "    <tr>\n",
       "      <th>0</th>\n",
       "      <td>50ee5606</td>\n",
       "      <td>1</td>\n",
       "    </tr>\n",
       "    <tr>\n",
       "      <th>1</th>\n",
       "      <td>52a4edd3</td>\n",
       "      <td>3</td>\n",
       "    </tr>\n",
       "    <tr>\n",
       "      <th>2</th>\n",
       "      <td>f3b4afa1</td>\n",
       "      <td>1</td>\n",
       "    </tr>\n",
       "  </tbody>\n",
       "</table>\n",
       "</div>"
      ],
      "text/plain": [
       "     person  times back\n",
       "0  50ee5606           1\n",
       "1  52a4edd3           3\n",
       "2  f3b4afa1           1"
      ]
     },
     "execution_count": 40,
     "metadata": {},
     "output_type": "execute_result"
    }
   ],
   "source": [
    "# personas que se suscribieron y volvieron ( son muy pocas )\n",
    "a = pd.merge(leaded_events[['person','timestamp']] , returning, on='person', how='left')\n",
    "a = a[(a['timestamp_y'] > a['timestamp_x'])] # fecha de retorno > fecha de lead\n",
    "a = a.groupby('person').agg({'timestamp_y': pd.Series.nunique})\n",
    "a.reset_index(inplace = True)\n",
    "a.columns = ['person', 'times back'] \n",
    "a"
   ]
  },
  {
   "cell_type": "markdown",
   "metadata": {},
   "source": [
    "# veo cuantos de los que marcaron un producto como lead, lo terminan comprando"
   ]
  },
  {
   "cell_type": "code",
   "execution_count": 136,
   "metadata": {},
   "outputs": [
    {
     "data": {
      "text/html": [
       "<div>\n",
       "<style scoped>\n",
       "    .dataframe tbody tr th:only-of-type {\n",
       "        vertical-align: middle;\n",
       "    }\n",
       "\n",
       "    .dataframe tbody tr th {\n",
       "        vertical-align: top;\n",
       "    }\n",
       "\n",
       "    .dataframe thead th {\n",
       "        text-align: right;\n",
       "    }\n",
       "</style>\n",
       "<table border=\"1\" class=\"dataframe\">\n",
       "  <thead>\n",
       "    <tr style=\"text-align: right;\">\n",
       "      <th></th>\n",
       "      <th>person</th>\n",
       "      <th>timestamp_y</th>\n",
       "      <th>marca_y</th>\n",
       "      <th>modelo_y</th>\n",
       "      <th>marca_x</th>\n",
       "      <th>modelo_x</th>\n",
       "    </tr>\n",
       "  </thead>\n",
       "  <tbody>\n",
       "    <tr>\n",
       "      <th>0</th>\n",
       "      <td>03bdcd81</td>\n",
       "      <td>2018-01-09 16:47:50</td>\n",
       "      <td>Samsung</td>\n",
       "      <td>Galaxy S6</td>\n",
       "      <td>[Samsung]</td>\n",
       "      <td>[Galaxy S7]</td>\n",
       "    </tr>\n",
       "    <tr>\n",
       "      <th>1</th>\n",
       "      <td>19b38ba2</td>\n",
       "      <td>2018-03-30 08:24:58</td>\n",
       "      <td>Sony</td>\n",
       "      <td>Xperia M4</td>\n",
       "      <td>[Sony]</td>\n",
       "      <td>[Xperia M4]</td>\n",
       "    </tr>\n",
       "    <tr>\n",
       "      <th>2</th>\n",
       "      <td>19b38ba2</td>\n",
       "      <td>2018-03-30 16:01:02</td>\n",
       "      <td>Samsung</td>\n",
       "      <td>Galaxy J7</td>\n",
       "      <td>[Sony]</td>\n",
       "      <td>[Xperia M4]</td>\n",
       "    </tr>\n",
       "    <tr>\n",
       "      <th>3</th>\n",
       "      <td>19b38ba2</td>\n",
       "      <td>2018-03-30 19:15:28</td>\n",
       "      <td>Samsung</td>\n",
       "      <td>Galaxy S5</td>\n",
       "      <td>[Sony]</td>\n",
       "      <td>[Xperia M4]</td>\n",
       "    </tr>\n",
       "    <tr>\n",
       "      <th>4</th>\n",
       "      <td>19b38ba2</td>\n",
       "      <td>2018-03-31 04:33:57</td>\n",
       "      <td>Sony</td>\n",
       "      <td>Xperia M4</td>\n",
       "      <td>[Sony]</td>\n",
       "      <td>[Xperia M4]</td>\n",
       "    </tr>\n",
       "    <tr>\n",
       "      <th>5</th>\n",
       "      <td>19b38ba2</td>\n",
       "      <td>2018-04-03 07:23:18</td>\n",
       "      <td>Samsung</td>\n",
       "      <td>Galaxy A5</td>\n",
       "      <td>[Sony]</td>\n",
       "      <td>[Xperia M4]</td>\n",
       "    </tr>\n",
       "    <tr>\n",
       "      <th>6</th>\n",
       "      <td>19b38ba2</td>\n",
       "      <td>2018-04-11 15:20:25</td>\n",
       "      <td>LG</td>\n",
       "      <td>G4 H815P</td>\n",
       "      <td>[Sony, LG]</td>\n",
       "      <td>[Xperia M4, G4 H815P]</td>\n",
       "    </tr>\n",
       "    <tr>\n",
       "      <th>7</th>\n",
       "      <td>19b38ba2</td>\n",
       "      <td>2018-05-10 22:50:34</td>\n",
       "      <td>Samsung</td>\n",
       "      <td>Galaxy J7</td>\n",
       "      <td>[Sony, LG]</td>\n",
       "      <td>[Xperia M4, G4 H815P]</td>\n",
       "    </tr>\n",
       "    <tr>\n",
       "      <th>8</th>\n",
       "      <td>19fe94db</td>\n",
       "      <td>2018-04-23 00:56:23</td>\n",
       "      <td>Samsung</td>\n",
       "      <td>Galaxy J5</td>\n",
       "      <td>[Samsung, Samsung]</td>\n",
       "      <td>[Galaxy J7, Galaxy J3]</td>\n",
       "    </tr>\n",
       "    <tr>\n",
       "      <th>9</th>\n",
       "      <td>1ac00500</td>\n",
       "      <td>2018-04-16 18:55:43</td>\n",
       "      <td>Sony</td>\n",
       "      <td>Xperia Z3</td>\n",
       "      <td>[Motorola, Samsung]</td>\n",
       "      <td>[Moto G4, Galaxy A7]</td>\n",
       "    </tr>\n",
       "  </tbody>\n",
       "</table>\n",
       "</div>"
      ],
      "text/plain": [
       "     person         timestamp_y  marca_y   modelo_y              marca_x  \\\n",
       "0  03bdcd81 2018-01-09 16:47:50  Samsung  Galaxy S6            [Samsung]   \n",
       "1  19b38ba2 2018-03-30 08:24:58     Sony  Xperia M4               [Sony]   \n",
       "2  19b38ba2 2018-03-30 16:01:02  Samsung  Galaxy J7               [Sony]   \n",
       "3  19b38ba2 2018-03-30 19:15:28  Samsung  Galaxy S5               [Sony]   \n",
       "4  19b38ba2 2018-03-31 04:33:57     Sony  Xperia M4               [Sony]   \n",
       "5  19b38ba2 2018-04-03 07:23:18  Samsung  Galaxy A5               [Sony]   \n",
       "6  19b38ba2 2018-04-11 15:20:25       LG   G4 H815P           [Sony, LG]   \n",
       "7  19b38ba2 2018-05-10 22:50:34  Samsung  Galaxy J7           [Sony, LG]   \n",
       "8  19fe94db 2018-04-23 00:56:23  Samsung  Galaxy J5   [Samsung, Samsung]   \n",
       "9  1ac00500 2018-04-16 18:55:43     Sony  Xperia Z3  [Motorola, Samsung]   \n",
       "\n",
       "                 modelo_x  \n",
       "0             [Galaxy S7]  \n",
       "1             [Xperia M4]  \n",
       "2             [Xperia M4]  \n",
       "3             [Xperia M4]  \n",
       "4             [Xperia M4]  \n",
       "5             [Xperia M4]  \n",
       "6   [Xperia M4, G4 H815P]  \n",
       "7   [Xperia M4, G4 H815P]  \n",
       "8  [Galaxy J7, Galaxy J3]  \n",
       "9    [Moto G4, Galaxy A7]  "
      ]
     },
     "execution_count": 136,
     "metadata": {},
     "output_type": "execute_result"
    }
   ],
   "source": [
    "leaded_models = leaded_events[['person','timestamp', 'marca', 'modelo']] \n",
    "converted_models = conversion_events[['timestamp', 'person', 'marca', 'modelo']]\n",
    "merged = pd.merge(leaded_models, converted_models, on='person', how='left')\n",
    "merged = merged[merged['timestamp_x'] < merged['timestamp_y']]\n",
    "merged = merged.groupby(['person', 'timestamp_y', 'marca_y', 'modelo_y'], as_index=False)[['marca_x', 'modelo_x']].aggregate(lambda x: list(x))\n",
    "merged.head(10)\n"
   ]
  },
  {
   "cell_type": "code",
   "execution_count": 143,
   "metadata": {},
   "outputs": [
    {
     "data": {
      "text/plain": [
       "True     75\n",
       "False    24\n",
       "Name: misma_marca, dtype: int64"
      ]
     },
     "execution_count": 143,
     "metadata": {},
     "output_type": "execute_result"
    }
   ],
   "source": [
    "# veo quienes compraron la misma marca \n",
    "merged['misma_marca'] = merged.apply(lambda x: x.marca_y in x.marca_x, axis=1)\n",
    "merged['misma_marca'].value_counts()\n"
   ]
  },
  {
   "cell_type": "code",
   "execution_count": 153,
   "metadata": {},
   "outputs": [
    {
     "data": {
      "text/html": [
       "<div>\n",
       "<style scoped>\n",
       "    .dataframe tbody tr th:only-of-type {\n",
       "        vertical-align: middle;\n",
       "    }\n",
       "\n",
       "    .dataframe tbody tr th {\n",
       "        vertical-align: top;\n",
       "    }\n",
       "\n",
       "    .dataframe thead th {\n",
       "        text-align: right;\n",
       "    }\n",
       "</style>\n",
       "<table border=\"1\" class=\"dataframe\">\n",
       "  <thead>\n",
       "    <tr style=\"text-align: right;\">\n",
       "      <th></th>\n",
       "      <th></th>\n",
       "      <th>person</th>\n",
       "    </tr>\n",
       "    <tr>\n",
       "      <th>misma_marca</th>\n",
       "      <th>misma_marca_modelo</th>\n",
       "      <th></th>\n",
       "    </tr>\n",
       "  </thead>\n",
       "  <tbody>\n",
       "    <tr>\n",
       "      <th>False</th>\n",
       "      <th>False</th>\n",
       "      <td>24</td>\n",
       "    </tr>\n",
       "    <tr>\n",
       "      <th rowspan=\"2\" valign=\"top\">True</th>\n",
       "      <th>False</th>\n",
       "      <td>33</td>\n",
       "    </tr>\n",
       "    <tr>\n",
       "      <th>True</th>\n",
       "      <td>42</td>\n",
       "    </tr>\n",
       "  </tbody>\n",
       "</table>\n",
       "</div>"
      ],
      "text/plain": [
       "                                person\n",
       "misma_marca misma_marca_modelo        \n",
       "False       False                   24\n",
       "True        False                   33\n",
       "            True                    42"
      ]
     },
     "execution_count": 153,
     "metadata": {},
     "output_type": "execute_result"
    }
   ],
   "source": [
    "# veo quienes compraron la misma marca y modelo\n",
    "merged['misma_marca_modelo'] = merged[merged['misma_marca'] == True].apply(lambda x: x.modelo_y in x.modelo_x, axis=1, )\n",
    "merged['misma_marca_modelo'].fillna(value=False, inplace=True)\n",
    "merged.groupby(['misma_marca', 'misma_marca_modelo']).agg({'person':'count'})"
   ]
  },
  {
   "cell_type": "code",
   "execution_count": 155,
   "metadata": {},
   "outputs": [],
   "source": [
    "# graficar lo de arriba.\n",
    "# la mayoría vuelve a comprar el mismo producto, o un modelo diferente pero de la misma marca\n",
    "# hay mucha gente que no volvió a comprar (¿por que? ¿falta enviar mails, reponer stock?)"
   ]
  },
  {
   "cell_type": "code",
   "execution_count": 156,
   "metadata": {},
   "outputs": [],
   "source": []
  },
  {
   "cell_type": "code",
   "execution_count": 180,
   "metadata": {},
   "outputs": [
    {
     "data": {
      "text/plain": [
       "(291, 3)"
      ]
     },
     "execution_count": 180,
     "metadata": {},
     "output_type": "execute_result"
    }
   ],
   "source": [
    "# hay 291 personas que pusieron en lead productos\n",
    "# y solo 49 compraron después\n",
    "leaded_models.groupby('person').count().shape"
   ]
  },
  {
   "cell_type": "code",
   "execution_count": 179,
   "metadata": {},
   "outputs": [
    {
     "data": {
      "text/plain": [
       "(49, 7)"
      ]
     },
     "execution_count": 179,
     "metadata": {},
     "output_type": "execute_result"
    }
   ],
   "source": [
    "merged.groupby('person').count().shape"
   ]
  },
  {
   "cell_type": "code",
   "execution_count": 178,
   "metadata": {},
   "outputs": [],
   "source": []
  },
  {
   "cell_type": "code",
   "execution_count": null,
   "metadata": {},
   "outputs": [],
   "source": [
    "#falta agregar las compras al analisis, solo hay del checkout y de busquedas\n",
    "#falta analisar si en los dias de la semana los eventos son parejos o hay outlayers (por ahi boxplot va bien)"
   ]
  }
 ],
 "metadata": {
  "kernelspec": {
   "display_name": "Python 3",
   "language": "python",
   "name": "python3"
  },
  "language_info": {
   "codemirror_mode": {
    "name": "ipython",
    "version": 3
   },
   "file_extension": ".py",
   "mimetype": "text/x-python",
   "name": "python",
   "nbconvert_exporter": "python",
   "pygments_lexer": "ipython3",
   "version": "3.6.5"
  }
 },
 "nbformat": 4,
 "nbformat_minor": 2
}
