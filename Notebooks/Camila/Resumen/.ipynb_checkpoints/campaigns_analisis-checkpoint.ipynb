{
 "cells": [
  {
   "cell_type": "code",
   "execution_count": 58,
   "metadata": {},
   "outputs": [],
   "source": [
    "# librerías a utilizar\n",
    "import numpy as np \n",
    "import pandas as pd\n",
    "import datetime as datetime\n",
    "\n",
    "# plots\n",
    "import matplotlib.pyplot as plt\n",
    "import seaborn as sns\n",
    "sns.set(style=\"whitegrid\")\n",
    "%matplotlib inline\n",
    "\n",
    "import matplotlib.dates as mdates\n",
    "import matplotlib.cbook as cbook"
   ]
  },
  {
   "cell_type": "code",
   "execution_count": 59,
   "metadata": {},
   "outputs": [
    {
     "data": {
      "text/html": [
       "<div>\n",
       "<style scoped>\n",
       "    .dataframe tbody tr th:only-of-type {\n",
       "        vertical-align: middle;\n",
       "    }\n",
       "\n",
       "    .dataframe tbody tr th {\n",
       "        vertical-align: top;\n",
       "    }\n",
       "\n",
       "    .dataframe thead th {\n",
       "        text-align: right;\n",
       "    }\n",
       "</style>\n",
       "<table border=\"1\" class=\"dataframe\">\n",
       "  <thead>\n",
       "    <tr style=\"text-align: right;\">\n",
       "      <th></th>\n",
       "      <th>timestamp</th>\n",
       "      <th>event</th>\n",
       "      <th>person</th>\n",
       "      <th>url</th>\n",
       "      <th>sku</th>\n",
       "      <th>model</th>\n",
       "      <th>condition</th>\n",
       "      <th>storage</th>\n",
       "      <th>color</th>\n",
       "      <th>skus</th>\n",
       "      <th>...</th>\n",
       "      <th>search_engine</th>\n",
       "      <th>channel</th>\n",
       "      <th>new_vs_returning</th>\n",
       "      <th>city</th>\n",
       "      <th>region</th>\n",
       "      <th>country</th>\n",
       "      <th>device_type</th>\n",
       "      <th>screen_resolution</th>\n",
       "      <th>operating_system_version</th>\n",
       "      <th>browser_version</th>\n",
       "    </tr>\n",
       "  </thead>\n",
       "  <tbody>\n",
       "    <tr>\n",
       "      <th>0</th>\n",
       "      <td>2018-05-31 23:38:05</td>\n",
       "      <td>ad campaign hit</td>\n",
       "      <td>0004b0a2</td>\n",
       "      <td>/comprar/iphone/iphone-5s</td>\n",
       "      <td>NaN</td>\n",
       "      <td>NaN</td>\n",
       "      <td>NaN</td>\n",
       "      <td>NaN</td>\n",
       "      <td>NaN</td>\n",
       "      <td>NaN</td>\n",
       "      <td>...</td>\n",
       "      <td>NaN</td>\n",
       "      <td>NaN</td>\n",
       "      <td>NaN</td>\n",
       "      <td>NaN</td>\n",
       "      <td>NaN</td>\n",
       "      <td>NaN</td>\n",
       "      <td>NaN</td>\n",
       "      <td>NaN</td>\n",
       "      <td>NaN</td>\n",
       "      <td>NaN</td>\n",
       "    </tr>\n",
       "    <tr>\n",
       "      <th>1</th>\n",
       "      <td>2018-05-31 23:38:05</td>\n",
       "      <td>visited site</td>\n",
       "      <td>0004b0a2</td>\n",
       "      <td>NaN</td>\n",
       "      <td>NaN</td>\n",
       "      <td>NaN</td>\n",
       "      <td>NaN</td>\n",
       "      <td>NaN</td>\n",
       "      <td>NaN</td>\n",
       "      <td>NaN</td>\n",
       "      <td>...</td>\n",
       "      <td>NaN</td>\n",
       "      <td>Paid</td>\n",
       "      <td>New</td>\n",
       "      <td>Camaragibe</td>\n",
       "      <td>Pernambuco</td>\n",
       "      <td>Brazil</td>\n",
       "      <td>Smartphone</td>\n",
       "      <td>360x640</td>\n",
       "      <td>Android 6</td>\n",
       "      <td>Chrome Mobile 39</td>\n",
       "    </tr>\n",
       "    <tr>\n",
       "      <th>2</th>\n",
       "      <td>2018-05-31 23:38:09</td>\n",
       "      <td>viewed product</td>\n",
       "      <td>0004b0a2</td>\n",
       "      <td>NaN</td>\n",
       "      <td>2694.0</td>\n",
       "      <td>iPhone 5s</td>\n",
       "      <td>Bom</td>\n",
       "      <td>32GB</td>\n",
       "      <td>Cinza espacial</td>\n",
       "      <td>NaN</td>\n",
       "      <td>...</td>\n",
       "      <td>NaN</td>\n",
       "      <td>NaN</td>\n",
       "      <td>NaN</td>\n",
       "      <td>NaN</td>\n",
       "      <td>NaN</td>\n",
       "      <td>NaN</td>\n",
       "      <td>NaN</td>\n",
       "      <td>NaN</td>\n",
       "      <td>NaN</td>\n",
       "      <td>NaN</td>\n",
       "    </tr>\n",
       "    <tr>\n",
       "      <th>3</th>\n",
       "      <td>2018-05-31 23:38:40</td>\n",
       "      <td>checkout</td>\n",
       "      <td>0004b0a2</td>\n",
       "      <td>NaN</td>\n",
       "      <td>2694.0</td>\n",
       "      <td>iPhone 5s</td>\n",
       "      <td>Bom</td>\n",
       "      <td>32GB</td>\n",
       "      <td>Cinza espacial</td>\n",
       "      <td>NaN</td>\n",
       "      <td>...</td>\n",
       "      <td>NaN</td>\n",
       "      <td>NaN</td>\n",
       "      <td>NaN</td>\n",
       "      <td>NaN</td>\n",
       "      <td>NaN</td>\n",
       "      <td>NaN</td>\n",
       "      <td>NaN</td>\n",
       "      <td>NaN</td>\n",
       "      <td>NaN</td>\n",
       "      <td>NaN</td>\n",
       "    </tr>\n",
       "    <tr>\n",
       "      <th>4</th>\n",
       "      <td>2018-05-29 13:29:25</td>\n",
       "      <td>viewed product</td>\n",
       "      <td>0006a21a</td>\n",
       "      <td>NaN</td>\n",
       "      <td>15338.0</td>\n",
       "      <td>Samsung Galaxy S8</td>\n",
       "      <td>Bom</td>\n",
       "      <td>64GB</td>\n",
       "      <td>Dourado</td>\n",
       "      <td>NaN</td>\n",
       "      <td>...</td>\n",
       "      <td>NaN</td>\n",
       "      <td>NaN</td>\n",
       "      <td>NaN</td>\n",
       "      <td>NaN</td>\n",
       "      <td>NaN</td>\n",
       "      <td>NaN</td>\n",
       "      <td>NaN</td>\n",
       "      <td>NaN</td>\n",
       "      <td>NaN</td>\n",
       "      <td>NaN</td>\n",
       "    </tr>\n",
       "  </tbody>\n",
       "</table>\n",
       "<p>5 rows × 23 columns</p>\n",
       "</div>"
      ],
      "text/plain": [
       "             timestamp            event    person                        url  \\\n",
       "0  2018-05-31 23:38:05  ad campaign hit  0004b0a2  /comprar/iphone/iphone-5s   \n",
       "1  2018-05-31 23:38:05     visited site  0004b0a2                        NaN   \n",
       "2  2018-05-31 23:38:09   viewed product  0004b0a2                        NaN   \n",
       "3  2018-05-31 23:38:40         checkout  0004b0a2                        NaN   \n",
       "4  2018-05-29 13:29:25   viewed product  0006a21a                        NaN   \n",
       "\n",
       "       sku              model condition storage           color skus  \\\n",
       "0      NaN                NaN       NaN     NaN             NaN  NaN   \n",
       "1      NaN                NaN       NaN     NaN             NaN  NaN   \n",
       "2   2694.0          iPhone 5s       Bom    32GB  Cinza espacial  NaN   \n",
       "3   2694.0          iPhone 5s       Bom    32GB  Cinza espacial  NaN   \n",
       "4  15338.0  Samsung Galaxy S8       Bom    64GB         Dourado  NaN   \n",
       "\n",
       "         ...        search_engine channel new_vs_returning        city  \\\n",
       "0        ...                  NaN     NaN              NaN         NaN   \n",
       "1        ...                  NaN    Paid              New  Camaragibe   \n",
       "2        ...                  NaN     NaN              NaN         NaN   \n",
       "3        ...                  NaN     NaN              NaN         NaN   \n",
       "4        ...                  NaN     NaN              NaN         NaN   \n",
       "\n",
       "       region country device_type screen_resolution operating_system_version  \\\n",
       "0         NaN     NaN         NaN               NaN                      NaN   \n",
       "1  Pernambuco  Brazil  Smartphone           360x640                Android 6   \n",
       "2         NaN     NaN         NaN               NaN                      NaN   \n",
       "3         NaN     NaN         NaN               NaN                      NaN   \n",
       "4         NaN     NaN         NaN               NaN                      NaN   \n",
       "\n",
       "    browser_version  \n",
       "0               NaN  \n",
       "1  Chrome Mobile 39  \n",
       "2               NaN  \n",
       "3               NaN  \n",
       "4               NaN  \n",
       "\n",
       "[5 rows x 23 columns]"
      ]
     },
     "execution_count": 59,
     "metadata": {},
     "output_type": "execute_result"
    }
   ],
   "source": [
    "# cargamos los datos\n",
    "events = pd.read_csv('events.csv', low_memory = False)\n",
    "events.head()"
   ]
  },
  {
   "cell_type": "code",
   "execution_count": 60,
   "metadata": {},
   "outputs": [
    {
     "data": {
      "text/html": [
       "<div>\n",
       "<style scoped>\n",
       "    .dataframe tbody tr th:only-of-type {\n",
       "        vertical-align: middle;\n",
       "    }\n",
       "\n",
       "    .dataframe tbody tr th {\n",
       "        vertical-align: top;\n",
       "    }\n",
       "\n",
       "    .dataframe thead th {\n",
       "        text-align: right;\n",
       "    }\n",
       "</style>\n",
       "<table border=\"1\" class=\"dataframe\">\n",
       "  <thead>\n",
       "    <tr style=\"text-align: right;\">\n",
       "      <th></th>\n",
       "      <th>timestamp_month</th>\n",
       "      <th>timestamp_year</th>\n",
       "      <th>timestamp_weekday</th>\n",
       "    </tr>\n",
       "  </thead>\n",
       "  <tbody>\n",
       "    <tr>\n",
       "      <th>0</th>\n",
       "      <td>5</td>\n",
       "      <td>2018</td>\n",
       "      <td>Thursday</td>\n",
       "    </tr>\n",
       "    <tr>\n",
       "      <th>1</th>\n",
       "      <td>5</td>\n",
       "      <td>2018</td>\n",
       "      <td>Thursday</td>\n",
       "    </tr>\n",
       "    <tr>\n",
       "      <th>2</th>\n",
       "      <td>5</td>\n",
       "      <td>2018</td>\n",
       "      <td>Thursday</td>\n",
       "    </tr>\n",
       "    <tr>\n",
       "      <th>3</th>\n",
       "      <td>5</td>\n",
       "      <td>2018</td>\n",
       "      <td>Thursday</td>\n",
       "    </tr>\n",
       "    <tr>\n",
       "      <th>4</th>\n",
       "      <td>5</td>\n",
       "      <td>2018</td>\n",
       "      <td>Tuesday</td>\n",
       "    </tr>\n",
       "  </tbody>\n",
       "</table>\n",
       "</div>"
      ],
      "text/plain": [
       "   timestamp_month  timestamp_year timestamp_weekday\n",
       "0                5            2018          Thursday\n",
       "1                5            2018          Thursday\n",
       "2                5            2018          Thursday\n",
       "3                5            2018          Thursday\n",
       "4                5            2018           Tuesday"
      ]
     },
     "execution_count": 60,
     "metadata": {},
     "output_type": "execute_result"
    }
   ],
   "source": [
    "# formateo la fecha y agrego campos por día/mes/año\n",
    "events['timestamp'] = pd.to_datetime(events['timestamp'], errors = 'coerce', format= '%Y-%m-%d')\n",
    "events['timestamp_month'] = events['timestamp'].dt.month\n",
    "events['timestamp_year'] = events['timestamp'].dt.year\n",
    "events['timestamp_weekday'] = events['timestamp'].dt.weekday_name\n",
    "events['timestamp_day'] = events['timestamp'].dt.day\n",
    "events[['timestamp_month', 'timestamp_year', 'timestamp_weekday']].head()"
   ]
  },
  {
   "cell_type": "code",
   "execution_count": 61,
   "metadata": {},
   "outputs": [],
   "source": [
    "# agrego columnas marca y modelo\n",
    "events['marca'] = events['model'].str.split(' ').str[0]\n",
    "events['modelo'] = events['model'].str.split(' ').str[1].fillna('') + ' ' + events['model'].str.split(' ').str[2].fillna('')\n",
    "\n",
    "visited_events = events[events['event'] == 'visited site']\n",
    "# creo que estos son los eventos asociados a las marcas (validar que no falte alguno)\n",
    "viewed_events = events[events['event'] == 'viewed product']\n",
    "leaded_events = events[events['event'] == 'lead']\n",
    "conversion_events = events[events['event'] == 'conversion']\n",
    "checkouted_events = events[events['event'] == 'checkout']"
   ]
  },
  {
   "cell_type": "code",
   "execution_count": 62,
   "metadata": {},
   "outputs": [
    {
     "data": {
      "text/html": [
       "<div>\n",
       "<style scoped>\n",
       "    .dataframe tbody tr th:only-of-type {\n",
       "        vertical-align: middle;\n",
       "    }\n",
       "\n",
       "    .dataframe tbody tr th {\n",
       "        vertical-align: top;\n",
       "    }\n",
       "\n",
       "    .dataframe thead th {\n",
       "        text-align: right;\n",
       "    }\n",
       "</style>\n",
       "<table border=\"1\" class=\"dataframe\">\n",
       "  <thead>\n",
       "    <tr style=\"text-align: right;\">\n",
       "      <th></th>\n",
       "      <th>campaign_source</th>\n",
       "      <th>event</th>\n",
       "    </tr>\n",
       "  </thead>\n",
       "  <tbody>\n",
       "    <tr>\n",
       "      <th>13</th>\n",
       "      <td>google</td>\n",
       "      <td>58153</td>\n",
       "    </tr>\n",
       "    <tr>\n",
       "      <th>10</th>\n",
       "      <td>criteo</td>\n",
       "      <td>9694</td>\n",
       "    </tr>\n",
       "    <tr>\n",
       "      <th>19</th>\n",
       "      <td>rtbhouse</td>\n",
       "      <td>8550</td>\n",
       "    </tr>\n",
       "    <tr>\n",
       "      <th>23</th>\n",
       "      <td>zanox</td>\n",
       "      <td>1673</td>\n",
       "    </tr>\n",
       "    <tr>\n",
       "      <th>12</th>\n",
       "      <td>emblue</td>\n",
       "      <td>1352</td>\n",
       "    </tr>\n",
       "  </tbody>\n",
       "</table>\n",
       "</div>"
      ],
      "text/plain": [
       "   campaign_source  event\n",
       "13          google  58153\n",
       "10          criteo   9694\n",
       "19        rtbhouse   8550\n",
       "23           zanox   1673\n",
       "12          emblue   1352"
      ]
     },
     "execution_count": 62,
     "metadata": {},
     "output_type": "execute_result"
    }
   ],
   "source": [
    "# cuales son las campañas más exitosas\n",
    "campaigns_sources = events[events['event'] == 'ad campaign hit'].groupby('campaign_source').agg({'event':'count'}).reset_index()\n",
    "campaigns_sources = campaigns_sources.sort_values(by='event', ascending = False)\n",
    "campaigns_sources.head()"
   ]
  },
  {
   "cell_type": "code",
   "execution_count": 63,
   "metadata": {},
   "outputs": [
    {
     "data": {
      "image/png": "[encoded data removed]",
      "text/plain": [
       "<Figure size 432x288 with 1 Axes>"
      ]
     },
     "metadata": {},
     "output_type": "display_data"
    }
   ],
   "source": [
    "g = sns.barplot(x=campaigns_sources.event, y=campaigns_sources.campaign_source[:10], palette=sns.color_palette(\"husl\", 8))\n",
    "g.set_title(\"Campañas más exitosas\", fontsize=15)\n",
    "g.set_xlabel(\"Total de visitas\", fontsize=12)\n",
    "g.set_ylabel(\"Nombre de la campaña\", fontsize=12);"
   ]
  },
  {
   "cell_type": "code",
   "execution_count": 64,
   "metadata": {},
   "outputs": [
    {
     "data": {
      "text/html": [
       "<div>\n",
       "<style scoped>\n",
       "    .dataframe tbody tr th:only-of-type {\n",
       "        vertical-align: middle;\n",
       "    }\n",
       "\n",
       "    .dataframe tbody tr th {\n",
       "        vertical-align: top;\n",
       "    }\n",
       "\n",
       "    .dataframe thead th {\n",
       "        text-align: right;\n",
       "    }\n",
       "</style>\n",
       "<table border=\"1\" class=\"dataframe\">\n",
       "  <thead>\n",
       "    <tr style=\"text-align: right;\">\n",
       "      <th></th>\n",
       "      <th>timestamp</th>\n",
       "      <th>person</th>\n",
       "      <th>url</th>\n",
       "      <th>ads_accion</th>\n",
       "      <th>ads_marca</th>\n",
       "      <th>ads_modelo</th>\n",
       "    </tr>\n",
       "  </thead>\n",
       "  <tbody>\n",
       "    <tr>\n",
       "      <th>0</th>\n",
       "      <td>2018-05-31 23:38:05</td>\n",
       "      <td>0004b0a2</td>\n",
       "      <td>/comprar/iphone/iphone-5s</td>\n",
       "      <td>comprar</td>\n",
       "      <td>iphone</td>\n",
       "      <td>iphone-5s</td>\n",
       "    </tr>\n",
       "    <tr>\n",
       "      <th>6</th>\n",
       "      <td>2018-05-29 13:29:27</td>\n",
       "      <td>0006a21a</td>\n",
       "      <td>/comprar/samsung/galaxy-s8</td>\n",
       "      <td>comprar</td>\n",
       "      <td>samsung</td>\n",
       "      <td>galaxy-s8</td>\n",
       "    </tr>\n",
       "    <tr>\n",
       "      <th>99</th>\n",
       "      <td>2018-05-17 00:08:56</td>\n",
       "      <td>0019c395</td>\n",
       "      <td>/comprar/samsung/galaxy-j5</td>\n",
       "      <td>comprar</td>\n",
       "      <td>samsung</td>\n",
       "      <td>galaxy-j5</td>\n",
       "    </tr>\n",
       "    <tr>\n",
       "      <th>101</th>\n",
       "      <td>2018-05-17 00:11:10</td>\n",
       "      <td>0019c395</td>\n",
       "      <td>/comprar/samsung/galaxy-j5</td>\n",
       "      <td>comprar</td>\n",
       "      <td>samsung</td>\n",
       "      <td>galaxy-j5</td>\n",
       "    </tr>\n",
       "    <tr>\n",
       "      <th>107</th>\n",
       "      <td>2018-06-08 12:15:33</td>\n",
       "      <td>001bb7eb</td>\n",
       "      <td>/comprar/iphone/6</td>\n",
       "      <td>comprar</td>\n",
       "      <td>iphone</td>\n",
       "      <td>6</td>\n",
       "    </tr>\n",
       "  </tbody>\n",
       "</table>\n",
       "</div>"
      ],
      "text/plain": [
       "              timestamp    person                         url ads_accion  \\\n",
       "0   2018-05-31 23:38:05  0004b0a2   /comprar/iphone/iphone-5s    comprar   \n",
       "6   2018-05-29 13:29:27  0006a21a  /comprar/samsung/galaxy-s8    comprar   \n",
       "99  2018-05-17 00:08:56  0019c395  /comprar/samsung/galaxy-j5    comprar   \n",
       "101 2018-05-17 00:11:10  0019c395  /comprar/samsung/galaxy-j5    comprar   \n",
       "107 2018-06-08 12:15:33  001bb7eb           /comprar/iphone/6    comprar   \n",
       "\n",
       "    ads_marca ads_modelo  \n",
       "0      iphone  iphone-5s  \n",
       "6     samsung  galaxy-s8  \n",
       "99    samsung  galaxy-j5  \n",
       "101   samsung  galaxy-j5  \n",
       "107    iphone          6  "
      ]
     },
     "execution_count": 64,
     "metadata": {},
     "output_type": "execute_result"
    }
   ],
   "source": [
    "events['ads_accion'] = events['url'].str.split('/').str[1]\n",
    "events['ads_marca'] = events['url'].str.split('/').str[2]\n",
    "events['ads_modelo'] = events['url'].str.split('/').str[3]\n",
    "ads_event = events[(events['event'] == 'ad campaign hit') & (events['url'] != '/')]\n",
    "ads_event[['timestamp', 'person', 'url', 'ads_accion', 'ads_marca', 'ads_modelo']].head()"
   ]
  },
  {
   "cell_type": "code",
   "execution_count": 65,
   "metadata": {},
   "outputs": [
    {
     "data": {
      "text/plain": [
       "comprar               54209\n",
       "                      28323\n",
       "vender                  221\n",
       "clube-trocafone           2\n",
       "termos-e-condicoes        1\n",
       "Name: ads_accion, dtype: int64"
      ]
     },
     "execution_count": 65,
     "metadata": {},
     "output_type": "execute_result"
    }
   ],
   "source": [
    "# hay pocos ads sobre vender. tal vez se debería fomentar más eso\n",
    "events['ads_accion'].value_counts()"
   ]
  },
  {
   "cell_type": "code",
   "execution_count": 66,
   "metadata": {},
   "outputs": [
    {
     "data": {
      "text/plain": [
       "            138\n",
       "motorola     44\n",
       "lg           26\n",
       "samsung      11\n",
       "Name: ads_marca, dtype: int64"
      ]
     },
     "execution_count": 66,
     "metadata": {},
     "output_type": "execute_result"
    }
   ],
   "source": [
    "ads_event[ads_event['ads_accion'] == 'vender']['ads_marca'].value_counts()"
   ]
  },
  {
   "cell_type": "code",
   "execution_count": 67,
   "metadata": {},
   "outputs": [
    {
     "data": {
      "text/plain": [
       "samsung     26485\n",
       "iphone      20109\n",
       "motorola     5594\n",
       "lg            972\n",
       "sony          484\n",
       "asus          222\n",
       "lenovo        187\n",
       "ipad          121\n",
       "quantum        10\n",
       "ofertas        10\n",
       "apple           8\n",
       "list            7\n",
       "Name: ads_marca, dtype: int64"
      ]
     },
     "execution_count": 67,
     "metadata": {},
     "output_type": "execute_result"
    }
   ],
   "source": [
    "# hay mucha propaganda sobre samsung y iphone\n",
    "# se corresponde con los productos más comprados\n",
    "ads_event[ads_event['ads_accion'] == 'comprar']['ads_marca'].value_counts()"
   ]
  },
  {
   "cell_type": "code",
   "execution_count": 68,
   "metadata": {},
   "outputs": [
    {
     "data": {
      "text/plain": [
       "Text(0,0.5,'Nombre de marca')"
      ]
     },
     "execution_count": 68,
     "metadata": {},
     "output_type": "execute_result"
    },
    {
     "data": {
      "image/png": "[encoded data removed]",
      "text/plain": [
       "<Figure size 432x288 with 1 Axes>"
      ]
     },
     "metadata": {},
     "output_type": "display_data"
    }
   ],
   "source": [
    "ads_compra = ads_event[ads_event['ads_accion'] == 'comprar'].groupby('ads_marca').agg({'event':'count'}).reset_index()\n",
    "ads_compra = ads_compra.sort_values(by='event', ascending = False)\n",
    "g = sns.barplot(x=ads_compra.event, y=ads_compra.ads_marca)\n",
    "g.set_title(\"Campañas por marcas\", fontsize=15)\n",
    "g.set_xlabel(\"Total de visitas\", fontsize=12)\n",
    "g.set_ylabel(\"Nombre de marca\", fontsize=12)"
   ]
  },
  {
   "cell_type": "code",
   "execution_count": 82,
   "metadata": {},
   "outputs": [
    {
     "data": {
      "text/html": [
       "<div>\n",
       "<style scoped>\n",
       "    .dataframe tbody tr th:only-of-type {\n",
       "        vertical-align: middle;\n",
       "    }\n",
       "\n",
       "    .dataframe tbody tr th {\n",
       "        vertical-align: top;\n",
       "    }\n",
       "\n",
       "    .dataframe thead th {\n",
       "        text-align: right;\n",
       "    }\n",
       "</style>\n",
       "<table border=\"1\" class=\"dataframe\">\n",
       "  <thead>\n",
       "    <tr style=\"text-align: right;\">\n",
       "      <th></th>\n",
       "      <th>person</th>\n",
       "      <th>timestamp_x</th>\n",
       "      <th>ads_marca</th>\n",
       "      <th>ads_modelo</th>\n",
       "      <th>timestamp_y</th>\n",
       "      <th>marca</th>\n",
       "      <th>modelo</th>\n",
       "    </tr>\n",
       "  </thead>\n",
       "  <tbody>\n",
       "    <tr>\n",
       "      <th>6</th>\n",
       "      <td>00204059</td>\n",
       "      <td>2018-02-01 23:32:02</td>\n",
       "      <td>iphone</td>\n",
       "      <td>NaN</td>\n",
       "      <td>2018-03-20 17:46:12</td>\n",
       "      <td>Motorola</td>\n",
       "      <td>Moto X2</td>\n",
       "    </tr>\n",
       "    <tr>\n",
       "      <th>158</th>\n",
       "      <td>00c13dee</td>\n",
       "      <td>2018-03-18 01:48:39</td>\n",
       "      <td>iphone</td>\n",
       "      <td>6s</td>\n",
       "      <td>2018-04-26 22:28:53</td>\n",
       "      <td>Samsung</td>\n",
       "      <td>Galaxy Core</td>\n",
       "    </tr>\n",
       "    <tr>\n",
       "      <th>212</th>\n",
       "      <td>0146a9df</td>\n",
       "      <td>2018-03-16 13:39:15</td>\n",
       "      <td>iphone</td>\n",
       "      <td>iphone-5s</td>\n",
       "      <td>2018-03-16 13:50:25</td>\n",
       "      <td>iPhone</td>\n",
       "      <td>5s</td>\n",
       "    </tr>\n",
       "    <tr>\n",
       "      <th>321</th>\n",
       "      <td>01db2fe6</td>\n",
       "      <td>2018-02-09 20:29:56</td>\n",
       "      <td>samsung</td>\n",
       "      <td>galaxy-s5-new-edition-duos</td>\n",
       "      <td>2018-02-09 22:07:07</td>\n",
       "      <td>Samsung</td>\n",
       "      <td>Galaxy J5</td>\n",
       "    </tr>\n",
       "    <tr>\n",
       "      <th>997</th>\n",
       "      <td>04fbc241</td>\n",
       "      <td>2018-01-10 18:41:20</td>\n",
       "      <td>samsung</td>\n",
       "      <td>galaxy-j5</td>\n",
       "      <td>2018-01-10 18:59:05</td>\n",
       "      <td>Samsung</td>\n",
       "      <td>Galaxy J5</td>\n",
       "    </tr>\n",
       "  </tbody>\n",
       "</table>\n",
       "</div>"
      ],
      "text/plain": [
       "       person         timestamp_x ads_marca                  ads_modelo  \\\n",
       "6    00204059 2018-02-01 23:32:02    iphone                         NaN   \n",
       "158  00c13dee 2018-03-18 01:48:39    iphone                          6s   \n",
       "212  0146a9df 2018-03-16 13:39:15    iphone                   iphone-5s   \n",
       "321  01db2fe6 2018-02-09 20:29:56   samsung  galaxy-s5-new-edition-duos   \n",
       "997  04fbc241 2018-01-10 18:41:20   samsung                   galaxy-j5   \n",
       "\n",
       "            timestamp_y     marca       modelo  \n",
       "6   2018-03-20 17:46:12  Motorola      Moto X2  \n",
       "158 2018-04-26 22:28:53   Samsung  Galaxy Core  \n",
       "212 2018-03-16 13:50:25    iPhone          5s   \n",
       "321 2018-02-09 22:07:07   Samsung    Galaxy J5  \n",
       "997 2018-01-10 18:59:05   Samsung    Galaxy J5  "
      ]
     },
     "execution_count": 82,
     "metadata": {},
     "output_type": "execute_result"
    }
   ],
   "source": [
    "# marca de la campaña vs marca comprada\n",
    "# ver que graficar\n",
    "persons_advertised = ads_event[ads_event['ads_accion'] == 'comprar'][['person', 'timestamp', 'ads_marca', 'ads_modelo']]\n",
    "a = conversion_events[['person', 'timestamp', 'marca', 'modelo']]\n",
    "merge = pd.merge(persons_advertised, a, on='person', how='left')\n",
    "compras = merge[merge['timestamp_y'] > merge['timestamp_x']]\n",
    "compras = compras.drop_duplicates(subset=['person','timestamp_y'])\n",
    "compras.head()"
   ]
  },
  {
   "cell_type": "code",
   "execution_count": 100,
   "metadata": {},
   "outputs": [
    {
     "data": {
      "text/html": [
       "<div>\n",
       "<style scoped>\n",
       "    .dataframe tbody tr th:only-of-type {\n",
       "        vertical-align: middle;\n",
       "    }\n",
       "\n",
       "    .dataframe tbody tr th {\n",
       "        vertical-align: top;\n",
       "    }\n",
       "\n",
       "    .dataframe thead th {\n",
       "        text-align: right;\n",
       "    }\n",
       "</style>\n",
       "<table border=\"1\" class=\"dataframe\">\n",
       "  <thead>\n",
       "    <tr style=\"text-align: right;\">\n",
       "      <th></th>\n",
       "      <th>person</th>\n",
       "    </tr>\n",
       "    <tr>\n",
       "      <th>compro</th>\n",
       "      <th></th>\n",
       "    </tr>\n",
       "  </thead>\n",
       "  <tbody>\n",
       "    <tr>\n",
       "      <th>False</th>\n",
       "      <td>48614</td>\n",
       "    </tr>\n",
       "    <tr>\n",
       "      <th>True</th>\n",
       "      <td>5595</td>\n",
       "    </tr>\n",
       "  </tbody>\n",
       "</table>\n",
       "</div>"
      ],
      "text/plain": [
       "        person\n",
       "compro        \n",
       "False    48614\n",
       "True      5595"
      ]
     },
     "execution_count": 100,
     "metadata": {},
     "output_type": "execute_result"
    }
   ],
   "source": [
    "persons_advertised['compro'] = persons_advertised['person'].isin(conversion_events['person'].values)\n",
    "plot = persons_advertised.groupby('compro').agg({'person':'count'})\n",
    "plot"
   ]
  },
  {
   "cell_type": "code",
   "execution_count": 101,
   "metadata": {},
   "outputs": [
    {
     "data": {
      "text/html": [
       "<div>\n",
       "<style scoped>\n",
       "    .dataframe tbody tr th:only-of-type {\n",
       "        vertical-align: middle;\n",
       "    }\n",
       "\n",
       "    .dataframe tbody tr th {\n",
       "        vertical-align: top;\n",
       "    }\n",
       "\n",
       "    .dataframe thead th {\n",
       "        text-align: right;\n",
       "    }\n",
       "</style>\n",
       "<table border=\"1\" class=\"dataframe\">\n",
       "  <thead>\n",
       "    <tr style=\"text-align: right;\">\n",
       "      <th></th>\n",
       "      <th>person</th>\n",
       "      <th>same_brand</th>\n",
       "    </tr>\n",
       "    <tr>\n",
       "      <th>compro</th>\n",
       "      <th></th>\n",
       "      <th></th>\n",
       "    </tr>\n",
       "  </thead>\n",
       "  <tbody>\n",
       "    <tr>\n",
       "      <th>False</th>\n",
       "      <td>48614</td>\n",
       "      <td>170</td>\n",
       "    </tr>\n",
       "    <tr>\n",
       "      <th>True</th>\n",
       "      <td>5595</td>\n",
       "      <td>395</td>\n",
       "    </tr>\n",
       "  </tbody>\n",
       "</table>\n",
       "</div>"
      ],
      "text/plain": [
       "        person  same_brand\n",
       "compro                    \n",
       "False    48614         170\n",
       "True      5595         395"
      ]
     },
     "execution_count": 101,
     "metadata": {},
     "output_type": "execute_result"
    }
   ],
   "source": [
    "compras['misma_marca'] = compras['ads_marca'].str.lower() == compras['marca'].str.lower()\n",
    "compras['misma_marca'].value_counts()\n",
    "plot['same_brand'] = compras.groupby('misma_marca').agg({'person':'count'}).reset_index()['person']\n",
    "plot"
   ]
  },
  {
   "cell_type": "code",
   "execution_count": 116,
   "metadata": {},
   "outputs": [
    {
     "data": {
      "text/plain": [
       "Text(0,0.5,'')"
      ]
     },
     "execution_count": 116,
     "metadata": {},
     "output_type": "execute_result"
    },
    {
     "data": {
      "image/png": "[encoded data removed]",
      "text/plain": [
       "<Figure size 360x360 with 1 Axes>"
      ]
     },
     "metadata": {},
     "output_type": "display_data"
    },
    {
     "data": {
      "image/png": "[encoded data removed]",
      "text/plain": [
       "<Figure size 360x360 with 1 Axes>"
      ]
     },
     "metadata": {},
     "output_type": "display_data"
    }
   ],
   "source": [
    "plot.index = ['No', 'Si']\n",
    "g = plot.plot.pie( figsize=(5, 5), colors = ['red','green'], y='person')\n",
    "g.set_title('¿Realizó una compra luego de entrar por una campaña?')\n",
    "g.set_ylabel('')\n",
    "g = plot.plot.pie( figsize=(5, 5), colors = ['red','green'], y='same_brand')\n",
    "g.set_title('¿Compró un producto de la misma marca de la publicidad?')\n",
    "g.set_ylabel('')"
   ]
  },
  {
   "cell_type": "code",
   "execution_count": null,
   "metadata": {},
   "outputs": [],
   "source": []
  },
  {
   "cell_type": "code",
   "execution_count": null,
   "metadata": {},
   "outputs": [],
   "source": []
  },
  {
   "cell_type": "code",
   "execution_count": null,
   "metadata": {},
   "outputs": [],
   "source": []
  }
 ],
 "metadata": {
  "kernelspec": {
   "display_name": "Python 3",
   "language": "python",
   "name": "python3"
  },
  "language_info": {
   "codemirror_mode": {
    "name": "ipython",
    "version": 3
   },
   "file_extension": ".py",
   "mimetype": "text/x-python",
   "name": "python",
   "nbconvert_exporter": "python",
   "pygments_lexer": "ipython3",
   "version": "3.6.5"
  }
 },
 "nbformat": 4,
 "nbformat_minor": 2
}
