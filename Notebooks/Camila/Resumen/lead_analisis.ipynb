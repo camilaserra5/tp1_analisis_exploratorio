{
 "cells": [
  {
   "cell_type": "code",
   "execution_count": 1,
   "metadata": {},
   "outputs": [],
   "source": [
    "# incluimos las librerias que vamos a utilizar\n",
    "import numpy as np \n",
    "import pandas as pd\n",
    "import datetime as datetime\n",
    "\n",
    "# plots\n",
    "import matplotlib.pyplot as plt\n",
    "import seaborn as sns\n",
    "sns.set(style=\"whitegrid\")\n",
    "%matplotlib inline"
   ]
  },
  {
   "cell_type": "code",
   "execution_count": 2,
   "metadata": {},
   "outputs": [],
   "source": [
    "# cargamos los datos\n",
    "events = pd.read_csv('events.csv', low_memory = False)\n",
    "# categorizamos\n",
    "events['timestamp'] = pd.to_datetime(events['timestamp'], errors = 'coerce', format= '%Y-%m-%d')\n",
    "events['event'] = events['event'].astype('category')"
   ]
  },
  {
   "cell_type": "code",
   "execution_count": 3,
   "metadata": {},
   "outputs": [
    {
     "data": {
      "text/html": [
       "<div>\n",
       "<style scoped>\n",
       "    .dataframe tbody tr th:only-of-type {\n",
       "        vertical-align: middle;\n",
       "    }\n",
       "\n",
       "    .dataframe tbody tr th {\n",
       "        vertical-align: top;\n",
       "    }\n",
       "\n",
       "    .dataframe thead th {\n",
       "        text-align: right;\n",
       "    }\n",
       "</style>\n",
       "<table border=\"1\" class=\"dataframe\">\n",
       "  <thead>\n",
       "    <tr style=\"text-align: right;\">\n",
       "      <th></th>\n",
       "      <th>marca</th>\n",
       "      <th>modelo</th>\n",
       "    </tr>\n",
       "  </thead>\n",
       "  <tbody>\n",
       "    <tr>\n",
       "      <th>0</th>\n",
       "      <td>NaN</td>\n",
       "      <td></td>\n",
       "    </tr>\n",
       "    <tr>\n",
       "      <th>1</th>\n",
       "      <td>NaN</td>\n",
       "      <td></td>\n",
       "    </tr>\n",
       "    <tr>\n",
       "      <th>2</th>\n",
       "      <td>iPhone</td>\n",
       "      <td>5s</td>\n",
       "    </tr>\n",
       "    <tr>\n",
       "      <th>3</th>\n",
       "      <td>iPhone</td>\n",
       "      <td>5s</td>\n",
       "    </tr>\n",
       "    <tr>\n",
       "      <th>4</th>\n",
       "      <td>Samsung</td>\n",
       "      <td>Galaxy S8</td>\n",
       "    </tr>\n",
       "  </tbody>\n",
       "</table>\n",
       "</div>"
      ],
      "text/plain": [
       "     marca     modelo\n",
       "0      NaN           \n",
       "1      NaN           \n",
       "2   iPhone        5s \n",
       "3   iPhone        5s \n",
       "4  Samsung  Galaxy S8"
      ]
     },
     "execution_count": 3,
     "metadata": {},
     "output_type": "execute_result"
    }
   ],
   "source": [
    "events['marca'] = events['model'].str.split(' ').str[0]\n",
    "events['modelo'] = events['model'].str.split(' ').str[1].fillna('') + ' ' + events['model'].str.split(' ').str[2].fillna('')\n",
    "events[['marca', 'modelo']].head()"
   ]
  },
  {
   "cell_type": "code",
   "execution_count": 4,
   "metadata": {},
   "outputs": [
    {
     "data": {
      "text/html": [
       "<div>\n",
       "<style scoped>\n",
       "    .dataframe tbody tr th:only-of-type {\n",
       "        vertical-align: middle;\n",
       "    }\n",
       "\n",
       "    .dataframe tbody tr th {\n",
       "        vertical-align: top;\n",
       "    }\n",
       "\n",
       "    .dataframe thead th {\n",
       "        text-align: right;\n",
       "    }\n",
       "</style>\n",
       "<table border=\"1\" class=\"dataframe\">\n",
       "  <thead>\n",
       "    <tr style=\"text-align: right;\">\n",
       "      <th></th>\n",
       "      <th>person</th>\n",
       "      <th>leaded products</th>\n",
       "    </tr>\n",
       "  </thead>\n",
       "  <tbody>\n",
       "    <tr>\n",
       "      <th>176</th>\n",
       "      <td>97e0bcf2</td>\n",
       "      <td>16</td>\n",
       "    </tr>\n",
       "    <tr>\n",
       "      <th>87</th>\n",
       "      <td>52a4edd3</td>\n",
       "      <td>11</td>\n",
       "    </tr>\n",
       "    <tr>\n",
       "      <th>93</th>\n",
       "      <td>58692743</td>\n",
       "      <td>8</td>\n",
       "    </tr>\n",
       "    <tr>\n",
       "      <th>164</th>\n",
       "      <td>8dd8c1b4</td>\n",
       "      <td>6</td>\n",
       "    </tr>\n",
       "    <tr>\n",
       "      <th>237</th>\n",
       "      <td>d5661793</td>\n",
       "      <td>5</td>\n",
       "    </tr>\n",
       "  </tbody>\n",
       "</table>\n",
       "</div>"
      ],
      "text/plain": [
       "       person  leaded products\n",
       "176  97e0bcf2               16\n",
       "87   52a4edd3               11\n",
       "93   58692743                8\n",
       "164  8dd8c1b4                6\n",
       "237  d5661793                5"
      ]
     },
     "execution_count": 4,
     "metadata": {},
     "output_type": "execute_result"
    }
   ],
   "source": [
    "# personas que se suscribieron para un producto\n",
    "# no se suscriben a muchos productos, ¿por qué?\n",
    "leaded_events = events[events['event'] == 'lead']\n",
    "leaded_persons = leaded_events[['person','timestamp']] \n",
    "leaded_persons = leaded_persons.groupby('person').agg({'timestamp':'count'}).reset_index()\n",
    "leaded_persons.columns = ['person', 'leaded products'] \n",
    "leaded_persons = leaded_persons.sort_values(by='leaded products', ascending=False)\n",
    "leaded_persons.head()"
   ]
  },
  {
   "cell_type": "code",
   "execution_count": 5,
   "metadata": {},
   "outputs": [
    {
     "data": {
      "text/plain": [
       "Text(0,0.5,'Cantidad de usuarios')"
      ]
     },
     "execution_count": 5,
     "metadata": {},
     "output_type": "execute_result"
    },
    {
     "data": {
      "image/png": "[encoded data removed]",
      "text/plain": [
       "<Figure size 432x288 with 1 Axes>"
      ]
     },
     "metadata": {},
     "output_type": "display_data"
    }
   ],
   "source": [
    "g = leaded_persons.plot.hist(bins=50, color='lightblue')\n",
    "g.set_title(\"Histograma de leads por usuarios [Solicitud de notificación de stock]\", fontsize=18)\n",
    "g.set_xlabel(\"Cantidad de productos\",fontsize=18)\n",
    "g.set_ylabel(\"Cantidad de usuarios\", fontsize=18)"
   ]
  },
  {
   "cell_type": "code",
   "execution_count": 6,
   "metadata": {},
   "outputs": [
    {
     "data": {
      "text/html": [
       "<div>\n",
       "<style scoped>\n",
       "    .dataframe tbody tr th:only-of-type {\n",
       "        vertical-align: middle;\n",
       "    }\n",
       "\n",
       "    .dataframe tbody tr th {\n",
       "        vertical-align: top;\n",
       "    }\n",
       "\n",
       "    .dataframe thead th {\n",
       "        text-align: right;\n",
       "    }\n",
       "</style>\n",
       "<table border=\"1\" class=\"dataframe\">\n",
       "  <thead>\n",
       "    <tr style=\"text-align: right;\">\n",
       "      <th></th>\n",
       "      <th>person</th>\n",
       "      <th>timestamp</th>\n",
       "      <th>channel</th>\n",
       "    </tr>\n",
       "  </thead>\n",
       "  <tbody>\n",
       "    <tr>\n",
       "      <th>10786</th>\n",
       "      <td>02d599d3</td>\n",
       "      <td>2018-03-12 21:05:50</td>\n",
       "      <td>Email</td>\n",
       "    </tr>\n",
       "    <tr>\n",
       "      <th>31946</th>\n",
       "      <td>08cd79ec</td>\n",
       "      <td>2018-04-01 21:01:08</td>\n",
       "      <td>Email</td>\n",
       "    </tr>\n",
       "    <tr>\n",
       "      <th>41690</th>\n",
       "      <td>0bb3e374</td>\n",
       "      <td>2018-05-06 23:14:11</td>\n",
       "      <td>Email</td>\n",
       "    </tr>\n",
       "    <tr>\n",
       "      <th>88856</th>\n",
       "      <td>1880d52f</td>\n",
       "      <td>2018-05-06 14:01:30</td>\n",
       "      <td>Email</td>\n",
       "    </tr>\n",
       "    <tr>\n",
       "      <th>124947</th>\n",
       "      <td>2169c977</td>\n",
       "      <td>2018-04-18 08:41:24</td>\n",
       "      <td>Email</td>\n",
       "    </tr>\n",
       "  </tbody>\n",
       "</table>\n",
       "</div>"
      ],
      "text/plain": [
       "          person           timestamp channel\n",
       "10786   02d599d3 2018-03-12 21:05:50   Email\n",
       "31946   08cd79ec 2018-04-01 21:01:08   Email\n",
       "41690   0bb3e374 2018-05-06 23:14:11   Email\n",
       "88856   1880d52f 2018-05-06 14:01:30   Email\n",
       "124947  2169c977 2018-04-18 08:41:24   Email"
      ]
     },
     "execution_count": 6,
     "metadata": {},
     "output_type": "execute_result"
    }
   ],
   "source": [
    "# personas que volvieron por canal = EMAIL (ver si esto esta bien.\n",
    "# entiendo que la notif del producto listo llega por email)\n",
    "returning = events[(events['new_vs_returning'] == 'Returning') & (events['channel'] == 'Email')][['person', 'timestamp', 'channel']]\n",
    "returning.head()"
   ]
  },
  {
   "cell_type": "code",
   "execution_count": 7,
   "metadata": {},
   "outputs": [
    {
     "data": {
      "text/html": [
       "<div>\n",
       "<style scoped>\n",
       "    .dataframe tbody tr th:only-of-type {\n",
       "        vertical-align: middle;\n",
       "    }\n",
       "\n",
       "    .dataframe tbody tr th {\n",
       "        vertical-align: top;\n",
       "    }\n",
       "\n",
       "    .dataframe thead th {\n",
       "        text-align: right;\n",
       "    }\n",
       "</style>\n",
       "<table border=\"1\" class=\"dataframe\">\n",
       "  <thead>\n",
       "    <tr style=\"text-align: right;\">\n",
       "      <th></th>\n",
       "      <th>person</th>\n",
       "      <th>times back</th>\n",
       "    </tr>\n",
       "  </thead>\n",
       "  <tbody>\n",
       "    <tr>\n",
       "      <th>0</th>\n",
       "      <td>50ee5606</td>\n",
       "      <td>1</td>\n",
       "    </tr>\n",
       "    <tr>\n",
       "      <th>1</th>\n",
       "      <td>52a4edd3</td>\n",
       "      <td>3</td>\n",
       "    </tr>\n",
       "    <tr>\n",
       "      <th>2</th>\n",
       "      <td>f3b4afa1</td>\n",
       "      <td>1</td>\n",
       "    </tr>\n",
       "  </tbody>\n",
       "</table>\n",
       "</div>"
      ],
      "text/plain": [
       "     person  times back\n",
       "0  50ee5606           1\n",
       "1  52a4edd3           3\n",
       "2  f3b4afa1           1"
      ]
     },
     "execution_count": 7,
     "metadata": {},
     "output_type": "execute_result"
    }
   ],
   "source": [
    "# personas que se suscribieron y volvieron ( son muy pocas )\n",
    "a = pd.merge(leaded_events[['person','timestamp']] , returning, on='person', how='left')\n",
    "a = a[(a['timestamp_y'] > a['timestamp_x'])] # fecha de retorno > fecha de lead\n",
    "a = a.groupby('person').agg({'timestamp_y': pd.Series.nunique})\n",
    "a.reset_index(inplace = True)\n",
    "a.columns = ['person', 'times back'] \n",
    "a"
   ]
  },
  {
   "cell_type": "code",
   "execution_count": 8,
   "metadata": {},
   "outputs": [],
   "source": [
    "# veo cuantos de los que marcaron un producto como lead, lo terminan comprando"
   ]
  },
  {
   "cell_type": "code",
   "execution_count": 9,
   "metadata": {},
   "outputs": [
    {
     "data": {
      "text/html": [
       "<div>\n",
       "<style scoped>\n",
       "    .dataframe tbody tr th:only-of-type {\n",
       "        vertical-align: middle;\n",
       "    }\n",
       "\n",
       "    .dataframe tbody tr th {\n",
       "        vertical-align: top;\n",
       "    }\n",
       "\n",
       "    .dataframe thead th {\n",
       "        text-align: right;\n",
       "    }\n",
       "</style>\n",
       "<table border=\"1\" class=\"dataframe\">\n",
       "  <thead>\n",
       "    <tr style=\"text-align: right;\">\n",
       "      <th></th>\n",
       "      <th>person</th>\n",
       "      <th>timestamp_y</th>\n",
       "      <th>marca_y</th>\n",
       "      <th>modelo_y</th>\n",
       "      <th>marca_x</th>\n",
       "      <th>modelo_x</th>\n",
       "    </tr>\n",
       "  </thead>\n",
       "  <tbody>\n",
       "    <tr>\n",
       "      <th>0</th>\n",
       "      <td>03bdcd81</td>\n",
       "      <td>2018-01-09 16:47:50</td>\n",
       "      <td>Samsung</td>\n",
       "      <td>Galaxy S6</td>\n",
       "      <td>[Samsung]</td>\n",
       "      <td>[Galaxy S7]</td>\n",
       "    </tr>\n",
       "    <tr>\n",
       "      <th>1</th>\n",
       "      <td>19b38ba2</td>\n",
       "      <td>2018-03-30 08:24:58</td>\n",
       "      <td>Sony</td>\n",
       "      <td>Xperia M4</td>\n",
       "      <td>[Sony]</td>\n",
       "      <td>[Xperia M4]</td>\n",
       "    </tr>\n",
       "    <tr>\n",
       "      <th>2</th>\n",
       "      <td>19b38ba2</td>\n",
       "      <td>2018-03-30 16:01:02</td>\n",
       "      <td>Samsung</td>\n",
       "      <td>Galaxy J7</td>\n",
       "      <td>[Sony]</td>\n",
       "      <td>[Xperia M4]</td>\n",
       "    </tr>\n",
       "    <tr>\n",
       "      <th>3</th>\n",
       "      <td>19b38ba2</td>\n",
       "      <td>2018-03-30 19:15:28</td>\n",
       "      <td>Samsung</td>\n",
       "      <td>Galaxy S5</td>\n",
       "      <td>[Sony]</td>\n",
       "      <td>[Xperia M4]</td>\n",
       "    </tr>\n",
       "    <tr>\n",
       "      <th>4</th>\n",
       "      <td>19b38ba2</td>\n",
       "      <td>2018-03-31 04:33:57</td>\n",
       "      <td>Sony</td>\n",
       "      <td>Xperia M4</td>\n",
       "      <td>[Sony]</td>\n",
       "      <td>[Xperia M4]</td>\n",
       "    </tr>\n",
       "    <tr>\n",
       "      <th>5</th>\n",
       "      <td>19b38ba2</td>\n",
       "      <td>2018-04-03 07:23:18</td>\n",
       "      <td>Samsung</td>\n",
       "      <td>Galaxy A5</td>\n",
       "      <td>[Sony]</td>\n",
       "      <td>[Xperia M4]</td>\n",
       "    </tr>\n",
       "    <tr>\n",
       "      <th>6</th>\n",
       "      <td>19b38ba2</td>\n",
       "      <td>2018-04-11 15:20:25</td>\n",
       "      <td>LG</td>\n",
       "      <td>G4 H815P</td>\n",
       "      <td>[Sony, LG]</td>\n",
       "      <td>[Xperia M4, G4 H815P]</td>\n",
       "    </tr>\n",
       "    <tr>\n",
       "      <th>7</th>\n",
       "      <td>19b38ba2</td>\n",
       "      <td>2018-05-10 22:50:34</td>\n",
       "      <td>Samsung</td>\n",
       "      <td>Galaxy J7</td>\n",
       "      <td>[Sony, LG]</td>\n",
       "      <td>[Xperia M4, G4 H815P]</td>\n",
       "    </tr>\n",
       "    <tr>\n",
       "      <th>8</th>\n",
       "      <td>19fe94db</td>\n",
       "      <td>2018-04-23 00:56:23</td>\n",
       "      <td>Samsung</td>\n",
       "      <td>Galaxy J5</td>\n",
       "      <td>[Samsung, Samsung]</td>\n",
       "      <td>[Galaxy J7, Galaxy J3]</td>\n",
       "    </tr>\n",
       "    <tr>\n",
       "      <th>9</th>\n",
       "      <td>1ac00500</td>\n",
       "      <td>2018-04-16 18:55:43</td>\n",
       "      <td>Sony</td>\n",
       "      <td>Xperia Z3</td>\n",
       "      <td>[Motorola, Samsung]</td>\n",
       "      <td>[Moto G4, Galaxy A7]</td>\n",
       "    </tr>\n",
       "  </tbody>\n",
       "</table>\n",
       "</div>"
      ],
      "text/plain": [
       "     person         timestamp_y  marca_y   modelo_y              marca_x  \\\n",
       "0  03bdcd81 2018-01-09 16:47:50  Samsung  Galaxy S6            [Samsung]   \n",
       "1  19b38ba2 2018-03-30 08:24:58     Sony  Xperia M4               [Sony]   \n",
       "2  19b38ba2 2018-03-30 16:01:02  Samsung  Galaxy J7               [Sony]   \n",
       "3  19b38ba2 2018-03-30 19:15:28  Samsung  Galaxy S5               [Sony]   \n",
       "4  19b38ba2 2018-03-31 04:33:57     Sony  Xperia M4               [Sony]   \n",
       "5  19b38ba2 2018-04-03 07:23:18  Samsung  Galaxy A5               [Sony]   \n",
       "6  19b38ba2 2018-04-11 15:20:25       LG   G4 H815P           [Sony, LG]   \n",
       "7  19b38ba2 2018-05-10 22:50:34  Samsung  Galaxy J7           [Sony, LG]   \n",
       "8  19fe94db 2018-04-23 00:56:23  Samsung  Galaxy J5   [Samsung, Samsung]   \n",
       "9  1ac00500 2018-04-16 18:55:43     Sony  Xperia Z3  [Motorola, Samsung]   \n",
       "\n",
       "                 modelo_x  \n",
       "0             [Galaxy S7]  \n",
       "1             [Xperia M4]  \n",
       "2             [Xperia M4]  \n",
       "3             [Xperia M4]  \n",
       "4             [Xperia M4]  \n",
       "5             [Xperia M4]  \n",
       "6   [Xperia M4, G4 H815P]  \n",
       "7   [Xperia M4, G4 H815P]  \n",
       "8  [Galaxy J7, Galaxy J3]  \n",
       "9    [Moto G4, Galaxy A7]  "
      ]
     },
     "execution_count": 9,
     "metadata": {},
     "output_type": "execute_result"
    }
   ],
   "source": [
    "conversion_events = events[events['event'] == 'conversion']\n",
    "leaded_models = leaded_events[['person','timestamp', 'marca', 'modelo']] \n",
    "converted_models = conversion_events[['timestamp', 'person', 'marca', 'modelo']]\n",
    "merged = pd.merge(leaded_models, converted_models, on='person', how='left')\n",
    "merged = merged[merged['timestamp_x'] < merged['timestamp_y']]\n",
    "merged = merged.groupby(['person', 'timestamp_y', 'marca_y', 'modelo_y'], as_index=False)[['marca_x', 'modelo_x']].aggregate(lambda x: list(x))\n",
    "merged.head(10)"
   ]
  },
  {
   "cell_type": "code",
   "execution_count": 10,
   "metadata": {},
   "outputs": [
    {
     "data": {
      "text/plain": [
       "True     75\n",
       "False    24\n",
       "Name: misma_marca, dtype: int64"
      ]
     },
     "execution_count": 10,
     "metadata": {},
     "output_type": "execute_result"
    }
   ],
   "source": [
    "# veo quienes compraron la misma marca \n",
    "merged['misma_marca'] = merged.apply(lambda x: x.marca_y in x.marca_x, axis=1)\n",
    "merged['misma_marca'].value_counts()"
   ]
  },
  {
   "cell_type": "code",
   "execution_count": 11,
   "metadata": {},
   "outputs": [
    {
     "data": {
      "text/html": [
       "<div>\n",
       "<style scoped>\n",
       "    .dataframe tbody tr th:only-of-type {\n",
       "        vertical-align: middle;\n",
       "    }\n",
       "\n",
       "    .dataframe tbody tr th {\n",
       "        vertical-align: top;\n",
       "    }\n",
       "\n",
       "    .dataframe thead th {\n",
       "        text-align: right;\n",
       "    }\n",
       "</style>\n",
       "<table border=\"1\" class=\"dataframe\">\n",
       "  <thead>\n",
       "    <tr style=\"text-align: right;\">\n",
       "      <th>Mismo modelo</th>\n",
       "      <th>Si</th>\n",
       "      <th>No</th>\n",
       "    </tr>\n",
       "    <tr>\n",
       "      <th>Misma marca</th>\n",
       "      <th></th>\n",
       "      <th></th>\n",
       "    </tr>\n",
       "  </thead>\n",
       "  <tbody>\n",
       "    <tr>\n",
       "      <th>Si</th>\n",
       "      <td>42.0</td>\n",
       "      <td>33.0</td>\n",
       "    </tr>\n",
       "    <tr>\n",
       "      <th>No</th>\n",
       "      <td>0.0</td>\n",
       "      <td>24.0</td>\n",
       "    </tr>\n",
       "  </tbody>\n",
       "</table>\n",
       "</div>"
      ],
      "text/plain": [
       "Mismo modelo    Si    No\n",
       "Misma marca             \n",
       "Si            42.0  33.0\n",
       "No             0.0  24.0"
      ]
     },
     "execution_count": 11,
     "metadata": {},
     "output_type": "execute_result"
    }
   ],
   "source": [
    "\n",
    "# veo quienes compraron la misma marca y modelo\n",
    "merged['misma_marca_modelo'] = merged[merged['misma_marca'] == True].apply(lambda x: x.modelo_y in x.modelo_x, axis=1, )\n",
    "merged['misma_marca_modelo'].fillna(value=False, inplace=True)\n",
    "\n",
    "a = merged.groupby(['misma_marca', 'misma_marca_modelo']).agg({'person':'count'})\n",
    "a = a.reset_index().pivot_table(index='misma_marca',columns='misma_marca_modelo',values='person').fillna(0)\n",
    "a.index = ['No', 'Si']\n",
    "a.columns = ['No', 'Si']\n",
    "a.index.name = 'Misma marca'\n",
    "a.columns.name = 'Mismo modelo'\n",
    "a.sort_values(by='No', ascending=False, inplace=True)\n",
    "a = a[['Si', 'No']]\n",
    "a\n"
   ]
  },
  {
   "cell_type": "code",
   "execution_count": 12,
   "metadata": {},
   "outputs": [
    {
     "data": {
      "text/plain": [
       "<matplotlib.axes._subplots.AxesSubplot at 0x7f36374fcac8>"
      ]
     },
     "execution_count": 12,
     "metadata": {},
     "output_type": "execute_result"
    },
    {
     "data": {
      "image/png": "[encoded data removed]",
      "text/plain": [
       "<Figure size 432x288 with 1 Axes>"
      ]
     },
     "metadata": {},
     "output_type": "display_data"
    }
   ],
   "source": [
    "\n",
    "# graficar lo de arriba.\n",
    "# la mayoría vuelve a comprar el mismo producto, o un modelo diferente pero de la misma marca\n",
    "# hay mucha gente que no volvió a comprar (¿por que? ¿falta enviar mails, reponer stock?)\n",
    "a.plot(kind='bar', stacked=True, color=['#33cc00', '#e65c00'])"
   ]
  },
  {
   "cell_type": "code",
   "execution_count": 14,
   "metadata": {},
   "outputs": [
    {
     "data": {
      "image/png": "[encoded data removed]",
      "text/plain": [
       "<Figure size 1440x360 with 1 Axes>"
      ]
     },
     "metadata": {},
     "output_type": "display_data"
    }
   ],
   "source": [
    "leaded_models = leaded_events[['timestamp', 'model']].groupby('model').agg({'timestamp':'count'}).sort_values(by='timestamp', ascending=False)\n",
    "\n",
    "g = leaded_models.head(10).plot(kind = 'bar', figsize = (20,5), color = '#dd99ff',)\n",
    "g.set_title('Top 10 modelos con lead', fontsize = 20)\n",
    "g.set_xlabel('Nombre modelo', fontsize = 20)\n",
    "g.set_ylabel('Cantidad de leads', fontsize = 20)\n",
    "g.set_xticklabels(g.get_xticklabels(), rotation = 45, ha=\"right\")\n",
    "g.legend().set_visible(False)\n"
   ]
  },
  {
   "cell_type": "code",
   "execution_count": null,
   "metadata": {},
   "outputs": [],
   "source": []
  },
  {
   "cell_type": "code",
   "execution_count": null,
   "metadata": {},
   "outputs": [],
   "source": []
  },
  {
   "cell_type": "code",
   "execution_count": null,
   "metadata": {},
   "outputs": [],
   "source": []
  }
 ],
 "metadata": {
  "kernelspec": {
   "display_name": "Python 3",
   "language": "python",
   "name": "python3"
  },
  "language_info": {
   "codemirror_mode": {
    "name": "ipython",
    "version": 3
   },
   "file_extension": ".py",
   "mimetype": "text/x-python",
   "name": "python",
   "nbconvert_exporter": "python",
   "pygments_lexer": "ipython3",
   "version": "3.6.5"
  }
 },
 "nbformat": 4,
 "nbformat_minor": 2
}
