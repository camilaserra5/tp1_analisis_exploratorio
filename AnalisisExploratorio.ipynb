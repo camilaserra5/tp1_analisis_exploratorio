{
 "cells": [
  {
   "cell_type": "code",
   "execution_count": 1,
   "metadata": {},
   "outputs": [],
   "source": [
    "import numpy as np \n",
    "import pandas as pd\n",
    "import datetime as datetime\n",
    "\n",
    "# plots\n",
    "import matplotlib.pyplot as plt\n",
    "import seaborn as sns\n",
    "sns.set(style=\"whitegrid\")\n",
    "%matplotlib inline"
   ]
  },
  {
   "cell_type": "code",
   "execution_count": 2,
   "metadata": {},
   "outputs": [],
   "source": [
    "#Cargamos los datos\n",
    "events = pd.read_csv('events.csv', low_memory = False)"
   ]
  },
  {
   "cell_type": "markdown",
   "metadata": {},
   "source": [
    "# Analisis inicial de los datos"
   ]
  },
  {
   "cell_type": "code",
   "execution_count": 3,
   "metadata": {},
   "outputs": [
    {
     "data": {
      "text/html": [
       "<div>\n",
       "<style scoped>\n",
       "    .dataframe tbody tr th:only-of-type {\n",
       "        vertical-align: middle;\n",
       "    }\n",
       "\n",
       "    .dataframe tbody tr th {\n",
       "        vertical-align: top;\n",
       "    }\n",
       "\n",
       "    .dataframe thead th {\n",
       "        text-align: right;\n",
       "    }\n",
       "</style>\n",
       "<table border=\"1\" class=\"dataframe\">\n",
       "  <thead>\n",
       "    <tr style=\"text-align: right;\">\n",
       "      <th></th>\n",
       "      <th>timestamp</th>\n",
       "      <th>event</th>\n",
       "      <th>person</th>\n",
       "      <th>url</th>\n",
       "      <th>sku</th>\n",
       "      <th>model</th>\n",
       "      <th>condition</th>\n",
       "      <th>storage</th>\n",
       "      <th>color</th>\n",
       "      <th>skus</th>\n",
       "      <th>...</th>\n",
       "      <th>search_engine</th>\n",
       "      <th>channel</th>\n",
       "      <th>new_vs_returning</th>\n",
       "      <th>city</th>\n",
       "      <th>region</th>\n",
       "      <th>country</th>\n",
       "      <th>device_type</th>\n",
       "      <th>screen_resolution</th>\n",
       "      <th>operating_system_version</th>\n",
       "      <th>browser_version</th>\n",
       "    </tr>\n",
       "  </thead>\n",
       "  <tbody>\n",
       "    <tr>\n",
       "      <th>0</th>\n",
       "      <td>2018-05-31 23:38:05</td>\n",
       "      <td>ad campaign hit</td>\n",
       "      <td>0004b0a2</td>\n",
       "      <td>/comprar/iphone/iphone-5s</td>\n",
       "      <td>NaN</td>\n",
       "      <td>NaN</td>\n",
       "      <td>NaN</td>\n",
       "      <td>NaN</td>\n",
       "      <td>NaN</td>\n",
       "      <td>NaN</td>\n",
       "      <td>...</td>\n",
       "      <td>NaN</td>\n",
       "      <td>NaN</td>\n",
       "      <td>NaN</td>\n",
       "      <td>NaN</td>\n",
       "      <td>NaN</td>\n",
       "      <td>NaN</td>\n",
       "      <td>NaN</td>\n",
       "      <td>NaN</td>\n",
       "      <td>NaN</td>\n",
       "      <td>NaN</td>\n",
       "    </tr>\n",
       "    <tr>\n",
       "      <th>1</th>\n",
       "      <td>2018-05-31 23:38:05</td>\n",
       "      <td>visited site</td>\n",
       "      <td>0004b0a2</td>\n",
       "      <td>NaN</td>\n",
       "      <td>NaN</td>\n",
       "      <td>NaN</td>\n",
       "      <td>NaN</td>\n",
       "      <td>NaN</td>\n",
       "      <td>NaN</td>\n",
       "      <td>NaN</td>\n",
       "      <td>...</td>\n",
       "      <td>NaN</td>\n",
       "      <td>Paid</td>\n",
       "      <td>New</td>\n",
       "      <td>Camaragibe</td>\n",
       "      <td>Pernambuco</td>\n",
       "      <td>Brazil</td>\n",
       "      <td>Smartphone</td>\n",
       "      <td>360x640</td>\n",
       "      <td>Android 6</td>\n",
       "      <td>Chrome Mobile 39</td>\n",
       "    </tr>\n",
       "    <tr>\n",
       "      <th>2</th>\n",
       "      <td>2018-05-31 23:38:09</td>\n",
       "      <td>viewed product</td>\n",
       "      <td>0004b0a2</td>\n",
       "      <td>NaN</td>\n",
       "      <td>2694.0</td>\n",
       "      <td>iPhone 5s</td>\n",
       "      <td>Bom</td>\n",
       "      <td>32GB</td>\n",
       "      <td>Cinza espacial</td>\n",
       "      <td>NaN</td>\n",
       "      <td>...</td>\n",
       "      <td>NaN</td>\n",
       "      <td>NaN</td>\n",
       "      <td>NaN</td>\n",
       "      <td>NaN</td>\n",
       "      <td>NaN</td>\n",
       "      <td>NaN</td>\n",
       "      <td>NaN</td>\n",
       "      <td>NaN</td>\n",
       "      <td>NaN</td>\n",
       "      <td>NaN</td>\n",
       "    </tr>\n",
       "    <tr>\n",
       "      <th>3</th>\n",
       "      <td>2018-05-31 23:38:40</td>\n",
       "      <td>checkout</td>\n",
       "      <td>0004b0a2</td>\n",
       "      <td>NaN</td>\n",
       "      <td>2694.0</td>\n",
       "      <td>iPhone 5s</td>\n",
       "      <td>Bom</td>\n",
       "      <td>32GB</td>\n",
       "      <td>Cinza espacial</td>\n",
       "      <td>NaN</td>\n",
       "      <td>...</td>\n",
       "      <td>NaN</td>\n",
       "      <td>NaN</td>\n",
       "      <td>NaN</td>\n",
       "      <td>NaN</td>\n",
       "      <td>NaN</td>\n",
       "      <td>NaN</td>\n",
       "      <td>NaN</td>\n",
       "      <td>NaN</td>\n",
       "      <td>NaN</td>\n",
       "      <td>NaN</td>\n",
       "    </tr>\n",
       "    <tr>\n",
       "      <th>4</th>\n",
       "      <td>2018-05-29 13:29:25</td>\n",
       "      <td>viewed product</td>\n",
       "      <td>0006a21a</td>\n",
       "      <td>NaN</td>\n",
       "      <td>15338.0</td>\n",
       "      <td>Samsung Galaxy S8</td>\n",
       "      <td>Bom</td>\n",
       "      <td>64GB</td>\n",
       "      <td>Dourado</td>\n",
       "      <td>NaN</td>\n",
       "      <td>...</td>\n",
       "      <td>NaN</td>\n",
       "      <td>NaN</td>\n",
       "      <td>NaN</td>\n",
       "      <td>NaN</td>\n",
       "      <td>NaN</td>\n",
       "      <td>NaN</td>\n",
       "      <td>NaN</td>\n",
       "      <td>NaN</td>\n",
       "      <td>NaN</td>\n",
       "      <td>NaN</td>\n",
       "    </tr>\n",
       "  </tbody>\n",
       "</table>\n",
       "<p>5 rows × 23 columns</p>\n",
       "</div>"
      ],
      "text/plain": [
       "             timestamp            event    person                        url  \\\n",
       "0  2018-05-31 23:38:05  ad campaign hit  0004b0a2  /comprar/iphone/iphone-5s   \n",
       "1  2018-05-31 23:38:05     visited site  0004b0a2                        NaN   \n",
       "2  2018-05-31 23:38:09   viewed product  0004b0a2                        NaN   \n",
       "3  2018-05-31 23:38:40         checkout  0004b0a2                        NaN   \n",
       "4  2018-05-29 13:29:25   viewed product  0006a21a                        NaN   \n",
       "\n",
       "       sku              model condition storage           color skus  \\\n",
       "0      NaN                NaN       NaN     NaN             NaN  NaN   \n",
       "1      NaN                NaN       NaN     NaN             NaN  NaN   \n",
       "2   2694.0          iPhone 5s       Bom    32GB  Cinza espacial  NaN   \n",
       "3   2694.0          iPhone 5s       Bom    32GB  Cinza espacial  NaN   \n",
       "4  15338.0  Samsung Galaxy S8       Bom    64GB         Dourado  NaN   \n",
       "\n",
       "         ...        search_engine channel new_vs_returning        city  \\\n",
       "0        ...                  NaN     NaN              NaN         NaN   \n",
       "1        ...                  NaN    Paid              New  Camaragibe   \n",
       "2        ...                  NaN     NaN              NaN         NaN   \n",
       "3        ...                  NaN     NaN              NaN         NaN   \n",
       "4        ...                  NaN     NaN              NaN         NaN   \n",
       "\n",
       "       region country device_type screen_resolution operating_system_version  \\\n",
       "0         NaN     NaN         NaN               NaN                      NaN   \n",
       "1  Pernambuco  Brazil  Smartphone           360x640                Android 6   \n",
       "2         NaN     NaN         NaN               NaN                      NaN   \n",
       "3         NaN     NaN         NaN               NaN                      NaN   \n",
       "4         NaN     NaN         NaN               NaN                      NaN   \n",
       "\n",
       "    browser_version  \n",
       "0               NaN  \n",
       "1  Chrome Mobile 39  \n",
       "2               NaN  \n",
       "3               NaN  \n",
       "4               NaN  \n",
       "\n",
       "[5 rows x 23 columns]"
      ]
     },
     "execution_count": 3,
     "metadata": {},
     "output_type": "execute_result"
    }
   ],
   "source": [
    "events.head()"
   ]
  },
  {
   "cell_type": "code",
   "execution_count": 4,
   "metadata": {},
   "outputs": [
    {
     "data": {
      "text/plain": [
       "(1011288, 23)"
      ]
     },
     "execution_count": 4,
     "metadata": {},
     "output_type": "execute_result"
    }
   ],
   "source": [
    "events.shape"
   ]
  },
  {
   "cell_type": "code",
   "execution_count": 5,
   "metadata": {},
   "outputs": [
    {
     "data": {
      "text/plain": [
       "timestamp                   False\n",
       "event                       False\n",
       "person                      False\n",
       "url                          True\n",
       "sku                          True\n",
       "model                        True\n",
       "condition                    True\n",
       "storage                      True\n",
       "color                        True\n",
       "skus                         True\n",
       "search_term                  True\n",
       "staticpage                   True\n",
       "campaign_source              True\n",
       "search_engine                True\n",
       "channel                      True\n",
       "new_vs_returning             True\n",
       "city                         True\n",
       "region                       True\n",
       "country                      True\n",
       "device_type                  True\n",
       "screen_resolution            True\n",
       "operating_system_version     True\n",
       "browser_version              True\n",
       "dtype: bool"
      ]
     },
     "execution_count": 5,
     "metadata": {},
     "output_type": "execute_result"
    }
   ],
   "source": [
    "events.isnull().any()"
   ]
  },
  {
   "cell_type": "code",
   "execution_count": 6,
   "metadata": {},
   "outputs": [
    {
     "name": "stdout",
     "output_type": "stream",
     "text": [
      "<class 'pandas.core.frame.DataFrame'>\n",
      "RangeIndex: 1011288 entries, 0 to 1011287\n",
      "Data columns (total 23 columns):\n",
      "timestamp                   1011288 non-null object\n",
      "event                       1011288 non-null object\n",
      "person                      1011288 non-null object\n",
      "url                         82756 non-null object\n",
      "sku                         563838 non-null object\n",
      "model                       564284 non-null object\n",
      "condition                   563836 non-null object\n",
      "storage                     563836 non-null object\n",
      "color                       563836 non-null object\n",
      "skus                        221699 non-null object\n",
      "search_term                 48967 non-null object\n",
      "staticpage                  3598 non-null object\n",
      "campaign_source             82796 non-null object\n",
      "search_engine               50957 non-null object\n",
      "channel                     87378 non-null object\n",
      "new_vs_returning            87378 non-null object\n",
      "city                        87378 non-null object\n",
      "region                      87378 non-null object\n",
      "country                     87378 non-null object\n",
      "device_type                 87378 non-null object\n",
      "screen_resolution           87378 non-null object\n",
      "operating_system_version    87378 non-null object\n",
      "browser_version             87378 non-null object\n",
      "dtypes: object(23)\n",
      "memory usage: 177.5+ MB\n"
     ]
    }
   ],
   "source": [
    "events.info()"
   ]
  },
  {
   "cell_type": "markdown",
   "metadata": {},
   "source": [
    "Con este breve analisis podemos tener una idea de la forma del dataframe, y darnos una idea de la cantidad de datos que disponemos."
   ]
  },
  {
   "cell_type": "code",
   "execution_count": 7,
   "metadata": {},
   "outputs": [],
   "source": [
    "#Cambio las variables de tipo categorica y timestamp son fechas\n",
    "events['timestamp'] = pd.to_datetime(events['timestamp'], errors = 'coerce', format= '%Y-%m-%d')\n",
    "events['event'] = events['event'].astype('category')\n",
    "#events['country'] = events['country'].astype('category')\n",
    "#events['device_type'] = events['device_type'].astype('category')\n",
    "#events['screen_resolution'] = events['screen_resolution'].astype('category')\n",
    "#events['operating_system_version'] = events['operating_system_version'].astype('category')\n",
    "#events['region'] = events['region'].astype('category')\n",
    "#events['city'] = events['city'].astype('category')"
   ]
  },
  {
   "cell_type": "markdown",
   "metadata": {},
   "source": [
    "# Analisis de los eventos"
   ]
  },
  {
   "cell_type": "code",
   "execution_count": 85,
   "metadata": {},
   "outputs": [
    {
     "data": {
      "text/plain": [
       "Text(0.5,0,'Cantidad')"
      ]
     },
     "execution_count": 85,
     "metadata": {},
     "output_type": "execute_result"
    },
    {
     "data": {
      "image/png": "[encoded data removed]",
      "text/plain": [
       "<Figure size 720x432 with 1 Axes>"
      ]
     },
     "metadata": {},
     "output_type": "display_data"
    }
   ],
   "source": [
    "plt.figure(figsize = (10,6))\n",
    "g = events['event'].value_counts().plot(kind='barh', color='red')\n",
    "g.set_title('Cantidad de veces que se realizo cada evento',Fontsize = 18)\n",
    "g.set_ylabel('Evento',Fontsize = 14)\n",
    "g.set_xlabel('Cantidad',Fontsize = 14)"
   ]
  },
  {
   "cell_type": "markdown",
   "metadata": {},
   "source": [
    "## Campañas de publicidad"
   ]
  },
  {
   "cell_type": "code",
   "execution_count": 9,
   "metadata": {},
   "outputs": [
    {
     "name": "stdout",
     "output_type": "stream",
     "text": [
      "<class 'pandas.core.frame.DataFrame'>\n",
      "Int64Index: 82827 entries, 0 to 1011285\n",
      "Data columns (total 23 columns):\n",
      "timestamp                   82827 non-null datetime64[ns]\n",
      "event                       82827 non-null category\n",
      "person                      82827 non-null object\n",
      "url                         82756 non-null object\n",
      "sku                         0 non-null object\n",
      "model                       0 non-null object\n",
      "condition                   0 non-null object\n",
      "storage                     0 non-null object\n",
      "color                       0 non-null object\n",
      "skus                        0 non-null object\n",
      "search_term                 0 non-null object\n",
      "staticpage                  0 non-null object\n",
      "campaign_source             82796 non-null object\n",
      "search_engine               0 non-null object\n",
      "channel                     0 non-null object\n",
      "new_vs_returning            0 non-null object\n",
      "city                        0 non-null object\n",
      "region                      0 non-null object\n",
      "country                     0 non-null object\n",
      "device_type                 0 non-null object\n",
      "screen_resolution           0 non-null object\n",
      "operating_system_version    0 non-null object\n",
      "browser_version             0 non-null object\n",
      "dtypes: category(1), datetime64[ns](1), object(21)\n",
      "memory usage: 14.6+ MB\n"
     ]
    }
   ],
   "source": [
    "#que campañas se estan usandando y cuales conviene pagar? (si es que son pagas)\n",
    "campain_hit = events[events['event'] == 'ad campaign hit']\n",
    "campain_hit.info()"
   ]
  },
  {
   "cell_type": "code",
   "execution_count": 10,
   "metadata": {},
   "outputs": [
    {
     "data": {
      "text/html": [
       "<div>\n",
       "<style scoped>\n",
       "    .dataframe tbody tr th:only-of-type {\n",
       "        vertical-align: middle;\n",
       "    }\n",
       "\n",
       "    .dataframe tbody tr th {\n",
       "        vertical-align: top;\n",
       "    }\n",
       "\n",
       "    .dataframe thead th {\n",
       "        text-align: right;\n",
       "    }\n",
       "</style>\n",
       "<table border=\"1\" class=\"dataframe\">\n",
       "  <thead>\n",
       "    <tr style=\"text-align: right;\">\n",
       "      <th></th>\n",
       "      <th>timestamp</th>\n",
       "      <th>person</th>\n",
       "      <th>url</th>\n",
       "      <th>campaign_source</th>\n",
       "    </tr>\n",
       "  </thead>\n",
       "  <tbody>\n",
       "    <tr>\n",
       "      <th>0</th>\n",
       "      <td>2018-05-31 23:38:05</td>\n",
       "      <td>0004b0a2</td>\n",
       "      <td>/comprar/iphone/iphone-5s</td>\n",
       "      <td>criteo</td>\n",
       "    </tr>\n",
       "    <tr>\n",
       "      <th>6</th>\n",
       "      <td>2018-05-29 13:29:27</td>\n",
       "      <td>0006a21a</td>\n",
       "      <td>/comprar/samsung/galaxy-s8</td>\n",
       "      <td>criteo</td>\n",
       "    </tr>\n",
       "    <tr>\n",
       "      <th>11</th>\n",
       "      <td>2018-04-09 20:12:31</td>\n",
       "      <td>000a54b2</td>\n",
       "      <td>/</td>\n",
       "      <td>google</td>\n",
       "    </tr>\n",
       "    <tr>\n",
       "      <th>15</th>\n",
       "      <td>2018-05-24 11:21:07</td>\n",
       "      <td>000a54b2</td>\n",
       "      <td>/</td>\n",
       "      <td>google</td>\n",
       "    </tr>\n",
       "    <tr>\n",
       "      <th>99</th>\n",
       "      <td>2018-05-17 00:08:56</td>\n",
       "      <td>0019c395</td>\n",
       "      <td>/comprar/samsung/galaxy-j5</td>\n",
       "      <td>google</td>\n",
       "    </tr>\n",
       "  </tbody>\n",
       "</table>\n",
       "</div>"
      ],
      "text/plain": [
       "             timestamp    person                         url campaign_source\n",
       "0  2018-05-31 23:38:05  0004b0a2   /comprar/iphone/iphone-5s          criteo\n",
       "6  2018-05-29 13:29:27  0006a21a  /comprar/samsung/galaxy-s8          criteo\n",
       "11 2018-04-09 20:12:31  000a54b2                           /          google\n",
       "15 2018-05-24 11:21:07  000a54b2                           /          google\n",
       "99 2018-05-17 00:08:56  0019c395  /comprar/samsung/galaxy-j5          google"
      ]
     },
     "execution_count": 10,
     "metadata": {},
     "output_type": "execute_result"
    }
   ],
   "source": [
    "campain_hit = campain_hit[['timestamp','person','url','campaign_source']]\n",
    "campain_hit.head()"
   ]
  },
  {
   "cell_type": "code",
   "execution_count": 11,
   "metadata": {},
   "outputs": [
    {
     "data": {
      "text/plain": [
       "google              58153\n",
       "criteo               9694\n",
       "rtbhouse             8550\n",
       "zanox                1673\n",
       "emblue               1352\n",
       "FacebookAds           764\n",
       "afilio                692\n",
       "bing                  484\n",
       "voxus                 432\n",
       "rakuten               310\n",
       "indexa                154\n",
       "buscape               141\n",
       "manifest              126\n",
       "Facebook               77\n",
       "datacrush              60\n",
       "blog                   37\n",
       "afiliado               34\n",
       "yotpo                  25\n",
       "mercadopago            18\n",
       "FacebookSocial          8\n",
       "MARKETING SOCIAL        7\n",
       "onsite                  3\n",
       "Google Social           1\n",
       "socialmedia             1\n",
       "Name: campaign_source, dtype: int64"
      ]
     },
     "execution_count": 11,
     "metadata": {},
     "output_type": "execute_result"
    }
   ],
   "source": [
    "campain_hit['campaign_source'].value_counts()\n",
    "#abria que hacer algun grafico pero se puede ver que la campaña de publicidad que mas ayuda es google y apartir de manifest habria que evaluar\n",
    "#cuanto hay que pagar por la campaña ya que no atrae muchas visitas"
   ]
  },
  {
   "cell_type": "markdown",
   "metadata": {},
   "source": [
    "## Productos y marcas mas buscadas"
   ]
  },
  {
   "cell_type": "code",
   "execution_count": 12,
   "metadata": {},
   "outputs": [],
   "source": [
    "#que es lo que la gente busca, se podria hacer un top 15 de marcas y modelos\n",
    "searched_products = events[events['event'] == 'searched products']\n",
    "searched_products = searched_products[['person','search_term']]"
   ]
  },
  {
   "cell_type": "code",
   "execution_count": 13,
   "metadata": {},
   "outputs": [
    {
     "data": {
      "text/plain": [
       "False    48967\n",
       "True      7106\n",
       "Name: search_term, dtype: int64"
      ]
     },
     "execution_count": 13,
     "metadata": {},
     "output_type": "execute_result"
    }
   ],
   "source": [
    "searched_products['search_term'].isnull().value_counts() #que vamos a hacer con estas busquedas que son null? "
   ]
  },
  {
   "cell_type": "code",
   "execution_count": 84,
   "metadata": {},
   "outputs": [
    {
     "data": {
      "text/plain": [
       "Text(0,0.5,'Modelos')"
      ]
     },
     "execution_count": 84,
     "metadata": {},
     "output_type": "execute_result"
    },
    {
     "data": {
      "image/png": "[encoded data removed]",
      "text/plain": [
       "<Figure size 432x432 with 1 Axes>"
      ]
     },
     "metadata": {},
     "output_type": "display_data"
    }
   ],
   "source": [
    "busquedas = searched_products['search_term'].dropna().map(lambda x: x.lower()).value_counts().head(15)\n",
    "g = plt.subplots(figsize = (6,6))\n",
    "g = busquedas.plot(kind = 'barh',color='red')\n",
    "g.set_title('Top 15 modelos mas buscados',fontsize = 18)\n",
    "g.set_xlabel('Cantidad',fontsize = 14)\n",
    "g.set_ylabel('Modelos',fontsize = 14)"
   ]
  },
  {
   "cell_type": "code",
   "execution_count": 15,
   "metadata": {},
   "outputs": [
    {
     "data": {
      "text/plain": [
       "iPhone      18981\n",
       "Samsung     14636\n",
       "Otro         8369\n",
       "Motorola     5786\n",
       "LG           1195\n",
       "Name: search_term, dtype: int64"
      ]
     },
     "execution_count": 15,
     "metadata": {},
     "output_type": "execute_result"
    }
   ],
   "source": [
    "#el diccionario esta hecho a mano, vi las primeras posiciones y de ahi arme el diccionario, se podria pensar algo mejor. \n",
    "#no vi por ahora alguna funcion que haga la que defini, por ahi hay algo hecho pero no encontre\n",
    "marcas = {'iPhone':['iphone','7s','6s','5se','5c','iphone se'], 'Samsung':['j1','j2','j3','j4','j5','j6','j7','galaxy','s7','s6','s5','s8','s9','samsung'], 'Motorola':['moto'],'LG':['lg']}\n",
    "def asignar_marca(modelo):\n",
    "    for marca in marcas:\n",
    "        for m in marcas[marca]:\n",
    "            if m in modelo:\n",
    "                return marca\n",
    "    return 'Otro'\n",
    "marcas_buscadas = searched_products['search_term'].dropna().map(lambda x: asignar_marca(x.lower())).value_counts()\n",
    "marcas_buscadas #creo que es bastante que queden 8000 en otro"
   ]
  },
  {
   "cell_type": "code",
   "execution_count": 83,
   "metadata": {},
   "outputs": [
    {
     "data": {
      "text/plain": [
       "Text(0,0.5,'Cantidad')"
      ]
     },
     "execution_count": 83,
     "metadata": {},
     "output_type": "execute_result"
    },
    {
     "data": {
      "image/png": "[encoded data removed]",
      "text/plain": [
       "<Figure size 432x288 with 1 Axes>"
      ]
     },
     "metadata": {},
     "output_type": "display_data"
    }
   ],
   "source": [
    "g = sns.barplot(x= marcas_buscadas.index, y=marcas_buscadas.values, orient= 'v',color='red')\n",
    "g.set_title('Cantidad de busquedas segun la marca del modelo',fontsize = 18)\n",
    "g.set_xlabel('Marcas',fontsize = 14)\n",
    "g.set_ylabel('Cantidad',fontsize = 14)"
   ]
  },
  {
   "cell_type": "markdown",
   "metadata": {},
   "source": [
    "## Checkout"
   ]
  },
  {
   "cell_type": "code",
   "execution_count": 78,
   "metadata": {},
   "outputs": [
    {
     "data": {
      "text/html": [
       "<div>\n",
       "<style scoped>\n",
       "    .dataframe tbody tr th:only-of-type {\n",
       "        vertical-align: middle;\n",
       "    }\n",
       "\n",
       "    .dataframe tbody tr th {\n",
       "        vertical-align: top;\n",
       "    }\n",
       "\n",
       "    .dataframe thead th {\n",
       "        text-align: right;\n",
       "    }\n",
       "</style>\n",
       "<table border=\"1\" class=\"dataframe\">\n",
       "  <thead>\n",
       "    <tr style=\"text-align: right;\">\n",
       "      <th></th>\n",
       "      <th>timestamp</th>\n",
       "      <th>person</th>\n",
       "      <th>model</th>\n",
       "      <th>condition</th>\n",
       "      <th>storage</th>\n",
       "      <th>color</th>\n",
       "    </tr>\n",
       "  </thead>\n",
       "  <tbody>\n",
       "    <tr>\n",
       "      <th>3</th>\n",
       "      <td>2018-05-31 23:38:40</td>\n",
       "      <td>0004b0a2</td>\n",
       "      <td>iPhone 5s</td>\n",
       "      <td>Bom</td>\n",
       "      <td>32GB</td>\n",
       "      <td>Cinza espacial</td>\n",
       "    </tr>\n",
       "    <tr>\n",
       "      <th>7</th>\n",
       "      <td>2018-05-29 13:29:35</td>\n",
       "      <td>0006a21a</td>\n",
       "      <td>Samsung Galaxy S8</td>\n",
       "      <td>Bom</td>\n",
       "      <td>64GB</td>\n",
       "      <td>Dourado</td>\n",
       "    </tr>\n",
       "    <tr>\n",
       "      <th>44</th>\n",
       "      <td>2018-05-24 11:34:32</td>\n",
       "      <td>000a54b2</td>\n",
       "      <td>Motorola Moto Z Play</td>\n",
       "      <td>Bom</td>\n",
       "      <td>32GB</td>\n",
       "      <td>Preto</td>\n",
       "    </tr>\n",
       "    <tr>\n",
       "      <th>85</th>\n",
       "      <td>2018-04-06 05:14:58</td>\n",
       "      <td>00184bf9</td>\n",
       "      <td>Samsung Galaxy J5</td>\n",
       "      <td>Excelente</td>\n",
       "      <td>16GB</td>\n",
       "      <td>Preto</td>\n",
       "    </tr>\n",
       "    <tr>\n",
       "      <th>86</th>\n",
       "      <td>2018-04-06 05:18:15</td>\n",
       "      <td>00184bf9</td>\n",
       "      <td>Samsung Galaxy J5</td>\n",
       "      <td>Excelente</td>\n",
       "      <td>16GB</td>\n",
       "      <td>Preto</td>\n",
       "    </tr>\n",
       "  </tbody>\n",
       "</table>\n",
       "</div>"
      ],
      "text/plain": [
       "             timestamp    person                 model  condition storage  \\\n",
       "3  2018-05-31 23:38:40  0004b0a2             iPhone 5s        Bom    32GB   \n",
       "7  2018-05-29 13:29:35  0006a21a     Samsung Galaxy S8        Bom    64GB   \n",
       "44 2018-05-24 11:34:32  000a54b2  Motorola Moto Z Play        Bom    32GB   \n",
       "85 2018-04-06 05:14:58  00184bf9     Samsung Galaxy J5  Excelente    16GB   \n",
       "86 2018-04-06 05:18:15  00184bf9     Samsung Galaxy J5  Excelente    16GB   \n",
       "\n",
       "             color  \n",
       "3   Cinza espacial  \n",
       "7          Dourado  \n",
       "44           Preto  \n",
       "85           Preto  \n",
       "86           Preto  "
      ]
     },
     "execution_count": 78,
     "metadata": {},
     "output_type": "execute_result"
    }
   ],
   "source": [
    "checkout = events[events['event'] == 'checkout']\n",
    "checkout = checkout[['timestamp', 'person','model','condition','storage','color']]\n",
    "checkout.head()"
   ]
  },
  {
   "cell_type": "code",
   "execution_count": 82,
   "metadata": {},
   "outputs": [
    {
     "data": {
      "text/plain": [
       "[Text(0,0,'16GB'),\n",
       " Text(0,0,'32GB'),\n",
       " Text(0,0,'64GB'),\n",
       " Text(0,0,'8GB'),\n",
       " Text(0,0,'128GB'),\n",
       " Text(0,0,'4GB'),\n",
       " Text(0,0,'256GB'),\n",
       " Text(0,0,'512MB')]"
      ]
     },
     "execution_count": 82,
     "metadata": {},
     "output_type": "execute_result"
    },
    {
     "data": {
      "image/png": "[encoded data removed]",
      "text/plain": [
       "<Figure size 432x288 with 1 Axes>"
      ]
     },
     "metadata": {},
     "output_type": "display_data"
    }
   ],
   "source": [
    "g = checkout['storage'].value_counts().plot(kind = 'bar', color='red')\n",
    "g.set_title('Capacidades de los telefonos comprados',fontsize = 18)\n",
    "g.set_xlabel('Capacidad',fontsize = 14)\n",
    "g.set_ylabel('Cantidad',fontsize = 14)\n",
    "g.set_xticklabels(g.get_xticklabels(), rotation = 45, fontsize = 10)"
   ]
  },
  {
   "cell_type": "markdown",
   "metadata": {},
   "source": [
    "Se puede ver que los telefonos de 16GB/32GB/64GB/128GB son los mas comprados, mientras que los de menor capacidad no tiene una alta demanda, se recomienda tener mas stock de estos telefonos"
   ]
  },
  {
   "cell_type": "code",
   "execution_count": 81,
   "metadata": {},
   "outputs": [
    {
     "data": {
      "text/plain": [
       "Text(0,0.5,'Modelos')"
      ]
     },
     "execution_count": 81,
     "metadata": {},
     "output_type": "execute_result"
    },
    {
     "data": {
      "image/png": "[encoded data removed]",
      "text/plain": [
       "<Figure size 432x432 with 1 Axes>"
      ]
     },
     "metadata": {},
     "output_type": "display_data"
    }
   ],
   "source": [
    "compras = checkout['model'].value_counts().head(15)\n",
    "g = plt.subplots(figsize = (6,6))\n",
    "g = compras.plot(kind = 'barh', color = 'red')\n",
    "g.set_title('Top 15 de modelos mas comprados',fontsize = 18)\n",
    "g.set_xlabel('Cantidad',fontsize = 14)\n",
    "g.set_ylabel('Modelos',fontsize = 14) #Estaria bueno superponer este grafico con el otro para compara el ranking de busqueda contra compra\n",
    "                                      #y sacar conclusiones"
   ]
  },
  {
   "cell_type": "markdown",
   "metadata": {},
   "source": [
    "Al igual que los modelos mas buscados, los iPhone son los telefonos mas demandados. En segundo lugar estan los Samsung galazy S7, S8 y J5. "
   ]
  },
  {
   "cell_type": "code",
   "execution_count": 20,
   "metadata": {},
   "outputs": [],
   "source": [
    "#Se podria analizar las marcas y comparar tambien\n",
    "#Conviene hacer un grafico de los modelos mas comprados teniendo en cuenta sus capacidades?"
   ]
  },
  {
   "cell_type": "markdown",
   "metadata": {},
   "source": [
    "#### ¿Los clientes quedan conformes con el servicio brindado?"
   ]
  },
  {
   "cell_type": "code",
   "execution_count": 21,
   "metadata": {},
   "outputs": [],
   "source": [
    "checkout['person'].value_counts().mean() #en promedio la persona que compro una ves no esta volviendo a comprar, se esta haciendo\n",
    "                                         #poca publicidad sobre la gente que ya compro? Estan quedando satisfechos con el servicio?\n",
    "#se podria hacer un grafico de la cantidad de personas que compraron 1,2,3...,n veces"
   ]
  },
  {
   "cell_type": "markdown",
   "metadata": {},
   "source": [
    "g = checkout['person'].value_counts().value_counts().sort_index().plot(kind = 'bar', color='red')\n",
    "g.set_title('Cantidad de clientes vs compras hechas por cada cliente',fontsize = 18)\n",
    "g.set_xlabel('Cantidad de compras',fontsize = 14)\n",
    "g.set_ylabel('Cantidad de clientes',fontsize = 14)"
   ]
  },
  {
   "cell_type": "markdown",
   "metadata": {},
   "source": [
    "Se puede ver en el grafico que la gran mayoria de los compadores no vuelven a comprar, se podria realizar algun tipo de encuesta para saber si quedan satisfechos con el serviocio brindado"
   ]
  },
  {
   "cell_type": "code",
   "execution_count": 113,
   "metadata": {},
   "outputs": [
    {
     "data": {
      "text/plain": [
       "1.22122067767159"
      ]
     },
     "execution_count": 113,
     "metadata": {},
     "output_type": "execute_result"
    }
   ],
   "source": [
    "checkout['person'].value_counts().mean()"
   ]
  },
  {
   "cell_type": "code",
   "execution_count": null,
   "metadata": {},
   "outputs": [],
   "source": [
    "#"
   ]
  },
  {
   "cell_type": "markdown",
   "metadata": {},
   "source": [
    "#### ¿Cuando hay mayor actividad en las ventas a lo largo del mes?"
   ]
  },
  {
   "cell_type": "code",
   "execution_count": 86,
   "metadata": {},
   "outputs": [
    {
     "data": {
      "text/plain": [
       "Text(0,0.5,'Dia')"
      ]
     },
     "execution_count": 86,
     "metadata": {},
     "output_type": "execute_result"
    },
    {
     "data": {
      "image/png": "[encoded data removed]",
      "text/plain": [
       "<Figure size 432x432 with 1 Axes>"
      ]
     },
     "metadata": {},
     "output_type": "display_data"
    }
   ],
   "source": [
    "compras = checkout['timestamp'].dt.day.value_counts().sort_index()\n",
    "g = plt.subplots(figsize = (6,6))\n",
    "g = compras.plot(color='red')\n",
    "g.set_title('Compras a lo largo del mes',fontsize = 20)\n",
    "g.set_xlabel('Cantidad',fontsize = 16)\n",
    "g.set_ylabel('Dia',fontsize = 16)"
   ]
  },
  {
   "cell_type": "code",
   "execution_count": 55,
   "metadata": {},
   "outputs": [],
   "source": [
    "#Sacar concluciones"
   ]
  },
  {
   "cell_type": "code",
   "execution_count": 110,
   "metadata": {},
   "outputs": [
    {
     "data": {
      "text/plain": [
       "2018    33735\n",
       "Name: timestamp, dtype: int64"
      ]
     },
     "execution_count": 110,
     "metadata": {},
     "output_type": "execute_result"
    }
   ],
   "source": [
    "#Se puede hacer las compras a lo largo del año\n",
    "checkout['timestamp'].dt.year.value_counts()"
   ]
  },
  {
   "cell_type": "markdown",
   "metadata": {},
   "source": [
    "## Trafico de la pagina"
   ]
  },
  {
   "cell_type": "code",
   "execution_count": 24,
   "metadata": {},
   "outputs": [
    {
     "data": {
      "text/html": [
       "<div>\n",
       "<style scoped>\n",
       "    .dataframe tbody tr th:only-of-type {\n",
       "        vertical-align: middle;\n",
       "    }\n",
       "\n",
       "    .dataframe tbody tr th {\n",
       "        vertical-align: top;\n",
       "    }\n",
       "\n",
       "    .dataframe thead th {\n",
       "        text-align: right;\n",
       "    }\n",
       "</style>\n",
       "<table border=\"1\" class=\"dataframe\">\n",
       "  <thead>\n",
       "    <tr style=\"text-align: right;\">\n",
       "      <th></th>\n",
       "      <th>dia</th>\n",
       "      <th>hora</th>\n",
       "    </tr>\n",
       "  </thead>\n",
       "  <tbody>\n",
       "    <tr>\n",
       "      <th>0</th>\n",
       "      <td>Thursday</td>\n",
       "      <td>23</td>\n",
       "    </tr>\n",
       "    <tr>\n",
       "      <th>1</th>\n",
       "      <td>Thursday</td>\n",
       "      <td>23</td>\n",
       "    </tr>\n",
       "    <tr>\n",
       "      <th>2</th>\n",
       "      <td>Thursday</td>\n",
       "      <td>23</td>\n",
       "    </tr>\n",
       "    <tr>\n",
       "      <th>3</th>\n",
       "      <td>Thursday</td>\n",
       "      <td>23</td>\n",
       "    </tr>\n",
       "    <tr>\n",
       "      <th>4</th>\n",
       "      <td>Tuesday</td>\n",
       "      <td>13</td>\n",
       "    </tr>\n",
       "  </tbody>\n",
       "</table>\n",
       "</div>"
      ],
      "text/plain": [
       "        dia  hora\n",
       "0  Thursday    23\n",
       "1  Thursday    23\n",
       "2  Thursday    23\n",
       "3  Thursday    23\n",
       "4   Tuesday    13"
      ]
     },
     "execution_count": 24,
     "metadata": {},
     "output_type": "execute_result"
    }
   ],
   "source": [
    "dia_vs_hora = pd.DataFrame({'dia': events['timestamp'].dt.weekday_name,'hora':events['timestamp'].dt.hour})\n",
    "dia_vs_hora.head()"
   ]
  },
  {
   "cell_type": "code",
   "execution_count": 25,
   "metadata": {},
   "outputs": [
    {
     "data": {
      "text/html": [
       "<div>\n",
       "<style scoped>\n",
       "    .dataframe tbody tr th:only-of-type {\n",
       "        vertical-align: middle;\n",
       "    }\n",
       "\n",
       "    .dataframe tbody tr th {\n",
       "        vertical-align: top;\n",
       "    }\n",
       "\n",
       "    .dataframe thead th {\n",
       "        text-align: right;\n",
       "    }\n",
       "</style>\n",
       "<table border=\"1\" class=\"dataframe\">\n",
       "  <thead>\n",
       "    <tr style=\"text-align: right;\">\n",
       "      <th></th>\n",
       "      <th>dia</th>\n",
       "      <th>hora</th>\n",
       "      <th>visitas</th>\n",
       "    </tr>\n",
       "  </thead>\n",
       "  <tbody>\n",
       "    <tr>\n",
       "      <th>0</th>\n",
       "      <td>Friday</td>\n",
       "      <td>0</td>\n",
       "      <td>10357</td>\n",
       "    </tr>\n",
       "    <tr>\n",
       "      <th>1</th>\n",
       "      <td>Friday</td>\n",
       "      <td>1</td>\n",
       "      <td>8485</td>\n",
       "    </tr>\n",
       "    <tr>\n",
       "      <th>2</th>\n",
       "      <td>Friday</td>\n",
       "      <td>2</td>\n",
       "      <td>7491</td>\n",
       "    </tr>\n",
       "    <tr>\n",
       "      <th>3</th>\n",
       "      <td>Friday</td>\n",
       "      <td>3</td>\n",
       "      <td>5387</td>\n",
       "    </tr>\n",
       "    <tr>\n",
       "      <th>4</th>\n",
       "      <td>Friday</td>\n",
       "      <td>4</td>\n",
       "      <td>2982</td>\n",
       "    </tr>\n",
       "  </tbody>\n",
       "</table>\n",
       "</div>"
      ],
      "text/plain": [
       "      dia  hora  visitas\n",
       "0  Friday     0    10357\n",
       "1  Friday     1     8485\n",
       "2  Friday     2     7491\n",
       "3  Friday     3     5387\n",
       "4  Friday     4     2982"
      ]
     },
     "execution_count": 25,
     "metadata": {},
     "output_type": "execute_result"
    }
   ],
   "source": [
    "dias_vs_horas = pd.DataFrame(dia_vs_hora.groupby('dia')['hora'].value_counts().sort_index())\n",
    "dias_vs_horas = dias_vs_horas.rename(columns = {'hora':'visitas'}) \n",
    "dias_vs_horas = dias_vs_horas.reset_index()\n",
    "dias_vs_horas.head()"
   ]
  },
  {
   "cell_type": "code",
   "execution_count": 26,
   "metadata": {},
   "outputs": [
    {
     "data": {
      "text/html": [
       "<div>\n",
       "<style scoped>\n",
       "    .dataframe tbody tr th:only-of-type {\n",
       "        vertical-align: middle;\n",
       "    }\n",
       "\n",
       "    .dataframe tbody tr th {\n",
       "        vertical-align: top;\n",
       "    }\n",
       "\n",
       "    .dataframe thead th {\n",
       "        text-align: right;\n",
       "    }\n",
       "</style>\n",
       "<table border=\"1\" class=\"dataframe\">\n",
       "  <thead>\n",
       "    <tr style=\"text-align: right;\">\n",
       "      <th>dia</th>\n",
       "      <th>Monday</th>\n",
       "      <th>Tuesday</th>\n",
       "      <th>Wednesday</th>\n",
       "      <th>Thursday</th>\n",
       "      <th>Friday</th>\n",
       "      <th>Saturday</th>\n",
       "      <th>Sunday</th>\n",
       "    </tr>\n",
       "    <tr>\n",
       "      <th>hora</th>\n",
       "      <th></th>\n",
       "      <th></th>\n",
       "      <th></th>\n",
       "      <th></th>\n",
       "      <th></th>\n",
       "      <th></th>\n",
       "      <th></th>\n",
       "    </tr>\n",
       "  </thead>\n",
       "  <tbody>\n",
       "    <tr>\n",
       "      <th>0</th>\n",
       "      <td>6858</td>\n",
       "      <td>11122</td>\n",
       "      <td>10422</td>\n",
       "      <td>10155</td>\n",
       "      <td>10357</td>\n",
       "      <td>9211</td>\n",
       "      <td>6253</td>\n",
       "    </tr>\n",
       "    <tr>\n",
       "      <th>1</th>\n",
       "      <td>6578</td>\n",
       "      <td>10618</td>\n",
       "      <td>9727</td>\n",
       "      <td>9680</td>\n",
       "      <td>8485</td>\n",
       "      <td>7600</td>\n",
       "      <td>6290</td>\n",
       "    </tr>\n",
       "    <tr>\n",
       "      <th>2</th>\n",
       "      <td>5068</td>\n",
       "      <td>8604</td>\n",
       "      <td>7747</td>\n",
       "      <td>7807</td>\n",
       "      <td>7491</td>\n",
       "      <td>6535</td>\n",
       "      <td>5284</td>\n",
       "    </tr>\n",
       "    <tr>\n",
       "      <th>3</th>\n",
       "      <td>3226</td>\n",
       "      <td>5380</td>\n",
       "      <td>5316</td>\n",
       "      <td>5599</td>\n",
       "      <td>5387</td>\n",
       "      <td>4560</td>\n",
       "      <td>3650</td>\n",
       "    </tr>\n",
       "    <tr>\n",
       "      <th>4</th>\n",
       "      <td>2002</td>\n",
       "      <td>3453</td>\n",
       "      <td>2529</td>\n",
       "      <td>2938</td>\n",
       "      <td>2982</td>\n",
       "      <td>2580</td>\n",
       "      <td>2354</td>\n",
       "    </tr>\n",
       "  </tbody>\n",
       "</table>\n",
       "</div>"
      ],
      "text/plain": [
       "dia   Monday  Tuesday  Wednesday  Thursday  Friday  Saturday  Sunday\n",
       "hora                                                                \n",
       "0       6858    11122      10422     10155   10357      9211    6253\n",
       "1       6578    10618       9727      9680    8485      7600    6290\n",
       "2       5068     8604       7747      7807    7491      6535    5284\n",
       "3       3226     5380       5316      5599    5387      4560    3650\n",
       "4       2002     3453       2529      2938    2982      2580    2354"
      ]
     },
     "execution_count": 26,
     "metadata": {},
     "output_type": "execute_result"
    }
   ],
   "source": [
    "dias_vs_horas = dias_vs_horas.pivot('hora','dia','visitas')\n",
    "dias_vs_horas = dias_vs_horas[['Monday','Tuesday','Wednesday','Thursday','Friday','Saturday','Sunday']]\n",
    "dias_vs_horas.head()"
   ]
  },
  {
   "cell_type": "code",
   "execution_count": 27,
   "metadata": {},
   "outputs": [
    {
     "data": {
      "image/png": "[encoded data removed]",
      "text/plain": [
       "<Figure size 1152x576 with 2 Axes>"
      ]
     },
     "metadata": {},
     "output_type": "display_data"
    }
   ],
   "source": [
    "plt.figure(figsize = (16,8))\n",
    "ax = sns.heatmap(dias_vs_horas,linewidth = 3)\n",
    "ax.set_title('Trafico por dias de la semana',Fontsize = 20)\n",
    "ax.set_xlabel('Dia de la semana',Fontsize = 18)\n",
    "ax.set_ylabel('Horario',fontsize = 18);"
   ]
  },
  {
   "cell_type": "markdown",
   "metadata": {},
   "source": [
    "Se puede observar que el mayor trafico ocurre de Lunes a Viernes apartir de las 12pm hasta la 1am del dia siguiente. En caso de tener que hacer alguna migracion o matenimiento de la pagina seria conveniente hacerlo entre las 3am-9am."
   ]
  },
  {
   "cell_type": "code",
   "execution_count": 28,
   "metadata": {},
   "outputs": [],
   "source": [
    "#Se puede investigar mas sobre los tipos de evento y las fechas, ej es verdad que a principio de mes la gente suele comprar mas? \n",
    "#si es asi, conviene hacer mas publicidad?"
   ]
  },
  {
   "cell_type": "code",
   "execution_count": null,
   "metadata": {},
   "outputs": [],
   "source": []
  },
  {
   "cell_type": "code",
   "execution_count": null,
   "metadata": {},
   "outputs": [],
   "source": []
  }
 ],
 "metadata": {
  "kernelspec": {
   "display_name": "Python 3",
   "language": "python",
   "name": "python3"
  },
  "language_info": {
   "codemirror_mode": {
    "name": "ipython",
    "version": 3
   },
   "file_extension": ".py",
   "mimetype": "text/x-python",
   "name": "python",
   "nbconvert_exporter": "python",
   "pygments_lexer": "ipython3",
   "version": "3.5.2"
  }
 },
 "nbformat": 4,
 "nbformat_minor": 2
}
